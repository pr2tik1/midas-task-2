{
 "cells": [
  {
   "cell_type": "markdown",
   "id": "soviet-criterion",
   "metadata": {
    "id": "kzeU5N8aB5J4",
    "papermill": {
     "duration": 0.042971,
     "end_time": "2021-04-10T20:49:29.411985",
     "exception": false,
     "start_time": "2021-04-10T20:49:29.369014",
     "status": "completed"
    },
    "tags": []
   },
   "source": [
    "# Character Recognition\n",
    "---\n",
    "> Image Classification using convolution neural networks. Author: [Pratik Kumar](https://pr2tik1.github.io)<br>Submitted to: [MIDAS Labs](http://midas.iiitd.edu.in)\n",
    "\n",
    "## Objective\n",
    "\n",
    "This notebook is divided into three sections with respect to the tasks:\n",
    "\n",
    "1. Section A :  \n",
    "\n",
    "> Use this [dataset](https://www.dropbox.com/s/pan6mutc5xj5kj0/trainPart1.zip) to train a\n",
    "CNN. Use no other data source or pretrained networks, and explain your design choices during preprocessing, model building and training. Also, cite the sources you used to\n",
    "borrow techniques. A test set will be provided later to judge the performance of your\n",
    "classifier. \n",
    "\n",
    "2. Section B:\n",
    "\n",
    ">Next, select only 0-9 training images from the above dataset, and use the pretrained\n",
    "network to train on MNIST dataset. Use the standard MNIST train and test splits\n",
    "(http://yann.lecun.com/exdb/mnist/). How does this pretrained network perform in\n",
    "comparison to a randomly initialized network in terms of convergence time, final\n",
    "accuracy and other possible training quality metrics? Do a thorough analysis. \n",
    "\n",
    "3. Section C: \n",
    "\n",
    ">Finally, take the following dataset\n",
    "(https://www.dropbox.com/s/otc12z2w7f7xm8z/mnistTask3.zip), train on this dataset and\n",
    "provide test accuracy on the MNIST test set, using the same test split from part 2. Train\n",
    "using scratch random initialization and using the pretrained network part 1. Do the same\n",
    "analysis as 2 and report what happens this time. Try and do qualitative analysis of what's\n",
    "different in this dataset. "
   ]
  },
  {
   "cell_type": "markdown",
   "id": "front-interim",
   "metadata": {
    "papermill": {
     "duration": 0.041466,
     "end_time": "2021-04-10T20:49:29.494642",
     "exception": false,
     "start_time": "2021-04-10T20:49:29.453176",
     "status": "completed"
    },
    "tags": []
   },
   "source": [
    "# Section A: **Character Images Classification**\n",
    "---"
   ]
  },
  {
   "cell_type": "markdown",
   "id": "inclusive-cover",
   "metadata": {
    "id": "-El4QDZ6B5KH",
    "papermill": {
     "duration": 0.040907,
     "end_time": "2021-04-10T20:49:29.577138",
     "exception": false,
     "start_time": "2021-04-10T20:49:29.536231",
     "status": "completed"
    },
    "tags": []
   },
   "source": [
    "## A.1. Importing Modules\n",
    "\n",
    "To develop and train a convolution neural network architecture, I have used PyTorch framework. Along with this OpenCV, numpy, pandas and matplotlib for image data handling and plotting are used. In this section we will importing all necessary modules.  "
   ]
  },
  {
   "cell_type": "code",
   "execution_count": 1,
   "id": "optional-million",
   "metadata": {
    "execution": {
     "iopub.execute_input": "2021-04-10T20:49:29.665683Z",
     "iopub.status.busy": "2021-04-10T20:49:29.665122Z",
     "iopub.status.idle": "2021-04-10T20:49:37.176220Z",
     "shell.execute_reply": "2021-04-10T20:49:37.174746Z"
    },
    "papermill": {
     "duration": 7.558087,
     "end_time": "2021-04-10T20:49:37.176391",
     "exception": false,
     "start_time": "2021-04-10T20:49:29.618304",
     "status": "completed"
    },
    "tags": []
   },
   "outputs": [
    {
     "name": "stdout",
     "output_type": "stream",
     "text": [
      "Collecting torchsummary\r\n",
      "  Downloading torchsummary-1.5.1-py3-none-any.whl (2.8 kB)\r\n",
      "Installing collected packages: torchsummary\r\n",
      "Successfully installed torchsummary-1.5.1\r\n"
     ]
    }
   ],
   "source": [
    "#One time installation\n",
    "!pip install torchsummary"
   ]
  },
  {
   "cell_type": "code",
   "execution_count": 2,
   "id": "favorite-cooling",
   "metadata": {
    "execution": {
     "iopub.execute_input": "2021-04-10T20:49:37.269846Z",
     "iopub.status.busy": "2021-04-10T20:49:37.269024Z",
     "iopub.status.idle": "2021-04-10T20:49:39.615464Z",
     "shell.execute_reply": "2021-04-10T20:49:39.614460Z"
    },
    "id": "rLlMNjHYB5KI",
    "papermill": {
     "duration": 2.395959,
     "end_time": "2021-04-10T20:49:39.615608",
     "exception": false,
     "start_time": "2021-04-10T20:49:37.219649",
     "status": "completed"
    },
    "tags": []
   },
   "outputs": [],
   "source": [
    "import random\n",
    "import copy\n",
    "import time \n",
    "import pandas as pd \n",
    "from PIL import Image\n",
    "from torchsummary import summary\n",
    "\n",
    "\n",
    "import torch\n",
    "import torchvision\n",
    "import torch.optim as optim\n",
    "import torch.utils.data as data\n",
    "import torchvision.datasets as datasets\n",
    "import torchvision.transforms as transforms\n",
    "from torch.utils.data import Dataset, DataLoader\n",
    "from sklearn.model_selection import train_test_split"
   ]
  },
  {
   "cell_type": "code",
   "execution_count": 3,
   "id": "expressed-location",
   "metadata": {
    "execution": {
     "iopub.execute_input": "2021-04-10T20:49:39.705966Z",
     "iopub.status.busy": "2021-04-10T20:49:39.705364Z",
     "iopub.status.idle": "2021-04-10T20:49:39.887184Z",
     "shell.execute_reply": "2021-04-10T20:49:39.886670Z"
    },
    "id": "Tnjv8qEIB5KJ",
    "papermill": {
     "duration": 0.229024,
     "end_time": "2021-04-10T20:49:39.887329",
     "exception": false,
     "start_time": "2021-04-10T20:49:39.658305",
     "status": "completed"
    },
    "tags": []
   },
   "outputs": [],
   "source": [
    "from data import dataset\n",
    "from plotting import plot_loss, plot_images\n",
    "from model import Net\n",
    "from train import train_model, compute_accuracy, cal_accuracy"
   ]
  },
  {
   "cell_type": "markdown",
   "id": "sized-destruction",
   "metadata": {
    "id": "b6Texa3gB5KK",
    "papermill": {
     "duration": 0.042084,
     "end_time": "2021-04-10T20:49:39.972023",
     "exception": false,
     "start_time": "2021-04-10T20:49:39.929939",
     "status": "completed"
    },
    "tags": []
   },
   "source": [
    "## A.2. Data Preprocessing\n",
    "\n",
    "The initial step is to create a dataframe of labels generated by carefully examining the dataset provided. This Labels.csv is mapped to image with its corresponding labels. This is necessary step for our model to understand classes. PyTorch also provides torchvision.data.ImageFolder() function to   "
   ]
  },
  {
   "cell_type": "markdown",
   "id": "activated-companion",
   "metadata": {
    "papermill": {
     "duration": 0.042905,
     "end_time": "2021-04-10T20:49:40.057427",
     "exception": false,
     "start_time": "2021-04-10T20:49:40.014522",
     "status": "completed"
    },
    "tags": []
   },
   "source": [
    "To change images into vector with normalisation and augmentation, following values are fetched to torchvision.transforms function. We perform: \n",
    "    \n",
    "    - Random Rotations\n",
    "    - Random Resizing and Cropping \n",
    "    - Change Image arrays to Tensor\n",
    "    - Normalize"
   ]
  },
  {
   "cell_type": "code",
   "execution_count": 4,
   "id": "purple-strengthening",
   "metadata": {
    "execution": {
     "iopub.execute_input": "2021-04-10T20:49:40.148696Z",
     "iopub.status.busy": "2021-04-10T20:49:40.147883Z",
     "iopub.status.idle": "2021-04-10T20:49:40.150730Z",
     "shell.execute_reply": "2021-04-10T20:49:40.150327Z"
    },
    "id": "Dyvmj9NHB5KM",
    "papermill": {
     "duration": 0.050565,
     "end_time": "2021-04-10T20:49:40.150855",
     "exception": false,
     "start_time": "2021-04-10T20:49:40.100290",
     "status": "completed"
    },
    "tags": []
   },
   "outputs": [],
   "source": [
    "train_transforms = transforms.Compose([\n",
    "                   transforms.RandomRotation(degrees=45),\n",
    "                   transforms.RandomResizedCrop(64, scale=(0.9, 1.0), ratio=(0.9, 1.1)),\n",
    "                   transforms.ToTensor(),\n",
    "                   transforms.Normalize(mean = [0.5,0.5,0.5], std = [0.5,0.5,0.5])\n",
    "\n",
    "               ])"
   ]
  },
  {
   "cell_type": "markdown",
   "id": "infectious-utility",
   "metadata": {
    "papermill": {
     "duration": 0.042846,
     "end_time": "2021-04-10T20:49:40.236257",
     "exception": false,
     "start_time": "2021-04-10T20:49:40.193411",
     "status": "completed"
    },
    "tags": []
   },
   "source": [
    "Loading custom dataset that returns images and labels. "
   ]
  },
  {
   "cell_type": "code",
   "execution_count": 5,
   "id": "brilliant-apache",
   "metadata": {
    "execution": {
     "iopub.execute_input": "2021-04-10T20:49:40.330239Z",
     "iopub.status.busy": "2021-04-10T20:49:40.329670Z",
     "iopub.status.idle": "2021-04-10T20:49:40.340963Z",
     "shell.execute_reply": "2021-04-10T20:49:40.340473Z"
    },
    "id": "0zdEmG2dB5KN",
    "papermill": {
     "duration": 0.061308,
     "end_time": "2021-04-10T20:49:40.341076",
     "exception": false,
     "start_time": "2021-04-10T20:49:40.279768",
     "status": "completed"
    },
    "tags": []
   },
   "outputs": [],
   "source": [
    "LABELS='data/labels.csv' \n",
    "ROOT = 'data/train'\n",
    "\n",
    "train_data = dataset(csv=LABELS, img_path=ROOT, transform = train_transforms)"
   ]
  },
  {
   "cell_type": "code",
   "execution_count": 6,
   "id": "spatial-spread",
   "metadata": {
    "execution": {
     "iopub.execute_input": "2021-04-10T20:49:40.433600Z",
     "iopub.status.busy": "2021-04-10T20:49:40.432731Z",
     "iopub.status.idle": "2021-04-10T20:49:40.455458Z",
     "shell.execute_reply": "2021-04-10T20:49:40.454967Z"
    },
    "papermill": {
     "duration": 0.070947,
     "end_time": "2021-04-10T20:49:40.455586",
     "exception": false,
     "start_time": "2021-04-10T20:49:40.384639",
     "status": "completed"
    },
    "tags": []
   },
   "outputs": [
    {
     "data": {
      "text/html": [
       "<div>\n",
       "<style scoped>\n",
       "    .dataframe tbody tr th:only-of-type {\n",
       "        vertical-align: middle;\n",
       "    }\n",
       "\n",
       "    .dataframe tbody tr th {\n",
       "        vertical-align: top;\n",
       "    }\n",
       "\n",
       "    .dataframe thead th {\n",
       "        text-align: right;\n",
       "    }\n",
       "</style>\n",
       "<table border=\"1\" class=\"dataframe\">\n",
       "  <thead>\n",
       "    <tr style=\"text-align: right;\">\n",
       "      <th></th>\n",
       "      <th>filenames</th>\n",
       "      <th>labels_code</th>\n",
       "      <th>labels</th>\n",
       "    </tr>\n",
       "  </thead>\n",
       "  <tbody>\n",
       "    <tr>\n",
       "      <th>0</th>\n",
       "      <td>img001-001.png</td>\n",
       "      <td>img001</td>\n",
       "      <td>0</td>\n",
       "    </tr>\n",
       "    <tr>\n",
       "      <th>1</th>\n",
       "      <td>img001-002.png</td>\n",
       "      <td>img001</td>\n",
       "      <td>0</td>\n",
       "    </tr>\n",
       "    <tr>\n",
       "      <th>2</th>\n",
       "      <td>img001-003.png</td>\n",
       "      <td>img001</td>\n",
       "      <td>0</td>\n",
       "    </tr>\n",
       "    <tr>\n",
       "      <th>3</th>\n",
       "      <td>img001-004.png</td>\n",
       "      <td>img001</td>\n",
       "      <td>0</td>\n",
       "    </tr>\n",
       "    <tr>\n",
       "      <th>4</th>\n",
       "      <td>img001-007.png</td>\n",
       "      <td>img001</td>\n",
       "      <td>0</td>\n",
       "    </tr>\n",
       "  </tbody>\n",
       "</table>\n",
       "</div>"
      ],
      "text/plain": [
       "        filenames labels_code  labels\n",
       "0  img001-001.png      img001       0\n",
       "1  img001-002.png      img001       0\n",
       "2  img001-003.png      img001       0\n",
       "3  img001-004.png      img001       0\n",
       "4  img001-007.png      img001       0"
      ]
     },
     "execution_count": 6,
     "metadata": {},
     "output_type": "execute_result"
    }
   ],
   "source": [
    "df=pd.read_csv('data/labels.csv' )\n",
    "df.head()"
   ]
  },
  {
   "cell_type": "markdown",
   "id": "wired-andorra",
   "metadata": {
    "papermill": {
     "duration": 0.043278,
     "end_time": "2021-04-10T20:49:40.542488",
     "exception": false,
     "start_time": "2021-04-10T20:49:40.499210",
     "status": "completed"
    },
    "tags": []
   },
   "source": [
    "Splitting the dataset into training and validation dataset. This is needed to keep track of how our model performs."
   ]
  },
  {
   "cell_type": "code",
   "execution_count": 7,
   "id": "diverse-blowing",
   "metadata": {
    "execution": {
     "iopub.execute_input": "2021-04-10T20:49:40.636283Z",
     "iopub.status.busy": "2021-04-10T20:49:40.635670Z",
     "iopub.status.idle": "2021-04-10T20:49:40.653694Z",
     "shell.execute_reply": "2021-04-10T20:49:40.654088Z"
    },
    "id": "g7bEF_fDB5KP",
    "papermill": {
     "duration": 0.068452,
     "end_time": "2021-04-10T20:49:40.654249",
     "exception": false,
     "start_time": "2021-04-10T20:49:40.585797",
     "status": "completed"
    },
    "tags": []
   },
   "outputs": [],
   "source": [
    "VALID_RATIO = 0.75\n",
    "n_train_examples = int(len(train_data) * VALID_RATIO)\n",
    "n_valid_examples = len(train_data) - n_train_examples\n",
    "train_data, valid_data = data.random_split(train_data,[n_train_examples, n_valid_examples])\n",
    "\n",
    "valid_data = copy.deepcopy(valid_data)\n",
    "valid_data.dataset.transform = train_transforms"
   ]
  },
  {
   "cell_type": "markdown",
   "id": "adjusted-medicine",
   "metadata": {
    "papermill": {
     "duration": 0.043472,
     "end_time": "2021-04-10T20:49:40.741567",
     "exception": false,
     "start_time": "2021-04-10T20:49:40.698095",
     "status": "completed"
    },
    "tags": []
   },
   "source": [
    "The final number of training and validation dataset."
   ]
  },
  {
   "cell_type": "code",
   "execution_count": 8,
   "id": "indirect-pilot",
   "metadata": {
    "execution": {
     "iopub.execute_input": "2021-04-10T20:49:40.833095Z",
     "iopub.status.busy": "2021-04-10T20:49:40.832383Z",
     "iopub.status.idle": "2021-04-10T20:49:40.836280Z",
     "shell.execute_reply": "2021-04-10T20:49:40.836954Z"
    },
    "id": "gA0VwDUTB5KS",
    "outputId": "c372e0d8-1b12-40de-cc22-54ea73bee3f9",
    "papermill": {
     "duration": 0.052166,
     "end_time": "2021-04-10T20:49:40.837143",
     "exception": false,
     "start_time": "2021-04-10T20:49:40.784977",
     "status": "completed"
    },
    "tags": []
   },
   "outputs": [
    {
     "name": "stdout",
     "output_type": "stream",
     "text": [
      "Number of training examples: 1860\n",
      "Number of validation examples: 620\n"
     ]
    }
   ],
   "source": [
    "print(f'Number of training examples: {len(train_data)}')\n",
    "print(f'Number of validation examples: {len(valid_data)}')"
   ]
  },
  {
   "cell_type": "markdown",
   "id": "failing-belfast",
   "metadata": {
    "papermill": {
     "duration": 0.043163,
     "end_time": "2021-04-10T20:49:40.924563",
     "exception": false,
     "start_time": "2021-04-10T20:49:40.881400",
     "status": "completed"
    },
    "tags": []
   },
   "source": [
    "Further we take our tensor datasets and put fetch them into Dataloader with certain batches(BATCH_SIZE). "
   ]
  },
  {
   "cell_type": "code",
   "execution_count": 9,
   "id": "organized-better",
   "metadata": {
    "execution": {
     "iopub.execute_input": "2021-04-10T20:49:41.016319Z",
     "iopub.status.busy": "2021-04-10T20:49:41.015594Z",
     "iopub.status.idle": "2021-04-10T20:49:41.018573Z",
     "shell.execute_reply": "2021-04-10T20:49:41.018015Z"
    },
    "id": "lwyKpuiWB5KT",
    "papermill": {
     "duration": 0.050718,
     "end_time": "2021-04-10T20:49:41.018684",
     "exception": false,
     "start_time": "2021-04-10T20:49:40.967966",
     "status": "completed"
    },
    "tags": []
   },
   "outputs": [],
   "source": [
    "BATCH_SIZE = 256\n",
    "train_iterator = data.DataLoader(train_data,batch_size = BATCH_SIZE)\n",
    "valid_iterator = data.DataLoader(valid_data,batch_size = BATCH_SIZE)"
   ]
  },
  {
   "cell_type": "markdown",
   "id": "rotary-brunei",
   "metadata": {
    "id": "M64QYMrXB5KT",
    "papermill": {
     "duration": 0.043378,
     "end_time": "2021-04-10T20:49:41.106013",
     "exception": false,
     "start_time": "2021-04-10T20:49:41.062635",
     "status": "completed"
    },
    "tags": []
   },
   "source": [
    "## A.3. Images\n",
    "Following are the images after preprocessing steps. The images are of (1200 x 900)px initially, but are processed to (64 x 64)px size and Rotated to 45 degrees. Since the images are png images they have 3 channels."
   ]
  },
  {
   "cell_type": "code",
   "execution_count": 10,
   "id": "adjustable-letter",
   "metadata": {
    "execution": {
     "iopub.execute_input": "2021-04-10T20:49:41.198428Z",
     "iopub.status.busy": "2021-04-10T20:49:41.197723Z",
     "iopub.status.idle": "2021-04-10T20:49:41.217428Z",
     "shell.execute_reply": "2021-04-10T20:49:41.217941Z"
    },
    "papermill": {
     "duration": 0.068194,
     "end_time": "2021-04-10T20:49:41.218090",
     "exception": false,
     "start_time": "2021-04-10T20:49:41.149896",
     "status": "completed"
    },
    "tags": []
   },
   "outputs": [
    {
     "name": "stdout",
     "output_type": "stream",
     "text": [
      "Image Channels and Size:  RGB (1200, 900)\n"
     ]
    }
   ],
   "source": [
    "img_pil = Image.open('data/train/img001-001.png')\n",
    "print('Image Channels and Size: ', img_pil.mode, img_pil.size)"
   ]
  },
  {
   "cell_type": "code",
   "execution_count": 11,
   "id": "constitutional-matthew",
   "metadata": {
    "execution": {
     "iopub.execute_input": "2021-04-10T20:49:41.312605Z",
     "iopub.status.busy": "2021-04-10T20:49:41.311838Z",
     "iopub.status.idle": "2021-04-10T20:49:43.223724Z",
     "shell.execute_reply": "2021-04-10T20:49:43.224143Z"
    },
    "id": "hWsi3FCUB5KT",
    "outputId": "998440dc-8845-49fc-fc79-edbd4dd00f23",
    "papermill": {
     "duration": 1.961976,
     "end_time": "2021-04-10T20:49:43.224300",
     "exception": false,
     "start_time": "2021-04-10T20:49:41.262324",
     "status": "completed"
    },
    "tags": []
   },
   "outputs": [
    {
     "data": {
      "image/png": "[encoded data removed]",
      "text/plain": [
       "<Figure size 720x720 with 25 Axes>"
      ]
     },
     "metadata": {
      "needs_background": "light"
     },
     "output_type": "display_data"
    }
   ],
   "source": [
    "N_IMAGES = 25\n",
    "images, labels = zip(*[(image, label) for image, label in [train_data[i] for i in range(N_IMAGES)]])\n",
    "classes = list(df['labels'].unique())\n",
    "plot_images(images, labels, classes)"
   ]
  },
  {
   "cell_type": "markdown",
   "id": "manual-satellite",
   "metadata": {
    "id": "o8CBS2yFB5KU",
    "papermill": {
     "duration": 0.047529,
     "end_time": "2021-04-10T20:49:43.319262",
     "exception": false,
     "start_time": "2021-04-10T20:49:43.271733",
     "status": "completed"
    },
    "tags": []
   },
   "source": [
    "## A.4. Hyper-parameters and model development\n",
    "\n",
    "In this section setting device to cuda or cpu based upon availablity. Loading the model and setting hyper parameters for training. I have used Cross Entropy loss function which is suitable for multi-class classification tasks. The classes in our task is 10+26+26=62 classes, as we have digits, small letters and capital letters. The updation rule is Adam optimizer with learning rate of 1e-4."
   ]
  },
  {
   "cell_type": "code",
   "execution_count": 12,
   "id": "pending-biodiversity",
   "metadata": {
    "execution": {
     "iopub.execute_input": "2021-04-10T20:49:43.758771Z",
     "iopub.status.busy": "2021-04-10T20:49:43.757907Z",
     "iopub.status.idle": "2021-04-10T20:49:48.237497Z",
     "shell.execute_reply": "2021-04-10T20:49:48.236636Z"
    },
    "id": "aqiDHWPHB5KU",
    "outputId": "6b1a4afa-8daf-4aad-e498-b27020533565",
    "papermill": {
     "duration": 4.870624,
     "end_time": "2021-04-10T20:49:48.237627",
     "exception": false,
     "start_time": "2021-04-10T20:49:43.367003",
     "status": "completed"
    },
    "tags": []
   },
   "outputs": [
    {
     "data": {
      "text/plain": [
       "device(type='cuda')"
      ]
     },
     "execution_count": 12,
     "metadata": {},
     "output_type": "execute_result"
    }
   ],
   "source": [
    "device = torch.device('cuda' if torch.cuda.is_available() else 'cpu')\n",
    "num_epochs = 100\n",
    "model = Net(62)\n",
    "model.to(device)\n",
    "\n",
    "criterion = torch.nn.CrossEntropyLoss()\n",
    "optimizer = torch.optim.Adam(model.parameters(), lr=1e-4)\n",
    "device"
   ]
  },
  {
   "cell_type": "markdown",
   "id": "crazy-formula",
   "metadata": {
    "papermill": {
     "duration": 0.049216,
     "end_time": "2021-04-10T20:49:48.335449",
     "exception": false,
     "start_time": "2021-04-10T20:49:48.286233",
     "status": "completed"
    },
    "tags": []
   },
   "source": [
    "Our model is inspired by AlexNet which was among the early CNNs that performed well in ImageNet Classification Challenge. This has 8 layers: 5 Convolution Layers and 3 Fully Connected Layers. The input to intital convolution layer is 64x64x3 image that are processed into arrays with values ranging from 0 to 1. Final output layer after series of convolution, pooling, and drop outs, yield predictions for the 62 classes.  "
   ]
  },
  {
   "cell_type": "code",
   "execution_count": 13,
   "id": "interracial-lying",
   "metadata": {
    "execution": {
     "iopub.execute_input": "2021-04-10T20:49:48.436858Z",
     "iopub.status.busy": "2021-04-10T20:49:48.436196Z",
     "iopub.status.idle": "2021-04-10T20:49:48.439296Z",
     "shell.execute_reply": "2021-04-10T20:49:48.439740Z"
    },
    "papermill": {
     "duration": 0.056418,
     "end_time": "2021-04-10T20:49:48.439872",
     "exception": false,
     "start_time": "2021-04-10T20:49:48.383454",
     "status": "completed"
    },
    "tags": []
   },
   "outputs": [
    {
     "data": {
      "text/plain": [
       "Net(\n",
       "  (features): Sequential(\n",
       "    (0): Conv2d(3, 64, kernel_size=(11, 11), stride=(4, 4), padding=(2, 2))\n",
       "    (1): ReLU(inplace=True)\n",
       "    (2): MaxPool2d(kernel_size=3, stride=2, padding=0, dilation=1, ceil_mode=False)\n",
       "    (3): Conv2d(64, 192, kernel_size=(5, 5), stride=(1, 1), padding=(2, 2))\n",
       "    (4): ReLU(inplace=True)\n",
       "    (5): MaxPool2d(kernel_size=3, stride=2, padding=0, dilation=1, ceil_mode=False)\n",
       "    (6): Conv2d(192, 384, kernel_size=(3, 3), stride=(1, 1), padding=(1, 1))\n",
       "    (7): ReLU(inplace=True)\n",
       "    (8): Conv2d(384, 256, kernel_size=(3, 3), stride=(1, 1), padding=(1, 1))\n",
       "    (9): ReLU(inplace=True)\n",
       "    (10): Conv2d(256, 256, kernel_size=(3, 3), stride=(1, 1), padding=(1, 1))\n",
       "    (11): ReLU(inplace=True)\n",
       "    (12): MaxPool2d(kernel_size=3, stride=2, padding=0, dilation=1, ceil_mode=False)\n",
       "  )\n",
       "  (avgpool): AdaptiveAvgPool2d(output_size=(6, 6))\n",
       "  (classifier): Sequential(\n",
       "    (0): Dropout(p=0.5, inplace=False)\n",
       "    (1): Linear(in_features=9216, out_features=4096, bias=True)\n",
       "    (2): ReLU(inplace=True)\n",
       "    (3): Dropout(p=0.5, inplace=False)\n",
       "    (4): Linear(in_features=4096, out_features=4096, bias=True)\n",
       "    (5): ReLU(inplace=True)\n",
       "    (6): Linear(in_features=4096, out_features=62, bias=True)\n",
       "  )\n",
       ")"
      ]
     },
     "execution_count": 13,
     "metadata": {},
     "output_type": "execute_result"
    }
   ],
   "source": [
    "model"
   ]
  },
  {
   "cell_type": "markdown",
   "id": "consecutive-germany",
   "metadata": {
    "papermill": {
     "duration": 0.04797,
     "end_time": "2021-04-10T20:49:48.535735",
     "exception": false,
     "start_time": "2021-04-10T20:49:48.487765",
     "status": "completed"
    },
    "tags": []
   },
   "source": [
    "Following is summary of model. One can notice the size of the model and number of parameters."
   ]
  },
  {
   "cell_type": "code",
   "execution_count": 14,
   "id": "pretty-procedure",
   "metadata": {
    "execution": {
     "iopub.execute_input": "2021-04-10T20:49:48.636384Z",
     "iopub.status.busy": "2021-04-10T20:49:48.635761Z",
     "iopub.status.idle": "2021-04-10T20:49:49.225993Z",
     "shell.execute_reply": "2021-04-10T20:49:49.225168Z"
    },
    "papermill": {
     "duration": 0.642466,
     "end_time": "2021-04-10T20:49:49.226140",
     "exception": false,
     "start_time": "2021-04-10T20:49:48.583674",
     "status": "completed"
    },
    "tags": []
   },
   "outputs": [
    {
     "name": "stdout",
     "output_type": "stream",
     "text": [
      "----------------------------------------------------------------\n",
      "        Layer (type)               Output Shape         Param #\n",
      "================================================================\n",
      "            Conv2d-1           [-1, 64, 15, 15]          23,296\n",
      "              ReLU-2           [-1, 64, 15, 15]               0\n",
      "         MaxPool2d-3             [-1, 64, 7, 7]               0\n",
      "            Conv2d-4            [-1, 192, 7, 7]         307,392\n",
      "              ReLU-5            [-1, 192, 7, 7]               0\n",
      "         MaxPool2d-6            [-1, 192, 3, 3]               0\n",
      "            Conv2d-7            [-1, 384, 3, 3]         663,936\n",
      "              ReLU-8            [-1, 384, 3, 3]               0\n",
      "            Conv2d-9            [-1, 256, 3, 3]         884,992\n",
      "             ReLU-10            [-1, 256, 3, 3]               0\n",
      "           Conv2d-11            [-1, 256, 3, 3]         590,080\n",
      "             ReLU-12            [-1, 256, 3, 3]               0\n",
      "        MaxPool2d-13            [-1, 256, 1, 1]               0\n",
      "AdaptiveAvgPool2d-14            [-1, 256, 6, 6]               0\n",
      "          Dropout-15                 [-1, 9216]               0\n",
      "           Linear-16                 [-1, 4096]      37,752,832\n",
      "             ReLU-17                 [-1, 4096]               0\n",
      "          Dropout-18                 [-1, 4096]               0\n",
      "           Linear-19                 [-1, 4096]      16,781,312\n",
      "             ReLU-20                 [-1, 4096]               0\n",
      "           Linear-21                   [-1, 62]         254,014\n",
      "================================================================\n",
      "Total params: 57,257,854\n",
      "Trainable params: 57,257,854\n",
      "Non-trainable params: 0\n",
      "----------------------------------------------------------------\n",
      "Input size (MB): 0.05\n",
      "Forward/backward pass size (MB): 0.82\n",
      "Params size (MB): 218.42\n",
      "Estimated Total Size (MB): 219.29\n",
      "----------------------------------------------------------------\n"
     ]
    }
   ],
   "source": [
    "summary(model, (3,64,64))"
   ]
  },
  {
   "cell_type": "markdown",
   "id": "upset-banks",
   "metadata": {
    "id": "jlz3ykvFB5KU",
    "papermill": {
     "duration": 0.049043,
     "end_time": "2021-04-10T20:49:49.324268",
     "exception": false,
     "start_time": "2021-04-10T20:49:49.275225",
     "status": "completed"
    },
    "tags": []
   },
   "source": [
    "## A.5. Training the custom model Net()\n",
    "\n",
    "Training the model on the character images dataset. This block trains the model and saves it as 'model.pt' in same directory. The train_model function returns lists of training and validation accuracies and as well as the losses. The total epochs are set to 60, taking care of underfitting and overfitting.  "
   ]
  },
  {
   "cell_type": "code",
   "execution_count": 15,
   "id": "brutal-clark",
   "metadata": {
    "execution": {
     "iopub.execute_input": "2021-04-10T20:49:49.427247Z",
     "iopub.status.busy": "2021-04-10T20:49:49.426473Z",
     "iopub.status.idle": "2021-04-10T22:21:24.610419Z",
     "shell.execute_reply": "2021-04-10T22:21:24.611004Z"
    },
    "id": "yhazNLCYB5KV",
    "papermill": {
     "duration": 5495.238013,
     "end_time": "2021-04-10T22:21:24.611214",
     "exception": false,
     "start_time": "2021-04-10T20:49:49.373201",
     "status": "completed"
    },
    "tags": []
   },
   "outputs": [
    {
     "name": "stdout",
     "output_type": "stream",
     "text": [
      "Epoch: 1 \tTraining Loss: 0.017759 \tValidation Loss: 0.019985\n",
      "Validation loss decreased (inf --> 0.019985).  Saving model ...\n",
      "Epoch: 2 \tTraining Loss: 0.017740 \tValidation Loss: 0.020030\n",
      "Epoch: 3 \tTraining Loss: 0.017718 \tValidation Loss: 0.020109\n",
      "Epoch: 4 \tTraining Loss: 0.017685 \tValidation Loss: 0.020067\n",
      "Epoch: 5 \tTraining Loss: 0.017559 \tValidation Loss: 0.020042\n",
      "Epoch: 6 \tTraining Loss: 0.017309 \tValidation Loss: 0.019378\n",
      "Validation loss decreased (0.019985 --> 0.019378).  Saving model ...\n",
      "Epoch: 7 \tTraining Loss: 0.017088 \tValidation Loss: 0.019470\n",
      "Epoch: 8 \tTraining Loss: 0.017001 \tValidation Loss: 0.019043\n",
      "Validation loss decreased (0.019378 --> 0.019043).  Saving model ...\n",
      "Epoch: 9 \tTraining Loss: 0.016571 \tValidation Loss: 0.018625\n",
      "Validation loss decreased (0.019043 --> 0.018625).  Saving model ...\n",
      "Epoch: 10 \tTraining Loss: 0.016110 \tValidation Loss: 0.018134\n",
      "Validation loss decreased (0.018625 --> 0.018134).  Saving model ...\n",
      "Epoch: 11 \tTraining Loss: 0.015849 \tValidation Loss: 0.018517\n",
      "Epoch: 12 \tTraining Loss: 0.015896 \tValidation Loss: 0.017699\n",
      "Validation loss decreased (0.018134 --> 0.017699).  Saving model ...\n",
      "Epoch: 13 \tTraining Loss: 0.015242 \tValidation Loss: 0.017076\n",
      "Validation loss decreased (0.017699 --> 0.017076).  Saving model ...\n",
      "Epoch: 14 \tTraining Loss: 0.014738 \tValidation Loss: 0.016754\n",
      "Validation loss decreased (0.017076 --> 0.016754).  Saving model ...\n",
      "Epoch: 15 \tTraining Loss: 0.014542 \tValidation Loss: 0.017441\n",
      "Epoch: 16 \tTraining Loss: 0.014261 \tValidation Loss: 0.015898\n",
      "Validation loss decreased (0.016754 --> 0.015898).  Saving model ...\n",
      "Epoch: 17 \tTraining Loss: 0.013697 \tValidation Loss: 0.015508\n",
      "Validation loss decreased (0.015898 --> 0.015508).  Saving model ...\n",
      "Epoch: 18 \tTraining Loss: 0.013448 \tValidation Loss: 0.015157\n",
      "Validation loss decreased (0.015508 --> 0.015157).  Saving model ...\n",
      "Epoch: 19 \tTraining Loss: 0.012997 \tValidation Loss: 0.015163\n",
      "Epoch: 20 \tTraining Loss: 0.012774 \tValidation Loss: 0.015713\n",
      "Epoch: 21 \tTraining Loss: 0.013034 \tValidation Loss: 0.015450\n",
      "Epoch: 22 \tTraining Loss: 0.012919 \tValidation Loss: 0.014780\n",
      "Validation loss decreased (0.015157 --> 0.014780).  Saving model ...\n",
      "Epoch: 23 \tTraining Loss: 0.012372 \tValidation Loss: 0.014537\n",
      "Validation loss decreased (0.014780 --> 0.014537).  Saving model ...\n",
      "Epoch: 24 \tTraining Loss: 0.012226 \tValidation Loss: 0.014133\n",
      "Validation loss decreased (0.014537 --> 0.014133).  Saving model ...\n",
      "Epoch: 25 \tTraining Loss: 0.011899 \tValidation Loss: 0.014084\n",
      "Validation loss decreased (0.014133 --> 0.014084).  Saving model ...\n",
      "Epoch: 26 \tTraining Loss: 0.011765 \tValidation Loss: 0.013805\n",
      "Validation loss decreased (0.014084 --> 0.013805).  Saving model ...\n",
      "Epoch: 27 \tTraining Loss: 0.011489 \tValidation Loss: 0.013526\n",
      "Validation loss decreased (0.013805 --> 0.013526).  Saving model ...\n",
      "Epoch: 28 \tTraining Loss: 0.011060 \tValidation Loss: 0.013269\n",
      "Validation loss decreased (0.013526 --> 0.013269).  Saving model ...\n",
      "Epoch: 29 \tTraining Loss: 0.010792 \tValidation Loss: 0.013342\n",
      "Epoch: 30 \tTraining Loss: 0.010283 \tValidation Loss: 0.012918\n",
      "Validation loss decreased (0.013269 --> 0.012918).  Saving model ...\n",
      "Epoch: 31 \tTraining Loss: 0.009938 \tValidation Loss: 0.012575\n",
      "Validation loss decreased (0.012918 --> 0.012575).  Saving model ...\n",
      "Epoch: 32 \tTraining Loss: 0.009534 \tValidation Loss: 0.012199\n",
      "Validation loss decreased (0.012575 --> 0.012199).  Saving model ...\n",
      "Epoch: 33 \tTraining Loss: 0.009349 \tValidation Loss: 0.013757\n",
      "Epoch: 34 \tTraining Loss: 0.009209 \tValidation Loss: 0.013350\n",
      "Epoch: 35 \tTraining Loss: 0.009321 \tValidation Loss: 0.011433\n",
      "Validation loss decreased (0.012199 --> 0.011433).  Saving model ...\n",
      "Epoch: 36 \tTraining Loss: 0.008670 \tValidation Loss: 0.011649\n",
      "Epoch: 37 \tTraining Loss: 0.008375 \tValidation Loss: 0.010459\n",
      "Validation loss decreased (0.011433 --> 0.010459).  Saving model ...\n",
      "Epoch: 38 \tTraining Loss: 0.007803 \tValidation Loss: 0.009643\n",
      "Validation loss decreased (0.010459 --> 0.009643).  Saving model ...\n",
      "Epoch: 39 \tTraining Loss: 0.007198 \tValidation Loss: 0.009231\n",
      "Validation loss decreased (0.009643 --> 0.009231).  Saving model ...\n",
      "Epoch: 40 \tTraining Loss: 0.006783 \tValidation Loss: 0.008934\n",
      "Validation loss decreased (0.009231 --> 0.008934).  Saving model ...\n",
      "Epoch: 41 \tTraining Loss: 0.006418 \tValidation Loss: 0.010265\n",
      "Epoch: 42 \tTraining Loss: 0.006771 \tValidation Loss: 0.008524\n",
      "Validation loss decreased (0.008934 --> 0.008524).  Saving model ...\n",
      "Epoch: 43 \tTraining Loss: 0.006072 \tValidation Loss: 0.008545\n",
      "Epoch: 44 \tTraining Loss: 0.005893 \tValidation Loss: 0.007785\n",
      "Validation loss decreased (0.008524 --> 0.007785).  Saving model ...\n",
      "Epoch: 45 \tTraining Loss: 0.005322 \tValidation Loss: 0.008346\n",
      "Epoch: 46 \tTraining Loss: 0.005391 \tValidation Loss: 0.008836\n",
      "Epoch: 47 \tTraining Loss: 0.005311 \tValidation Loss: 0.007607\n",
      "Validation loss decreased (0.007785 --> 0.007607).  Saving model ...\n",
      "Epoch: 48 \tTraining Loss: 0.005114 \tValidation Loss: 0.007916\n",
      "Epoch: 49 \tTraining Loss: 0.004980 \tValidation Loss: 0.007072\n",
      "Validation loss decreased (0.007607 --> 0.007072).  Saving model ...\n",
      "Epoch: 50 \tTraining Loss: 0.004576 \tValidation Loss: 0.007217\n",
      "Epoch: 51 \tTraining Loss: 0.004509 \tValidation Loss: 0.007077\n",
      "Epoch: 52 \tTraining Loss: 0.004346 \tValidation Loss: 0.007438\n",
      "Epoch: 53 \tTraining Loss: 0.004401 \tValidation Loss: 0.007038\n",
      "Validation loss decreased (0.007072 --> 0.007038).  Saving model ...\n",
      "Epoch: 54 \tTraining Loss: 0.004206 \tValidation Loss: 0.006926\n",
      "Validation loss decreased (0.007038 --> 0.006926).  Saving model ...\n",
      "Epoch: 55 \tTraining Loss: 0.003927 \tValidation Loss: 0.006761\n",
      "Validation loss decreased (0.006926 --> 0.006761).  Saving model ...\n",
      "Epoch: 56 \tTraining Loss: 0.004066 \tValidation Loss: 0.007447\n",
      "Epoch: 57 \tTraining Loss: 0.004014 \tValidation Loss: 0.006780\n",
      "Epoch: 58 \tTraining Loss: 0.003748 \tValidation Loss: 0.006444\n",
      "Validation loss decreased (0.006761 --> 0.006444).  Saving model ...\n",
      "Epoch: 59 \tTraining Loss: 0.003774 \tValidation Loss: 0.006763\n",
      "Epoch: 60 \tTraining Loss: 0.003630 \tValidation Loss: 0.006315\n",
      "Validation loss decreased (0.006444 --> 0.006315).  Saving model ...\n",
      "Epoch: 61 \tTraining Loss: 0.003419 \tValidation Loss: 0.006626\n",
      "Epoch: 62 \tTraining Loss: 0.003396 \tValidation Loss: 0.007194\n",
      "Epoch: 63 \tTraining Loss: 0.003531 \tValidation Loss: 0.006575\n",
      "Epoch: 64 \tTraining Loss: 0.003373 \tValidation Loss: 0.006620\n",
      "Epoch: 65 \tTraining Loss: 0.003285 \tValidation Loss: 0.007026\n",
      "Epoch: 66 \tTraining Loss: 0.003352 \tValidation Loss: 0.006559\n",
      "Epoch: 67 \tTraining Loss: 0.003055 \tValidation Loss: 0.006347\n",
      "Epoch: 68 \tTraining Loss: 0.002959 \tValidation Loss: 0.006314\n",
      "Validation loss decreased (0.006315 --> 0.006314).  Saving model ...\n",
      "Epoch: 69 \tTraining Loss: 0.002949 \tValidation Loss: 0.006119\n",
      "Validation loss decreased (0.006314 --> 0.006119).  Saving model ...\n",
      "Epoch: 70 \tTraining Loss: 0.002962 \tValidation Loss: 0.006512\n",
      "Epoch: 71 \tTraining Loss: 0.002844 \tValidation Loss: 0.006026\n",
      "Validation loss decreased (0.006119 --> 0.006026).  Saving model ...\n",
      "Epoch: 72 \tTraining Loss: 0.002689 \tValidation Loss: 0.005624\n",
      "Validation loss decreased (0.006026 --> 0.005624).  Saving model ...\n",
      "Epoch: 73 \tTraining Loss: 0.002681 \tValidation Loss: 0.006156\n",
      "Epoch: 74 \tTraining Loss: 0.002655 \tValidation Loss: 0.005981\n",
      "Epoch: 75 \tTraining Loss: 0.002751 \tValidation Loss: 0.006201\n",
      "Epoch: 76 \tTraining Loss: 0.002801 \tValidation Loss: 0.006133\n",
      "Epoch: 77 \tTraining Loss: 0.002483 \tValidation Loss: 0.006031\n",
      "Epoch: 78 \tTraining Loss: 0.002337 \tValidation Loss: 0.006313\n",
      "Epoch: 79 \tTraining Loss: 0.002509 \tValidation Loss: 0.006261\n",
      "Epoch: 80 \tTraining Loss: 0.002465 \tValidation Loss: 0.006735\n",
      "Epoch: 81 \tTraining Loss: 0.002463 \tValidation Loss: 0.006289\n",
      "Epoch: 82 \tTraining Loss: 0.002303 \tValidation Loss: 0.006408\n",
      "Epoch: 83 \tTraining Loss: 0.002286 \tValidation Loss: 0.006762\n",
      "Epoch: 84 \tTraining Loss: 0.002432 \tValidation Loss: 0.005981\n",
      "Epoch: 85 \tTraining Loss: 0.002287 \tValidation Loss: 0.006308\n",
      "Epoch: 86 \tTraining Loss: 0.002106 \tValidation Loss: 0.006330\n",
      "Epoch: 87 \tTraining Loss: 0.002069 \tValidation Loss: 0.006500\n",
      "Epoch: 88 \tTraining Loss: 0.002006 \tValidation Loss: 0.006073\n",
      "Epoch: 89 \tTraining Loss: 0.002207 \tValidation Loss: 0.007117\n",
      "Epoch: 90 \tTraining Loss: 0.002298 \tValidation Loss: 0.006474\n",
      "Epoch: 91 \tTraining Loss: 0.002215 \tValidation Loss: 0.007067\n",
      "Epoch: 92 \tTraining Loss: 0.002244 \tValidation Loss: 0.006849\n",
      "Epoch: 93 \tTraining Loss: 0.002161 \tValidation Loss: 0.006724\n",
      "Epoch: 94 \tTraining Loss: 0.002140 \tValidation Loss: 0.006134\n",
      "Epoch: 95 \tTraining Loss: 0.001906 \tValidation Loss: 0.006137\n",
      "Epoch: 96 \tTraining Loss: 0.001788 \tValidation Loss: 0.006215\n",
      "Epoch: 97 \tTraining Loss: 0.001842 \tValidation Loss: 0.006656\n",
      "Epoch: 98 \tTraining Loss: 0.001880 \tValidation Loss: 0.006547\n",
      "Epoch: 99 \tTraining Loss: 0.001832 \tValidation Loss: 0.007030\n",
      "Epoch: 100 \tTraining Loss: 0.001638 \tValidation Loss: 0.005722\n"
     ]
    }
   ],
   "source": [
    "train_loss_list, valid_loss_list, train_acc_list, valid_acc_list = train_model(model=model, #model from scratch \n",
    "                                             num_epochs=num_epochs,\n",
    "                                             train_iterator=train_iterator,\n",
    "                                             valid_iterator=valid_iterator, \n",
    "                                             optimizer=optimizer,\n",
    "                                             criterion=criterion, \n",
    "                                             device=device,\n",
    "                                             model_name='model.pt')"
   ]
  },
  {
   "cell_type": "markdown",
   "id": "conscious-integration",
   "metadata": {
    "id": "FV8usYKgB5KV",
    "papermill": {
     "duration": 0.127319,
     "end_time": "2021-04-10T22:21:24.831650",
     "exception": false,
     "start_time": "2021-04-10T22:21:24.704331",
     "status": "completed"
    },
    "tags": []
   },
   "source": [
    "## A.6. Plotting Loss and Accuracy of model\n",
    "\n",
    "The lists from the above train_model function are visualized below."
   ]
  },
  {
   "cell_type": "markdown",
   "id": "continent-median",
   "metadata": {
    "papermill": {
     "duration": 0.124742,
     "end_time": "2021-04-10T22:21:25.091527",
     "exception": false,
     "start_time": "2021-04-10T22:21:24.966785",
     "status": "completed"
    },
    "tags": []
   },
   "source": [
    "### A.6.1. Loss Curve"
   ]
  },
  {
   "cell_type": "code",
   "execution_count": 16,
   "id": "pregnant-seventh",
   "metadata": {
    "execution": {
     "iopub.execute_input": "2021-04-10T22:21:25.307987Z",
     "iopub.status.busy": "2021-04-10T22:21:25.306757Z",
     "iopub.status.idle": "2021-04-10T22:21:25.522882Z",
     "shell.execute_reply": "2021-04-10T22:21:25.522470Z"
    },
    "papermill": {
     "duration": 0.306985,
     "end_time": "2021-04-10T22:21:25.522999",
     "exception": false,
     "start_time": "2021-04-10T22:21:25.216014",
     "status": "completed"
    },
    "tags": []
   },
   "outputs": [
    {
     "data": {
      "image/png": "[encoded data removed]",
      "text/plain": [
       "<Figure size 432x288 with 1 Axes>"
      ]
     },
     "metadata": {
      "needs_background": "light"
     },
     "output_type": "display_data"
    }
   ],
   "source": [
    "plot_loss(train_loss_list, valid_loss_list)"
   ]
  },
  {
   "cell_type": "markdown",
   "id": "consolidated-essex",
   "metadata": {
    "papermill": {
     "duration": 0.075402,
     "end_time": "2021-04-10T22:21:25.674995",
     "exception": false,
     "start_time": "2021-04-10T22:21:25.599593",
     "status": "completed"
    },
    "tags": []
   },
   "source": [
    "### A.6.2. Accuracy Curve"
   ]
  },
  {
   "cell_type": "code",
   "execution_count": 17,
   "id": "disciplinary-julian",
   "metadata": {
    "execution": {
     "iopub.execute_input": "2021-04-10T22:21:25.850865Z",
     "iopub.status.busy": "2021-04-10T22:21:25.850048Z",
     "iopub.status.idle": "2021-04-10T22:21:26.039056Z",
     "shell.execute_reply": "2021-04-10T22:21:26.039493Z"
    },
    "papermill": {
     "duration": 0.289154,
     "end_time": "2021-04-10T22:21:26.039635",
     "exception": false,
     "start_time": "2021-04-10T22:21:25.750481",
     "status": "completed"
    },
    "tags": []
   },
   "outputs": [
    {
     "data": {
      "image/png": "[encoded data removed]",
      "text/plain": [
       "<Figure size 432x288 with 1 Axes>"
      ]
     },
     "metadata": {
      "needs_background": "light"
     },
     "output_type": "display_data"
    }
   ],
   "source": [
    "plot_loss(train_acc_list, valid_acc_list)"
   ]
  },
  {
   "cell_type": "markdown",
   "id": "bottom-floor",
   "metadata": {
    "papermill": {
     "duration": 0.0757,
     "end_time": "2021-04-10T22:21:26.192182",
     "exception": false,
     "start_time": "2021-04-10T22:21:26.116482",
     "status": "completed"
    },
    "tags": []
   },
   "source": [
    "## A.7. Calculate accuracy\n",
    "\n",
    "The training and validation accuracy is calculated in this block to keep track of how oue model performs."
   ]
  },
  {
   "cell_type": "code",
   "execution_count": 18,
   "id": "dressed-asbestos",
   "metadata": {
    "execution": {
     "iopub.execute_input": "2021-04-10T22:21:26.383862Z",
     "iopub.status.busy": "2021-04-10T22:21:26.383140Z",
     "iopub.status.idle": "2021-04-10T22:22:05.220811Z",
     "shell.execute_reply": "2021-04-10T22:22:05.221559Z"
    },
    "papermill": {
     "duration": 38.918747,
     "end_time": "2021-04-10T22:22:05.221779",
     "exception": false,
     "start_time": "2021-04-10T22:21:26.303032",
     "status": "completed"
    },
    "tags": []
   },
   "outputs": [
    {
     "name": "stdout",
     "output_type": "stream",
     "text": [
      "Got 1630 / 1860 with accuracy 87.63\n",
      "Training:  None\n"
     ]
    }
   ],
   "source": [
    "print('Training: ', cal_accuracy(train_iterator, model, device))"
   ]
  },
  {
   "cell_type": "code",
   "execution_count": 19,
   "id": "subsequent-sitting",
   "metadata": {
    "execution": {
     "iopub.execute_input": "2021-04-10T22:22:05.414852Z",
     "iopub.status.busy": "2021-04-10T22:22:05.413951Z",
     "iopub.status.idle": "2021-04-10T22:22:17.985878Z",
     "shell.execute_reply": "2021-04-10T22:22:17.985406Z"
    },
    "papermill": {
     "duration": 12.656365,
     "end_time": "2021-04-10T22:22:17.985995",
     "exception": false,
     "start_time": "2021-04-10T22:22:05.329630",
     "status": "completed"
    },
    "tags": []
   },
   "outputs": [
    {
     "name": "stdout",
     "output_type": "stream",
     "text": [
      "Got 415 / 620 with accuracy 66.94\n",
      "Validation:  None\n"
     ]
    }
   ],
   "source": [
    "print('Validation: ',cal_accuracy(valid_iterator, model, device))"
   ]
  },
  {
   "cell_type": "markdown",
   "id": "creative-missouri",
   "metadata": {
    "papermill": {
     "duration": 0.075834,
     "end_time": "2021-04-10T22:22:18.139421",
     "exception": false,
     "start_time": "2021-04-10T22:22:18.063587",
     "status": "completed"
    },
    "tags": []
   },
   "source": [
    "# Section B: **Digit Recognition** \n",
    "---\n",
    "In this section we have to train oure pretrained model over the images of digits in the range 0-9 from the same dataset as above. This is transfer learning on new set of outputs. Our objective is to understand how the model works in this scenario."
   ]
  },
  {
   "cell_type": "code",
   "execution_count": 20,
   "id": "tough-compiler",
   "metadata": {
    "execution": {
     "iopub.execute_input": "2021-04-10T22:22:18.303306Z",
     "iopub.status.busy": "2021-04-10T22:22:18.302791Z",
     "iopub.status.idle": "2021-04-10T22:22:18.313333Z",
     "shell.execute_reply": "2021-04-10T22:22:18.312698Z"
    },
    "papermill": {
     "duration": 0.096363,
     "end_time": "2021-04-10T22:22:18.313476",
     "exception": false,
     "start_time": "2021-04-10T22:22:18.217113",
     "status": "completed"
    },
    "tags": []
   },
   "outputs": [
    {
     "name": "stdout",
     "output_type": "stream",
     "text": [
      "Number of training examples: 332\n",
      "Number of validation examples: 68\n"
     ]
    }
   ],
   "source": [
    "NEW_LABELS = 'data/digit_labels.csv'\n",
    "train_numbers = dataset(csv=NEW_LABELS, img_path=ROOT, transform = train_transforms)\n",
    "\n",
    "VALID_RATIO = 0.83 #Stamdard split according to (http://yann.lecun.com/exdb/mnist/).\n",
    "n_train_examples = int(len(train_numbers) * VALID_RATIO)\n",
    "n_valid_examples = len(train_numbers) - n_train_examples\n",
    "train_num_data, valid_num_data = data.random_split(train_numbers, [n_train_examples, n_valid_examples])\n",
    "\n",
    "valid_num_data = copy.deepcopy(valid_num_data)\n",
    "valid_num_data.dataset.transform = train_transforms\n",
    "\n",
    "print(f'Number of training examples: {len(train_num_data)}')\n",
    "print(f'Number of validation examples: {len(valid_num_data)}')"
   ]
  },
  {
   "cell_type": "code",
   "execution_count": 21,
   "id": "proud-frequency",
   "metadata": {
    "execution": {
     "iopub.execute_input": "2021-04-10T22:22:18.471366Z",
     "iopub.status.busy": "2021-04-10T22:22:18.470702Z",
     "iopub.status.idle": "2021-04-10T22:22:18.473687Z",
     "shell.execute_reply": "2021-04-10T22:22:18.473283Z"
    },
    "papermill": {
     "duration": 0.083292,
     "end_time": "2021-04-10T22:22:18.473793",
     "exception": false,
     "start_time": "2021-04-10T22:22:18.390501",
     "status": "completed"
    },
    "tags": []
   },
   "outputs": [],
   "source": [
    "train_num_iterator = data.DataLoader(train_num_data, batch_size = 32)\n",
    "valid_num_iterator = data.DataLoader(valid_num_data, batch_size = 32)"
   ]
  },
  {
   "cell_type": "markdown",
   "id": "romance-fancy",
   "metadata": {
    "papermill": {
     "duration": 0.076465,
     "end_time": "2021-04-10T22:22:18.626998",
     "exception": false,
     "start_time": "2021-04-10T22:22:18.550533",
     "status": "completed"
    },
    "tags": []
   },
   "source": [
    "## B.3. Trained Model"
   ]
  },
  {
   "cell_type": "code",
   "execution_count": 22,
   "id": "civilian-preparation",
   "metadata": {
    "execution": {
     "iopub.execute_input": "2021-04-10T22:22:18.791883Z",
     "iopub.status.busy": "2021-04-10T22:22:18.791048Z",
     "iopub.status.idle": "2021-04-10T22:22:19.463702Z",
     "shell.execute_reply": "2021-04-10T22:22:19.464107Z"
    },
    "papermill": {
     "duration": 0.756444,
     "end_time": "2021-04-10T22:22:19.464280",
     "exception": false,
     "start_time": "2021-04-10T22:22:18.707836",
     "status": "completed"
    },
    "tags": []
   },
   "outputs": [
    {
     "data": {
      "text/plain": [
       "Net(\n",
       "  (features): Sequential(\n",
       "    (0): Conv2d(3, 64, kernel_size=(11, 11), stride=(4, 4), padding=(2, 2))\n",
       "    (1): ReLU(inplace=True)\n",
       "    (2): MaxPool2d(kernel_size=3, stride=2, padding=0, dilation=1, ceil_mode=False)\n",
       "    (3): Conv2d(64, 192, kernel_size=(5, 5), stride=(1, 1), padding=(2, 2))\n",
       "    (4): ReLU(inplace=True)\n",
       "    (5): MaxPool2d(kernel_size=3, stride=2, padding=0, dilation=1, ceil_mode=False)\n",
       "    (6): Conv2d(192, 384, kernel_size=(3, 3), stride=(1, 1), padding=(1, 1))\n",
       "    (7): ReLU(inplace=True)\n",
       "    (8): Conv2d(384, 256, kernel_size=(3, 3), stride=(1, 1), padding=(1, 1))\n",
       "    (9): ReLU(inplace=True)\n",
       "    (10): Conv2d(256, 256, kernel_size=(3, 3), stride=(1, 1), padding=(1, 1))\n",
       "    (11): ReLU(inplace=True)\n",
       "    (12): MaxPool2d(kernel_size=3, stride=2, padding=0, dilation=1, ceil_mode=False)\n",
       "  )\n",
       "  (avgpool): AdaptiveAvgPool2d(output_size=(6, 6))\n",
       "  (classifier): Sequential(\n",
       "    (0): Dropout(p=0.5, inplace=False)\n",
       "    (1): Linear(in_features=9216, out_features=4096, bias=True)\n",
       "    (2): ReLU(inplace=True)\n",
       "    (3): Dropout(p=0.5, inplace=False)\n",
       "    (4): Linear(in_features=4096, out_features=4096, bias=True)\n",
       "    (5): ReLU(inplace=True)\n",
       "    (6): Linear(in_features=4096, out_features=62, bias=True)\n",
       "  )\n",
       ")"
      ]
     },
     "execution_count": 22,
     "metadata": {},
     "output_type": "execute_result"
    }
   ],
   "source": [
    "model_trained = Net(62)\n",
    "model_trained.load_state_dict(torch.load('./model.pt'))\n",
    "model_trained.train()"
   ]
  },
  {
   "cell_type": "markdown",
   "id": "complete-artwork",
   "metadata": {
    "papermill": {
     "duration": 0.07696,
     "end_time": "2021-04-10T22:22:19.618798",
     "exception": false,
     "start_time": "2021-04-10T22:22:19.541838",
     "status": "completed"
    },
    "tags": []
   },
   "source": [
    "While using pretrained model we have to make sure that the last layers match the output to number of classes. The number of classes is changed from 62 to 10 digits. Thus I have changed the last fully connected layer as follows,"
   ]
  },
  {
   "cell_type": "code",
   "execution_count": 23,
   "id": "efficient-moses",
   "metadata": {
    "execution": {
     "iopub.execute_input": "2021-04-10T22:22:19.853948Z",
     "iopub.status.busy": "2021-04-10T22:22:19.853149Z",
     "iopub.status.idle": "2021-04-10T22:22:19.901524Z",
     "shell.execute_reply": "2021-04-10T22:22:19.902619Z"
    },
    "papermill": {
     "duration": 0.19027,
     "end_time": "2021-04-10T22:22:19.902810",
     "exception": false,
     "start_time": "2021-04-10T22:22:19.712540",
     "status": "completed"
    },
    "tags": []
   },
   "outputs": [],
   "source": [
    "model_trained.classifier[4] = torch.nn.Linear(4096,1024)\n",
    "model_trained.classifier[6] = torch.nn.Linear(1024,10)"
   ]
  },
  {
   "cell_type": "markdown",
   "id": "charged-option",
   "metadata": {
    "papermill": {
     "duration": 0.137358,
     "end_time": "2021-04-10T22:22:20.183973",
     "exception": false,
     "start_time": "2021-04-10T22:22:20.046615",
     "status": "completed"
    },
    "tags": []
   },
   "source": [
    "## B.3.1. Hyperparameters for pretrained model\n",
    "\n",
    "- Cross Entropy Loss : Because multi class classification\n",
    "- Stochastic Gradient Descent : Optimizer Function\n",
    "- Learning rate : 0.001"
   ]
  },
  {
   "cell_type": "code",
   "execution_count": 24,
   "id": "functional-gambling",
   "metadata": {
    "execution": {
     "iopub.execute_input": "2021-04-10T22:22:20.365545Z",
     "iopub.status.busy": "2021-04-10T22:22:20.364490Z",
     "iopub.status.idle": "2021-04-10T22:22:20.414730Z",
     "shell.execute_reply": "2021-04-10T22:22:20.414289Z"
    },
    "papermill": {
     "duration": 0.134779,
     "end_time": "2021-04-10T22:22:20.414840",
     "exception": false,
     "start_time": "2021-04-10T22:22:20.280061",
     "status": "completed"
    },
    "tags": []
   },
   "outputs": [
    {
     "data": {
      "text/plain": [
       "device(type='cuda')"
      ]
     },
     "execution_count": 24,
     "metadata": {},
     "output_type": "execute_result"
    }
   ],
   "source": [
    "model_trained.to(device)\n",
    "criterion_num = torch.nn.CrossEntropyLoss()\n",
    "optimizer_num = torch.optim.SGD(model_trained.parameters(), lr=0.001)\n",
    "device"
   ]
  },
  {
   "cell_type": "code",
   "execution_count": 25,
   "id": "liquid-vulnerability",
   "metadata": {
    "execution": {
     "iopub.execute_input": "2021-04-10T22:22:20.575356Z",
     "iopub.status.busy": "2021-04-10T22:22:20.574820Z",
     "iopub.status.idle": "2021-04-10T22:22:20.579768Z",
     "shell.execute_reply": "2021-04-10T22:22:20.579363Z"
    },
    "papermill": {
     "duration": 0.086175,
     "end_time": "2021-04-10T22:22:20.579871",
     "exception": false,
     "start_time": "2021-04-10T22:22:20.493696",
     "status": "completed"
    },
    "tags": []
   },
   "outputs": [
    {
     "data": {
      "text/plain": [
       "Net(\n",
       "  (features): Sequential(\n",
       "    (0): Conv2d(3, 64, kernel_size=(11, 11), stride=(4, 4), padding=(2, 2))\n",
       "    (1): ReLU(inplace=True)\n",
       "    (2): MaxPool2d(kernel_size=3, stride=2, padding=0, dilation=1, ceil_mode=False)\n",
       "    (3): Conv2d(64, 192, kernel_size=(5, 5), stride=(1, 1), padding=(2, 2))\n",
       "    (4): ReLU(inplace=True)\n",
       "    (5): MaxPool2d(kernel_size=3, stride=2, padding=0, dilation=1, ceil_mode=False)\n",
       "    (6): Conv2d(192, 384, kernel_size=(3, 3), stride=(1, 1), padding=(1, 1))\n",
       "    (7): ReLU(inplace=True)\n",
       "    (8): Conv2d(384, 256, kernel_size=(3, 3), stride=(1, 1), padding=(1, 1))\n",
       "    (9): ReLU(inplace=True)\n",
       "    (10): Conv2d(256, 256, kernel_size=(3, 3), stride=(1, 1), padding=(1, 1))\n",
       "    (11): ReLU(inplace=True)\n",
       "    (12): MaxPool2d(kernel_size=3, stride=2, padding=0, dilation=1, ceil_mode=False)\n",
       "  )\n",
       "  (avgpool): AdaptiveAvgPool2d(output_size=(6, 6))\n",
       "  (classifier): Sequential(\n",
       "    (0): Dropout(p=0.5, inplace=False)\n",
       "    (1): Linear(in_features=9216, out_features=4096, bias=True)\n",
       "    (2): ReLU(inplace=True)\n",
       "    (3): Dropout(p=0.5, inplace=False)\n",
       "    (4): Linear(in_features=4096, out_features=1024, bias=True)\n",
       "    (5): ReLU(inplace=True)\n",
       "    (6): Linear(in_features=1024, out_features=10, bias=True)\n",
       "  )\n",
       ")"
      ]
     },
     "execution_count": 25,
     "metadata": {},
     "output_type": "execute_result"
    }
   ],
   "source": [
    "model_trained"
   ]
  },
  {
   "cell_type": "markdown",
   "id": "portuguese-square",
   "metadata": {
    "papermill": {
     "duration": 0.078161,
     "end_time": "2021-04-10T22:22:20.735944",
     "exception": false,
     "start_time": "2021-04-10T22:22:20.657783",
     "status": "completed"
    },
    "tags": []
   },
   "source": [
    "## B.4. Training the pretrained model\n",
    "\n",
    "The model is trained for only 20 epochs to save it from overfitting. "
   ]
  },
  {
   "cell_type": "code",
   "execution_count": 26,
   "id": "fitting-quarter",
   "metadata": {
    "execution": {
     "iopub.execute_input": "2021-04-10T22:22:20.897644Z",
     "iopub.status.busy": "2021-04-10T22:22:20.896971Z",
     "iopub.status.idle": "2021-04-10T22:25:25.285430Z",
     "shell.execute_reply": "2021-04-10T22:25:25.286102Z"
    },
    "papermill": {
     "duration": 184.472014,
     "end_time": "2021-04-10T22:25:25.286340",
     "exception": false,
     "start_time": "2021-04-10T22:22:20.814326",
     "status": "completed"
    },
    "tags": []
   },
   "outputs": [
    {
     "name": "stdout",
     "output_type": "stream",
     "text": [
      "Epoch: 1 \tTraining Loss: 0.076128 \tValidation Loss: 0.097203\n",
      "Validation loss decreased (inf --> 0.097203).  Saving model ...\n",
      "Epoch: 2 \tTraining Loss: 0.071649 \tValidation Loss: 0.090930\n",
      "Validation loss decreased (0.097203 --> 0.090930).  Saving model ...\n",
      "Epoch: 3 \tTraining Loss: 0.067292 \tValidation Loss: 0.084671\n",
      "Validation loss decreased (0.090930 --> 0.084671).  Saving model ...\n",
      "Epoch: 4 \tTraining Loss: 0.063385 \tValidation Loss: 0.078630\n",
      "Validation loss decreased (0.084671 --> 0.078630).  Saving model ...\n",
      "Epoch: 5 \tTraining Loss: 0.058413 \tValidation Loss: 0.071463\n",
      "Validation loss decreased (0.078630 --> 0.071463).  Saving model ...\n",
      "Epoch: 6 \tTraining Loss: 0.053690 \tValidation Loss: 0.063919\n",
      "Validation loss decreased (0.071463 --> 0.063919).  Saving model ...\n",
      "Epoch: 7 \tTraining Loss: 0.049383 \tValidation Loss: 0.056868\n",
      "Validation loss decreased (0.063919 --> 0.056868).  Saving model ...\n",
      "Epoch: 8 \tTraining Loss: 0.043150 \tValidation Loss: 0.050027\n",
      "Validation loss decreased (0.056868 --> 0.050027).  Saving model ...\n",
      "Epoch: 9 \tTraining Loss: 0.039432 \tValidation Loss: 0.042189\n",
      "Validation loss decreased (0.050027 --> 0.042189).  Saving model ...\n",
      "Epoch: 10 \tTraining Loss: 0.034820 \tValidation Loss: 0.035274\n",
      "Validation loss decreased (0.042189 --> 0.035274).  Saving model ...\n",
      "Epoch: 11 \tTraining Loss: 0.030730 \tValidation Loss: 0.031969\n",
      "Validation loss decreased (0.035274 --> 0.031969).  Saving model ...\n",
      "Epoch: 12 \tTraining Loss: 0.027026 \tValidation Loss: 0.028631\n",
      "Validation loss decreased (0.031969 --> 0.028631).  Saving model ...\n",
      "Epoch: 13 \tTraining Loss: 0.025811 \tValidation Loss: 0.023341\n",
      "Validation loss decreased (0.028631 --> 0.023341).  Saving model ...\n",
      "Epoch: 14 \tTraining Loss: 0.021796 \tValidation Loss: 0.020081\n",
      "Validation loss decreased (0.023341 --> 0.020081).  Saving model ...\n",
      "Epoch: 15 \tTraining Loss: 0.021569 \tValidation Loss: 0.020865\n",
      "Epoch: 16 \tTraining Loss: 0.018910 \tValidation Loss: 0.015802\n",
      "Validation loss decreased (0.020081 --> 0.015802).  Saving model ...\n",
      "Epoch: 17 \tTraining Loss: 0.017928 \tValidation Loss: 0.017619\n",
      "Epoch: 18 \tTraining Loss: 0.016648 \tValidation Loss: 0.017889\n",
      "Epoch: 19 \tTraining Loss: 0.015943 \tValidation Loss: 0.015033\n",
      "Validation loss decreased (0.015802 --> 0.015033).  Saving model ...\n",
      "Epoch: 20 \tTraining Loss: 0.016388 \tValidation Loss: 0.019624\n"
     ]
    }
   ],
   "source": [
    "train_loss_digits, valid_loss_digits, train_acc_digits, valid_acc_digits = train_model(model=model_trained, #pretrained model from section B.3.\n",
    "                                             num_epochs=20,\n",
    "                                             train_iterator=train_num_iterator,\n",
    "                                             valid_iterator=valid_num_iterator, \n",
    "                                             optimizer=optimizer_num,\n",
    "                                             criterion=criterion_num, \n",
    "                                            device=device, model_name=\"model_1.pt\")"
   ]
  },
  {
   "cell_type": "code",
   "execution_count": 27,
   "id": "corrected-traffic",
   "metadata": {
    "execution": {
     "iopub.execute_input": "2021-04-10T22:25:25.472037Z",
     "iopub.status.busy": "2021-04-10T22:25:25.471259Z",
     "iopub.status.idle": "2021-04-10T22:25:25.671785Z",
     "shell.execute_reply": "2021-04-10T22:25:25.670924Z"
    },
    "papermill": {
     "duration": 0.299986,
     "end_time": "2021-04-10T22:25:25.671905",
     "exception": false,
     "start_time": "2021-04-10T22:25:25.371919",
     "status": "completed"
    },
    "tags": []
   },
   "outputs": [
    {
     "data": {
      "image/png": "[encoded data removed]",
      "text/plain": [
       "<Figure size 432x288 with 1 Axes>"
      ]
     },
     "metadata": {
      "needs_background": "light"
     },
     "output_type": "display_data"
    }
   ],
   "source": [
    "plot_loss(train_loss_digits, valid_loss_digits)"
   ]
  },
  {
   "cell_type": "code",
   "execution_count": 28,
   "id": "pending-absorption",
   "metadata": {
    "execution": {
     "iopub.execute_input": "2021-04-10T22:25:25.864479Z",
     "iopub.status.busy": "2021-04-10T22:25:25.863644Z",
     "iopub.status.idle": "2021-04-10T22:25:26.071629Z",
     "shell.execute_reply": "2021-04-10T22:25:26.071213Z"
    },
    "papermill": {
     "duration": 0.312698,
     "end_time": "2021-04-10T22:25:26.071767",
     "exception": false,
     "start_time": "2021-04-10T22:25:25.759069",
     "status": "completed"
    },
    "tags": []
   },
   "outputs": [
    {
     "data": {
      "image/png": "[encoded data removed]",
      "text/plain": [
       "<Figure size 432x288 with 1 Axes>"
      ]
     },
     "metadata": {
      "needs_background": "light"
     },
     "output_type": "display_data"
    }
   ],
   "source": [
    "plot_loss(train_acc_digits, valid_acc_digits)"
   ]
  },
  {
   "cell_type": "code",
   "execution_count": 29,
   "id": "significant-magic",
   "metadata": {
    "execution": {
     "iopub.execute_input": "2021-04-10T22:25:26.252564Z",
     "iopub.status.busy": "2021-04-10T22:25:26.251822Z",
     "iopub.status.idle": "2021-04-10T22:25:33.334943Z",
     "shell.execute_reply": "2021-04-10T22:25:33.334463Z"
    },
    "papermill": {
     "duration": 7.175972,
     "end_time": "2021-04-10T22:25:33.335075",
     "exception": false,
     "start_time": "2021-04-10T22:25:26.159103",
     "status": "completed"
    },
    "tags": []
   },
   "outputs": [
    {
     "name": "stdout",
     "output_type": "stream",
     "text": [
      "Got 283 / 332 with accuracy 85.24\n"
     ]
    }
   ],
   "source": [
    "cal_accuracy(train_num_iterator, model_trained, device)"
   ]
  },
  {
   "cell_type": "code",
   "execution_count": 30,
   "id": "political-connection",
   "metadata": {
    "execution": {
     "iopub.execute_input": "2021-04-10T22:25:33.518625Z",
     "iopub.status.busy": "2021-04-10T22:25:33.517702Z",
     "iopub.status.idle": "2021-04-10T22:25:34.929419Z",
     "shell.execute_reply": "2021-04-10T22:25:34.929990Z"
    },
    "papermill": {
     "duration": 1.50571,
     "end_time": "2021-04-10T22:25:34.930202",
     "exception": false,
     "start_time": "2021-04-10T22:25:33.424492",
     "status": "completed"
    },
    "tags": []
   },
   "outputs": [
    {
     "name": "stdout",
     "output_type": "stream",
     "text": [
      "Got 59 / 68 with accuracy 86.76\n"
     ]
    }
   ],
   "source": [
    "cal_accuracy(valid_num_iterator, model_trained, device)"
   ]
  },
  {
   "cell_type": "markdown",
   "id": "representative-radio",
   "metadata": {
    "papermill": {
     "duration": 0.087015,
     "end_time": "2021-04-10T22:25:35.104938",
     "exception": false,
     "start_time": "2021-04-10T22:25:35.017923",
     "status": "completed"
    },
    "tags": []
   },
   "source": [
    "## B.5. Model Scratch training on Digits "
   ]
  },
  {
   "cell_type": "code",
   "execution_count": 31,
   "id": "italic-antique",
   "metadata": {
    "execution": {
     "iopub.execute_input": "2021-04-10T22:25:35.285095Z",
     "iopub.status.busy": "2021-04-10T22:25:35.284392Z",
     "iopub.status.idle": "2021-04-10T22:25:35.702473Z",
     "shell.execute_reply": "2021-04-10T22:25:35.702880Z"
    },
    "papermill": {
     "duration": 0.509988,
     "end_time": "2021-04-10T22:25:35.703027",
     "exception": false,
     "start_time": "2021-04-10T22:25:35.193039",
     "status": "completed"
    },
    "tags": []
   },
   "outputs": [
    {
     "data": {
      "text/plain": [
       "Net(\n",
       "  (features): Sequential(\n",
       "    (0): Conv2d(3, 64, kernel_size=(11, 11), stride=(4, 4), padding=(2, 2))\n",
       "    (1): ReLU(inplace=True)\n",
       "    (2): MaxPool2d(kernel_size=3, stride=2, padding=0, dilation=1, ceil_mode=False)\n",
       "    (3): Conv2d(64, 192, kernel_size=(5, 5), stride=(1, 1), padding=(2, 2))\n",
       "    (4): ReLU(inplace=True)\n",
       "    (5): MaxPool2d(kernel_size=3, stride=2, padding=0, dilation=1, ceil_mode=False)\n",
       "    (6): Conv2d(192, 384, kernel_size=(3, 3), stride=(1, 1), padding=(1, 1))\n",
       "    (7): ReLU(inplace=True)\n",
       "    (8): Conv2d(384, 256, kernel_size=(3, 3), stride=(1, 1), padding=(1, 1))\n",
       "    (9): ReLU(inplace=True)\n",
       "    (10): Conv2d(256, 256, kernel_size=(3, 3), stride=(1, 1), padding=(1, 1))\n",
       "    (11): ReLU(inplace=True)\n",
       "    (12): MaxPool2d(kernel_size=3, stride=2, padding=0, dilation=1, ceil_mode=False)\n",
       "  )\n",
       "  (avgpool): AdaptiveAvgPool2d(output_size=(6, 6))\n",
       "  (classifier): Sequential(\n",
       "    (0): Dropout(p=0.5, inplace=False)\n",
       "    (1): Linear(in_features=9216, out_features=4096, bias=True)\n",
       "    (2): ReLU(inplace=True)\n",
       "    (3): Dropout(p=0.5, inplace=False)\n",
       "    (4): Linear(in_features=4096, out_features=4096, bias=True)\n",
       "    (5): ReLU(inplace=True)\n",
       "    (6): Linear(in_features=4096, out_features=10, bias=True)\n",
       "  )\n",
       ")"
      ]
     },
     "execution_count": 31,
     "metadata": {},
     "output_type": "execute_result"
    }
   ],
   "source": [
    "model_digits = Net(10)\n",
    "model_digits"
   ]
  },
  {
   "cell_type": "code",
   "execution_count": 32,
   "id": "alpha-lending",
   "metadata": {
    "execution": {
     "iopub.execute_input": "2021-04-10T22:25:35.884050Z",
     "iopub.status.busy": "2021-04-10T22:25:35.883018Z",
     "iopub.status.idle": "2021-04-10T22:25:35.946727Z",
     "shell.execute_reply": "2021-04-10T22:25:35.946223Z"
    },
    "papermill": {
     "duration": 0.156418,
     "end_time": "2021-04-10T22:25:35.946843",
     "exception": false,
     "start_time": "2021-04-10T22:25:35.790425",
     "status": "completed"
    },
    "tags": []
   },
   "outputs": [
    {
     "data": {
      "text/plain": [
       "device(type='cuda')"
      ]
     },
     "execution_count": 32,
     "metadata": {},
     "output_type": "execute_result"
    }
   ],
   "source": [
    "model_digits.to(device)\n",
    "criterion_digits= torch.nn.CrossEntropyLoss()\n",
    "optimizer_digits = torch.optim.SGD(model_digits.parameters(), lr=0.001)\n",
    "device"
   ]
  },
  {
   "cell_type": "code",
   "execution_count": 33,
   "id": "iraqi-wrapping",
   "metadata": {
    "execution": {
     "iopub.execute_input": "2021-04-10T22:25:36.127524Z",
     "iopub.status.busy": "2021-04-10T22:25:36.126762Z",
     "iopub.status.idle": "2021-04-10T22:28:39.990938Z",
     "shell.execute_reply": "2021-04-10T22:28:39.991585Z"
    },
    "papermill": {
     "duration": 183.957454,
     "end_time": "2021-04-10T22:28:39.991804",
     "exception": false,
     "start_time": "2021-04-10T22:25:36.034350",
     "status": "completed"
    },
    "tags": []
   },
   "outputs": [
    {
     "name": "stdout",
     "output_type": "stream",
     "text": [
      "Epoch: 1 \tTraining Loss: 0.076285 \tValidation Loss: 0.101662\n",
      "Validation loss decreased (inf --> 0.101662).  Saving model ...\n",
      "Epoch: 2 \tTraining Loss: 0.076283 \tValidation Loss: 0.101665\n",
      "Epoch: 3 \tTraining Loss: 0.076275 \tValidation Loss: 0.101667\n",
      "Epoch: 4 \tTraining Loss: 0.076286 \tValidation Loss: 0.101671\n",
      "Epoch: 5 \tTraining Loss: 0.076287 \tValidation Loss: 0.101675\n",
      "Epoch: 6 \tTraining Loss: 0.076286 \tValidation Loss: 0.101676\n",
      "Epoch: 7 \tTraining Loss: 0.076277 \tValidation Loss: 0.101683\n",
      "Epoch: 8 \tTraining Loss: 0.076275 \tValidation Loss: 0.101683\n",
      "Epoch: 9 \tTraining Loss: 0.076286 \tValidation Loss: 0.101685\n",
      "Epoch: 10 \tTraining Loss: 0.076290 \tValidation Loss: 0.101690\n",
      "Epoch: 11 \tTraining Loss: 0.076273 \tValidation Loss: 0.101688\n",
      "Epoch: 12 \tTraining Loss: 0.076288 \tValidation Loss: 0.101690\n",
      "Epoch: 13 \tTraining Loss: 0.076286 \tValidation Loss: 0.101695\n",
      "Epoch: 14 \tTraining Loss: 0.076270 \tValidation Loss: 0.101699\n",
      "Epoch: 15 \tTraining Loss: 0.076277 \tValidation Loss: 0.101699\n",
      "Epoch: 16 \tTraining Loss: 0.076280 \tValidation Loss: 0.101701\n",
      "Epoch: 17 \tTraining Loss: 0.076277 \tValidation Loss: 0.101705\n",
      "Epoch: 18 \tTraining Loss: 0.076278 \tValidation Loss: 0.101710\n",
      "Epoch: 19 \tTraining Loss: 0.076281 \tValidation Loss: 0.101711\n",
      "Epoch: 20 \tTraining Loss: 0.076266 \tValidation Loss: 0.101714\n"
     ]
    }
   ],
   "source": [
    "tr_loss, val_loss, tr_acc, val_acc = train_model(model=model_digits, #model from scratch \n",
    "                                             num_epochs=20,\n",
    "                                             train_iterator=train_num_iterator,\n",
    "                                             valid_iterator=valid_num_iterator, \n",
    "                                             optimizer=optimizer_digits,\n",
    "                                             criterion=criterion_digits, \n",
    "                                            device=device, model_name=\"model_2.pt\")"
   ]
  },
  {
   "cell_type": "code",
   "execution_count": 34,
   "id": "nasty-cycling",
   "metadata": {
    "execution": {
     "iopub.execute_input": "2021-04-10T22:28:40.202747Z",
     "iopub.status.busy": "2021-04-10T22:28:40.201717Z",
     "iopub.status.idle": "2021-04-10T22:28:40.405068Z",
     "shell.execute_reply": "2021-04-10T22:28:40.404595Z"
    },
    "papermill": {
     "duration": 0.315946,
     "end_time": "2021-04-10T22:28:40.405220",
     "exception": false,
     "start_time": "2021-04-10T22:28:40.089274",
     "status": "completed"
    },
    "tags": []
   },
   "outputs": [
    {
     "data": {
      "image/png": "[encoded data removed]",
      "text/plain": [
       "<Figure size 432x288 with 1 Axes>"
      ]
     },
     "metadata": {
      "needs_background": "light"
     },
     "output_type": "display_data"
    }
   ],
   "source": [
    "plot_loss(tr_loss, val_loss)"
   ]
  },
  {
   "cell_type": "code",
   "execution_count": 35,
   "id": "recent-lebanon",
   "metadata": {
    "execution": {
     "iopub.execute_input": "2021-04-10T22:28:40.625448Z",
     "iopub.status.busy": "2021-04-10T22:28:40.624571Z",
     "iopub.status.idle": "2021-04-10T22:28:40.827049Z",
     "shell.execute_reply": "2021-04-10T22:28:40.826629Z"
    },
    "papermill": {
     "duration": 0.326301,
     "end_time": "2021-04-10T22:28:40.827179",
     "exception": false,
     "start_time": "2021-04-10T22:28:40.500878",
     "status": "completed"
    },
    "tags": []
   },
   "outputs": [
    {
     "data": {
      "image/png": "[encoded data removed]",
      "text/plain": [
       "<Figure size 432x288 with 1 Axes>"
      ]
     },
     "metadata": {
      "needs_background": "light"
     },
     "output_type": "display_data"
    }
   ],
   "source": [
    "plot_loss(tr_acc, val_acc)"
   ]
  },
  {
   "cell_type": "code",
   "execution_count": 36,
   "id": "nutritional-technique",
   "metadata": {
    "execution": {
     "iopub.execute_input": "2021-04-10T22:28:41.023477Z",
     "iopub.status.busy": "2021-04-10T22:28:41.022535Z",
     "iopub.status.idle": "2021-04-10T22:28:48.297189Z",
     "shell.execute_reply": "2021-04-10T22:28:48.297740Z"
    },
    "papermill": {
     "duration": 7.37457,
     "end_time": "2021-04-10T22:28:48.297944",
     "exception": false,
     "start_time": "2021-04-10T22:28:40.923374",
     "status": "completed"
    },
    "tags": []
   },
   "outputs": [
    {
     "name": "stdout",
     "output_type": "stream",
     "text": [
      "Got 35 / 332 with accuracy 10.54\n"
     ]
    }
   ],
   "source": [
    "cal_accuracy(train_num_iterator, model_digits, device)\n"
   ]
  },
  {
   "cell_type": "code",
   "execution_count": 37,
   "id": "common-basket",
   "metadata": {
    "execution": {
     "iopub.execute_input": "2021-04-10T22:28:48.501262Z",
     "iopub.status.busy": "2021-04-10T22:28:48.500407Z",
     "iopub.status.idle": "2021-04-10T22:28:50.035986Z",
     "shell.execute_reply": "2021-04-10T22:28:50.036429Z"
    },
    "papermill": {
     "duration": 1.63642,
     "end_time": "2021-04-10T22:28:50.036586",
     "exception": false,
     "start_time": "2021-04-10T22:28:48.400166",
     "status": "completed"
    },
    "tags": []
   },
   "outputs": [
    {
     "name": "stdout",
     "output_type": "stream",
     "text": [
      "Got 5 / 68 with accuracy 7.35\n"
     ]
    }
   ],
   "source": [
    "cal_accuracy(valid_num_iterator, model_digits, device)"
   ]
  },
  {
   "cell_type": "markdown",
   "id": "hourly-metropolitan",
   "metadata": {
    "papermill": {
     "duration": 0.097038,
     "end_time": "2021-04-10T22:28:50.230380",
     "exception": false,
     "start_time": "2021-04-10T22:28:50.133342",
     "status": "completed"
    },
    "tags": []
   },
   "source": [
    "## B.5. Conclusion\n",
    "\n",
    "In this section we notice that model works better than before. This is because the same model has already 'learned' the features, i.e. the weights. In the pretrained case we observe accuracies around 92 percent for training and 89 percent for testing. But in case of scratch model trained on digits with same hyper parameters we observe poor performance. "
   ]
  },
  {
   "cell_type": "markdown",
   "id": "veterinary-uncertainty",
   "metadata": {
    "papermill": {
     "duration": 0.097426,
     "end_time": "2021-04-10T22:28:50.424270",
     "exception": false,
     "start_time": "2021-04-10T22:28:50.326844",
     "status": "completed"
    },
    "tags": []
   },
   "source": [
    "# Section C: Digit Images Classification on different dataset\n",
    "---"
   ]
  },
  {
   "cell_type": "markdown",
   "id": "linear-apollo",
   "metadata": {
    "papermill": {
     "duration": 0.09586,
     "end_time": "2021-04-10T22:28:50.616747",
     "exception": false,
     "start_time": "2021-04-10T22:28:50.520887",
     "status": "completed"
    },
    "tags": []
   },
   "source": [
    "## C.1. Loading data and model "
   ]
  },
  {
   "cell_type": "code",
   "execution_count": 38,
   "id": "appreciated-dialogue",
   "metadata": {
    "execution": {
     "iopub.execute_input": "2021-04-10T22:28:50.813120Z",
     "iopub.status.busy": "2021-04-10T22:28:50.812539Z",
     "iopub.status.idle": "2021-04-10T22:29:43.125754Z",
     "shell.execute_reply": "2021-04-10T22:29:43.124671Z"
    },
    "papermill": {
     "duration": 52.413745,
     "end_time": "2021-04-10T22:29:43.125920",
     "exception": false,
     "start_time": "2021-04-10T22:28:50.712175",
     "status": "completed"
    },
    "tags": []
   },
   "outputs": [],
   "source": [
    "data_folder = '../input/task3/mnistTask'\n",
    "new_data = datasets.ImageFolder(root = data_folder, transform=train_transforms)"
   ]
  },
  {
   "cell_type": "code",
   "execution_count": 39,
   "id": "vulnerable-thinking",
   "metadata": {
    "execution": {
     "iopub.execute_input": "2021-04-10T22:29:43.337230Z",
     "iopub.status.busy": "2021-04-10T22:29:43.336410Z",
     "iopub.status.idle": "2021-04-10T22:29:43.651048Z",
     "shell.execute_reply": "2021-04-10T22:29:43.651663Z"
    },
    "papermill": {
     "duration": 0.423235,
     "end_time": "2021-04-10T22:29:43.651857",
     "exception": false,
     "start_time": "2021-04-10T22:29:43.228622",
     "status": "completed"
    },
    "tags": []
   },
   "outputs": [
    {
     "name": "stdout",
     "output_type": "stream",
     "text": [
      "Number of training examples: 49800\n",
      "Number of validation examples: 10200\n"
     ]
    }
   ],
   "source": [
    "VALID_RATIO = 0.83\n",
    "new_train_data = int(len(new_data) * VALID_RATIO)\n",
    "new_valid_data = len(new_data) - new_train_data\n",
    "train, valid = data.random_split(new_data, [new_train_data, new_valid_data])\n",
    "\n",
    "valid = copy.deepcopy(valid)\n",
    "valid.dataset.transform = train_transforms\n",
    "\n",
    "print(f'Number of training examples: {len(train)}')\n",
    "print(f'Number of validation examples: {len(valid)}')"
   ]
  },
  {
   "cell_type": "code",
   "execution_count": 40,
   "id": "opened-monroe",
   "metadata": {
    "execution": {
     "iopub.execute_input": "2021-04-10T22:29:43.849787Z",
     "iopub.status.busy": "2021-04-10T22:29:43.849085Z",
     "iopub.status.idle": "2021-04-10T22:29:43.852658Z",
     "shell.execute_reply": "2021-04-10T22:29:43.852245Z"
    },
    "papermill": {
     "duration": 0.103066,
     "end_time": "2021-04-10T22:29:43.852766",
     "exception": false,
     "start_time": "2021-04-10T22:29:43.749700",
     "status": "completed"
    },
    "tags": []
   },
   "outputs": [],
   "source": [
    "train_loader = data.DataLoader(train, batch_size = 256)\n",
    "valid_loader = data.DataLoader(valid, batch_size = 256)"
   ]
  },
  {
   "cell_type": "code",
   "execution_count": 41,
   "id": "inside-destination",
   "metadata": {
    "execution": {
     "iopub.execute_input": "2021-04-10T22:29:44.048349Z",
     "iopub.status.busy": "2021-04-10T22:29:44.047615Z",
     "iopub.status.idle": "2021-04-10T22:29:44.526429Z",
     "shell.execute_reply": "2021-04-10T22:29:44.526914Z"
    },
    "papermill": {
     "duration": 0.578826,
     "end_time": "2021-04-10T22:29:44.527070",
     "exception": false,
     "start_time": "2021-04-10T22:29:43.948244",
     "status": "completed"
    },
    "tags": []
   },
   "outputs": [
    {
     "data": {
      "text/plain": [
       "device(type='cuda')"
      ]
     },
     "execution_count": 41,
     "metadata": {},
     "output_type": "execute_result"
    }
   ],
   "source": [
    "model_scratch = Net(10)\n",
    "model_scratch.to(device)\n",
    "\n",
    "criterion_scratch = torch.nn.CrossEntropyLoss()\n",
    "optimizer_scratch = torch.optim.SGD(model_scratch.parameters(), lr=0.1)\n",
    "device"
   ]
  },
  {
   "cell_type": "code",
   "execution_count": 42,
   "id": "median-ballot",
   "metadata": {
    "execution": {
     "iopub.execute_input": "2021-04-10T22:29:44.729062Z",
     "iopub.status.busy": "2021-04-10T22:29:44.728314Z",
     "iopub.status.idle": "2021-04-10T22:29:44.731577Z",
     "shell.execute_reply": "2021-04-10T22:29:44.731938Z"
    },
    "papermill": {
     "duration": 0.106623,
     "end_time": "2021-04-10T22:29:44.732078",
     "exception": false,
     "start_time": "2021-04-10T22:29:44.625455",
     "status": "completed"
    },
    "tags": []
   },
   "outputs": [
    {
     "data": {
      "text/plain": [
       "Net(\n",
       "  (features): Sequential(\n",
       "    (0): Conv2d(3, 64, kernel_size=(11, 11), stride=(4, 4), padding=(2, 2))\n",
       "    (1): ReLU(inplace=True)\n",
       "    (2): MaxPool2d(kernel_size=3, stride=2, padding=0, dilation=1, ceil_mode=False)\n",
       "    (3): Conv2d(64, 192, kernel_size=(5, 5), stride=(1, 1), padding=(2, 2))\n",
       "    (4): ReLU(inplace=True)\n",
       "    (5): MaxPool2d(kernel_size=3, stride=2, padding=0, dilation=1, ceil_mode=False)\n",
       "    (6): Conv2d(192, 384, kernel_size=(3, 3), stride=(1, 1), padding=(1, 1))\n",
       "    (7): ReLU(inplace=True)\n",
       "    (8): Conv2d(384, 256, kernel_size=(3, 3), stride=(1, 1), padding=(1, 1))\n",
       "    (9): ReLU(inplace=True)\n",
       "    (10): Conv2d(256, 256, kernel_size=(3, 3), stride=(1, 1), padding=(1, 1))\n",
       "    (11): ReLU(inplace=True)\n",
       "    (12): MaxPool2d(kernel_size=3, stride=2, padding=0, dilation=1, ceil_mode=False)\n",
       "  )\n",
       "  (avgpool): AdaptiveAvgPool2d(output_size=(6, 6))\n",
       "  (classifier): Sequential(\n",
       "    (0): Dropout(p=0.5, inplace=False)\n",
       "    (1): Linear(in_features=9216, out_features=4096, bias=True)\n",
       "    (2): ReLU(inplace=True)\n",
       "    (3): Dropout(p=0.5, inplace=False)\n",
       "    (4): Linear(in_features=4096, out_features=4096, bias=True)\n",
       "    (5): ReLU(inplace=True)\n",
       "    (6): Linear(in_features=4096, out_features=10, bias=True)\n",
       "  )\n",
       ")"
      ]
     },
     "execution_count": 42,
     "metadata": {},
     "output_type": "execute_result"
    }
   ],
   "source": [
    "model_scratch"
   ]
  },
  {
   "cell_type": "markdown",
   "id": "still-dublin",
   "metadata": {
    "papermill": {
     "duration": 0.100227,
     "end_time": "2021-04-10T22:29:44.931840",
     "exception": false,
     "start_time": "2021-04-10T22:29:44.831613",
     "status": "completed"
    },
    "tags": []
   },
   "source": [
    "## C.2. Training Model from scratch"
   ]
  },
  {
   "cell_type": "code",
   "execution_count": 43,
   "id": "exotic-obligation",
   "metadata": {
    "execution": {
     "iopub.execute_input": "2021-04-10T22:29:45.137234Z",
     "iopub.status.busy": "2021-04-10T22:29:45.136547Z",
     "iopub.status.idle": "2021-04-10T22:59:03.098423Z",
     "shell.execute_reply": "2021-04-10T22:59:03.099014Z"
    },
    "papermill": {
     "duration": 1758.065974,
     "end_time": "2021-04-10T22:59:03.099219",
     "exception": false,
     "start_time": "2021-04-10T22:29:45.033245",
     "status": "completed"
    },
    "tags": []
   },
   "outputs": [
    {
     "name": "stdout",
     "output_type": "stream",
     "text": [
      "Epoch: 1 \tTraining Loss: 0.009017 \tValidation Loss: 0.009030\n",
      "Validation loss decreased (inf --> 0.009030).  Saving model ...\n",
      "Epoch: 2 \tTraining Loss: 0.009016 \tValidation Loss: 0.009030\n",
      "Validation loss decreased (0.009030 --> 0.009030).  Saving model ...\n",
      "Epoch: 3 \tTraining Loss: 0.009016 \tValidation Loss: 0.009030\n",
      "Validation loss decreased (0.009030 --> 0.009030).  Saving model ...\n",
      "Epoch: 4 \tTraining Loss: 0.009016 \tValidation Loss: 0.009030\n",
      "Validation loss decreased (0.009030 --> 0.009030).  Saving model ...\n",
      "Epoch: 5 \tTraining Loss: 0.009016 \tValidation Loss: 0.009030\n",
      "Validation loss decreased (0.009030 --> 0.009030).  Saving model ...\n",
      "Epoch: 6 \tTraining Loss: 0.009016 \tValidation Loss: 0.009029\n",
      "Validation loss decreased (0.009030 --> 0.009029).  Saving model ...\n",
      "Epoch: 7 \tTraining Loss: 0.009016 \tValidation Loss: 0.009029\n",
      "Validation loss decreased (0.009029 --> 0.009029).  Saving model ...\n",
      "Epoch: 8 \tTraining Loss: 0.009015 \tValidation Loss: 0.009028\n",
      "Validation loss decreased (0.009029 --> 0.009028).  Saving model ...\n",
      "Epoch: 9 \tTraining Loss: 0.009014 \tValidation Loss: 0.009026\n",
      "Validation loss decreased (0.009028 --> 0.009026).  Saving model ...\n",
      "Epoch: 10 \tTraining Loss: 0.009012 \tValidation Loss: 0.009023\n",
      "Validation loss decreased (0.009026 --> 0.009023).  Saving model ...\n",
      "Epoch: 11 \tTraining Loss: 0.009010 \tValidation Loss: 0.009019\n",
      "Validation loss decreased (0.009023 --> 0.009019).  Saving model ...\n",
      "Epoch: 12 \tTraining Loss: 0.009006 \tValidation Loss: 0.009015\n",
      "Validation loss decreased (0.009019 --> 0.009015).  Saving model ...\n",
      "Epoch: 13 \tTraining Loss: 0.009002 \tValidation Loss: 0.009011\n",
      "Validation loss decreased (0.009015 --> 0.009011).  Saving model ...\n",
      "Epoch: 14 \tTraining Loss: 0.008998 \tValidation Loss: 0.009007\n",
      "Validation loss decreased (0.009011 --> 0.009007).  Saving model ...\n",
      "Epoch: 15 \tTraining Loss: 0.008993 \tValidation Loss: 0.009001\n",
      "Validation loss decreased (0.009007 --> 0.009001).  Saving model ...\n",
      "Epoch: 16 \tTraining Loss: 0.008982 \tValidation Loss: 0.008993\n",
      "Validation loss decreased (0.009001 --> 0.008993).  Saving model ...\n",
      "Epoch: 17 \tTraining Loss: 0.008970 \tValidation Loss: 0.008976\n",
      "Validation loss decreased (0.008993 --> 0.008976).  Saving model ...\n",
      "Epoch: 18 \tTraining Loss: 0.008955 \tValidation Loss: 0.008981\n",
      "Epoch: 19 \tTraining Loss: 0.008940 \tValidation Loss: 0.009013\n",
      "Epoch: 20 \tTraining Loss: 0.008928 \tValidation Loss: 0.008942\n",
      "Validation loss decreased (0.008976 --> 0.008942).  Saving model ...\n"
     ]
    }
   ],
   "source": [
    "train_loss_scratch, valid_loss_scratch, train_acc_scratch, valid_acc_scratch = train_model(model=model_scratch, #Scratch model \n",
    "                                                                                 num_epochs=20,\n",
    "                                                                                 train_iterator=train_loader,\n",
    "                                                                                 valid_iterator=valid_loader, \n",
    "                                                                                 optimizer=optimizer_scratch,\n",
    "                                                                                 criterion=criterion_scratch, \n",
    "                                                                                device=device, model_name=\"model_scratch.pt\")"
   ]
  },
  {
   "cell_type": "code",
   "execution_count": 44,
   "id": "resident-paint",
   "metadata": {
    "execution": {
     "iopub.execute_input": "2021-04-10T22:59:03.329219Z",
     "iopub.status.busy": "2021-04-10T22:59:03.328684Z",
     "iopub.status.idle": "2021-04-10T22:59:03.529305Z",
     "shell.execute_reply": "2021-04-10T22:59:03.528517Z"
    },
    "papermill": {
     "duration": 0.322865,
     "end_time": "2021-04-10T22:59:03.529426",
     "exception": false,
     "start_time": "2021-04-10T22:59:03.206561",
     "status": "completed"
    },
    "tags": []
   },
   "outputs": [
    {
     "data": {
      "image/png": "[encoded data removed]",
      "text/plain": [
       "<Figure size 432x288 with 1 Axes>"
      ]
     },
     "metadata": {
      "needs_background": "light"
     },
     "output_type": "display_data"
    }
   ],
   "source": [
    "plot_loss(train_loss_scratch, valid_loss_scratch)"
   ]
  },
  {
   "cell_type": "code",
   "execution_count": 45,
   "id": "given-detroit",
   "metadata": {
    "execution": {
     "iopub.execute_input": "2021-04-10T22:59:03.902599Z",
     "iopub.status.busy": "2021-04-10T22:59:03.887578Z",
     "iopub.status.idle": "2021-04-10T22:59:04.081967Z",
     "shell.execute_reply": "2021-04-10T22:59:04.081484Z"
    },
    "papermill": {
     "duration": 0.446003,
     "end_time": "2021-04-10T22:59:04.082089",
     "exception": false,
     "start_time": "2021-04-10T22:59:03.636086",
     "status": "completed"
    },
    "tags": []
   },
   "outputs": [
    {
     "data": {
      "image/png": "[encoded data removed]",
      "text/plain": [
       "<Figure size 432x288 with 1 Axes>"
      ]
     },
     "metadata": {
      "needs_background": "light"
     },
     "output_type": "display_data"
    }
   ],
   "source": [
    "plot_loss(train_acc_scratch, valid_acc_scratch)"
   ]
  },
  {
   "cell_type": "code",
   "execution_count": 46,
   "id": "funky-credits",
   "metadata": {
    "execution": {
     "iopub.execute_input": "2021-04-10T22:59:04.298935Z",
     "iopub.status.busy": "2021-04-10T22:59:04.298095Z",
     "iopub.status.idle": "2021-04-10T23:00:02.850708Z",
     "shell.execute_reply": "2021-04-10T23:00:02.851137Z"
    },
    "papermill": {
     "duration": 58.663422,
     "end_time": "2021-04-10T23:00:02.851290",
     "exception": false,
     "start_time": "2021-04-10T22:59:04.187868",
     "status": "completed"
    },
    "tags": []
   },
   "outputs": [
    {
     "name": "stdout",
     "output_type": "stream",
     "text": [
      "Got 5490 / 49800 with accuracy 11.02\n"
     ]
    }
   ],
   "source": [
    "cal_accuracy(train_loader, model_scratch, device)"
   ]
  },
  {
   "cell_type": "code",
   "execution_count": 47,
   "id": "foster-cooling",
   "metadata": {
    "execution": {
     "iopub.execute_input": "2021-04-10T23:00:03.069425Z",
     "iopub.status.busy": "2021-04-10T23:00:03.068480Z",
     "iopub.status.idle": "2021-04-10T23:00:14.945603Z",
     "shell.execute_reply": "2021-04-10T23:00:14.946337Z"
    },
    "papermill": {
     "duration": 11.988869,
     "end_time": "2021-04-10T23:00:14.946495",
     "exception": false,
     "start_time": "2021-04-10T23:00:02.957626",
     "status": "completed"
    },
    "tags": []
   },
   "outputs": [
    {
     "name": "stdout",
     "output_type": "stream",
     "text": [
      "Got 1093 / 10200 with accuracy 10.72\n"
     ]
    }
   ],
   "source": [
    "cal_accuracy(valid_loader, model_scratch, device)"
   ]
  },
  {
   "cell_type": "markdown",
   "id": "moral-keeping",
   "metadata": {
    "papermill": {
     "duration": 0.105103,
     "end_time": "2021-04-10T23:00:15.157022",
     "exception": false,
     "start_time": "2021-04-10T23:00:15.051919",
     "status": "completed"
    },
    "tags": []
   },
   "source": [
    "## C.3. Training the pretrained model (on mnistTask3 dataset)\n"
   ]
  },
  {
   "cell_type": "code",
   "execution_count": 48,
   "id": "informal-mortality",
   "metadata": {
    "execution": {
     "iopub.execute_input": "2021-04-10T23:00:15.375191Z",
     "iopub.status.busy": "2021-04-10T23:00:15.374518Z",
     "iopub.status.idle": "2021-04-10T23:00:15.378108Z",
     "shell.execute_reply": "2021-04-10T23:00:15.378520Z"
    },
    "papermill": {
     "duration": 0.115189,
     "end_time": "2021-04-10T23:00:15.378650",
     "exception": false,
     "start_time": "2021-04-10T23:00:15.263461",
     "status": "completed"
    },
    "tags": []
   },
   "outputs": [
    {
     "data": {
      "text/plain": [
       "Net(\n",
       "  (features): Sequential(\n",
       "    (0): Conv2d(3, 64, kernel_size=(11, 11), stride=(4, 4), padding=(2, 2))\n",
       "    (1): ReLU(inplace=True)\n",
       "    (2): MaxPool2d(kernel_size=3, stride=2, padding=0, dilation=1, ceil_mode=False)\n",
       "    (3): Conv2d(64, 192, kernel_size=(5, 5), stride=(1, 1), padding=(2, 2))\n",
       "    (4): ReLU(inplace=True)\n",
       "    (5): MaxPool2d(kernel_size=3, stride=2, padding=0, dilation=1, ceil_mode=False)\n",
       "    (6): Conv2d(192, 384, kernel_size=(3, 3), stride=(1, 1), padding=(1, 1))\n",
       "    (7): ReLU(inplace=True)\n",
       "    (8): Conv2d(384, 256, kernel_size=(3, 3), stride=(1, 1), padding=(1, 1))\n",
       "    (9): ReLU(inplace=True)\n",
       "    (10): Conv2d(256, 256, kernel_size=(3, 3), stride=(1, 1), padding=(1, 1))\n",
       "    (11): ReLU(inplace=True)\n",
       "    (12): MaxPool2d(kernel_size=3, stride=2, padding=0, dilation=1, ceil_mode=False)\n",
       "  )\n",
       "  (avgpool): AdaptiveAvgPool2d(output_size=(6, 6))\n",
       "  (classifier): Sequential(\n",
       "    (0): Dropout(p=0.5, inplace=False)\n",
       "    (1): Linear(in_features=9216, out_features=4096, bias=True)\n",
       "    (2): ReLU(inplace=True)\n",
       "    (3): Dropout(p=0.5, inplace=False)\n",
       "    (4): Linear(in_features=4096, out_features=1024, bias=True)\n",
       "    (5): ReLU(inplace=True)\n",
       "    (6): Linear(in_features=1024, out_features=10, bias=True)\n",
       "  )\n",
       ")"
      ]
     },
     "execution_count": 48,
     "metadata": {},
     "output_type": "execute_result"
    }
   ],
   "source": [
    "model_trained "
   ]
  },
  {
   "cell_type": "code",
   "execution_count": 49,
   "id": "smart-happening",
   "metadata": {
    "execution": {
     "iopub.execute_input": "2021-04-10T23:00:15.597670Z",
     "iopub.status.busy": "2021-04-10T23:00:15.596970Z",
     "iopub.status.idle": "2021-04-10T23:00:15.599788Z",
     "shell.execute_reply": "2021-04-10T23:00:15.600207Z"
    },
    "papermill": {
     "duration": 0.115626,
     "end_time": "2021-04-10T23:00:15.600349",
     "exception": false,
     "start_time": "2021-04-10T23:00:15.484723",
     "status": "completed"
    },
    "tags": []
   },
   "outputs": [
    {
     "data": {
      "text/plain": [
       "device(type='cuda')"
      ]
     },
     "execution_count": 49,
     "metadata": {},
     "output_type": "execute_result"
    }
   ],
   "source": [
    "criterion_trained_new = torch.nn.CrossEntropyLoss()\n",
    "optimizer_trained_new = torch.optim.SGD(model_trained.parameters(), lr=0.1)\n",
    "device"
   ]
  },
  {
   "cell_type": "code",
   "execution_count": 50,
   "id": "czech-stable",
   "metadata": {
    "execution": {
     "iopub.execute_input": "2021-04-10T23:00:15.820839Z",
     "iopub.status.busy": "2021-04-10T23:00:15.820292Z",
     "iopub.status.idle": "2021-04-10T23:26:22.198222Z",
     "shell.execute_reply": "2021-04-10T23:26:22.198666Z"
    },
    "papermill": {
     "duration": 1566.48994,
     "end_time": "2021-04-10T23:26:22.198849",
     "exception": false,
     "start_time": "2021-04-10T23:00:15.708909",
     "status": "completed"
    },
    "tags": []
   },
   "outputs": [
    {
     "name": "stdout",
     "output_type": "stream",
     "text": [
      "Epoch: 1 \tTraining Loss: nan \tValidation Loss: nan\n",
      "Epoch: 2 \tTraining Loss: nan \tValidation Loss: nan\n",
      "Epoch: 3 \tTraining Loss: nan \tValidation Loss: nan\n",
      "Epoch: 4 \tTraining Loss: nan \tValidation Loss: nan\n",
      "Epoch: 5 \tTraining Loss: nan \tValidation Loss: nan\n",
      "Epoch: 6 \tTraining Loss: nan \tValidation Loss: nan\n",
      "Epoch: 7 \tTraining Loss: nan \tValidation Loss: nan\n",
      "Epoch: 8 \tTraining Loss: nan \tValidation Loss: nan\n",
      "Epoch: 9 \tTraining Loss: nan \tValidation Loss: nan\n",
      "Epoch: 10 \tTraining Loss: nan \tValidation Loss: nan\n",
      "Epoch: 11 \tTraining Loss: nan \tValidation Loss: nan\n",
      "Epoch: 12 \tTraining Loss: nan \tValidation Loss: nan\n",
      "Epoch: 13 \tTraining Loss: nan \tValidation Loss: nan\n",
      "Epoch: 14 \tTraining Loss: nan \tValidation Loss: nan\n",
      "Epoch: 15 \tTraining Loss: nan \tValidation Loss: nan\n",
      "Epoch: 16 \tTraining Loss: nan \tValidation Loss: nan\n",
      "Epoch: 17 \tTraining Loss: nan \tValidation Loss: nan\n",
      "Epoch: 18 \tTraining Loss: nan \tValidation Loss: nan\n",
      "Epoch: 19 \tTraining Loss: nan \tValidation Loss: nan\n",
      "Epoch: 20 \tTraining Loss: nan \tValidation Loss: nan\n"
     ]
    }
   ],
   "source": [
    "train_loss_, valid_loss_, train_acc_, valid_acc_ = train_model(model=model_trained, #Pretrained model from section B.3.\n",
    "                                                                 num_epochs=20,\n",
    "                                                                 train_iterator=train_loader,\n",
    "                                                                 valid_iterator=valid_loader, \n",
    "                                                                 optimizer=optimizer_trained_new,\n",
    "                                                                 criterion=criterion_trained_new, \n",
    "                                                                device=device, model_name=\"model_pretr.pt\")"
   ]
  },
  {
   "cell_type": "code",
   "execution_count": 51,
   "id": "miniature-measurement",
   "metadata": {
    "execution": {
     "iopub.execute_input": "2021-04-10T23:26:22.441588Z",
     "iopub.status.busy": "2021-04-10T23:26:22.440858Z",
     "iopub.status.idle": "2021-04-10T23:26:22.622298Z",
     "shell.execute_reply": "2021-04-10T23:26:22.621427Z"
    },
    "papermill": {
     "duration": 0.310503,
     "end_time": "2021-04-10T23:26:22.622423",
     "exception": false,
     "start_time": "2021-04-10T23:26:22.311920",
     "status": "completed"
    },
    "tags": []
   },
   "outputs": [
    {
     "data": {
      "image/png": "[encoded data removed]",
      "text/plain": [
       "<Figure size 432x288 with 1 Axes>"
      ]
     },
     "metadata": {
      "needs_background": "light"
     },
     "output_type": "display_data"
    }
   ],
   "source": [
    "plot_loss(train_loss_, train_loss_)"
   ]
  },
  {
   "cell_type": "code",
   "execution_count": 52,
   "id": "prerequisite-engineer",
   "metadata": {
    "execution": {
     "iopub.execute_input": "2021-04-10T23:26:22.873809Z",
     "iopub.status.busy": "2021-04-10T23:26:22.872973Z",
     "iopub.status.idle": "2021-04-10T23:26:23.071232Z",
     "shell.execute_reply": "2021-04-10T23:26:23.070790Z"
    },
    "papermill": {
     "duration": 0.334397,
     "end_time": "2021-04-10T23:26:23.071357",
     "exception": false,
     "start_time": "2021-04-10T23:26:22.736960",
     "status": "completed"
    },
    "tags": []
   },
   "outputs": [
    {
     "data": {
      "image/png": "[encoded data removed]",
      "text/plain": [
       "<Figure size 432x288 with 1 Axes>"
      ]
     },
     "metadata": {
      "needs_background": "light"
     },
     "output_type": "display_data"
    }
   ],
   "source": [
    "plot_loss(train_acc_, valid_acc_)"
   ]
  },
  {
   "cell_type": "code",
   "execution_count": 53,
   "id": "adjacent-oriental",
   "metadata": {
    "execution": {
     "iopub.execute_input": "2021-04-10T23:26:23.304377Z",
     "iopub.status.busy": "2021-04-10T23:26:23.303550Z",
     "iopub.status.idle": "2021-04-10T23:27:28.703056Z",
     "shell.execute_reply": "2021-04-10T23:27:28.703523Z"
    },
    "papermill": {
     "duration": 65.518194,
     "end_time": "2021-04-10T23:27:28.703677",
     "exception": false,
     "start_time": "2021-04-10T23:26:23.185483",
     "status": "completed"
    },
    "tags": []
   },
   "outputs": [
    {
     "name": "stdout",
     "output_type": "stream",
     "text": [
      "Got 4968 / 49800 with accuracy 9.98\n"
     ]
    }
   ],
   "source": [
    "cal_accuracy(train_loader, model_trained, device)"
   ]
  },
  {
   "cell_type": "code",
   "execution_count": 54,
   "id": "proved-brown",
   "metadata": {
    "execution": {
     "iopub.execute_input": "2021-04-10T23:27:28.935371Z",
     "iopub.status.busy": "2021-04-10T23:27:28.934801Z",
     "iopub.status.idle": "2021-04-10T23:28:29.000653Z",
     "shell.execute_reply": "2021-04-10T23:28:29.001066Z"
    },
    "papermill": {
     "duration": 60.18427,
     "end_time": "2021-04-10T23:28:29.001220",
     "exception": false,
     "start_time": "2021-04-10T23:27:28.816950",
     "status": "completed"
    },
    "tags": []
   },
   "outputs": [
    {
     "name": "stdout",
     "output_type": "stream",
     "text": [
      "Got 4968 / 49800 with accuracy 9.98\n"
     ]
    }
   ],
   "source": [
    "cal_accuracy(train_loader, model_trained, device)"
   ]
  },
  {
   "cell_type": "markdown",
   "id": "persistent-master",
   "metadata": {
    "papermill": {
     "duration": 0.113727,
     "end_time": "2021-04-10T23:28:29.230806",
     "exception": false,
     "start_time": "2021-04-10T23:28:29.117079",
     "status": "completed"
    },
    "tags": []
   },
   "source": [
    "# The END!"
   ]
  }
 ],
 "metadata": {
  "kernelspec": {
   "display_name": "Python 3",
   "language": "python",
   "name": "python3"
  },
  "language_info": {
   "codemirror_mode": {
    "name": "ipython",
    "version": 3
   },
   "file_extension": ".py",
   "mimetype": "text/x-python",
   "name": "python",
   "nbconvert_exporter": "python",
   "pygments_lexer": "ipython3",
   "version": "3.7.9"
  },
  "papermill": {
   "default_parameters": {},
   "duration": 9547.296557,
   "end_time": "2021-04-10T23:28:31.304503",
   "environment_variables": {},
   "exception": null,
   "input_path": "__notebook__.ipynb",
   "output_path": "__notebook__.ipynb",
   "parameters": {},
   "start_time": "2021-04-10T20:49:24.007946",
   "version": "2.3.2"
  }
 },
 "nbformat": 4,
 "nbformat_minor": 5
}