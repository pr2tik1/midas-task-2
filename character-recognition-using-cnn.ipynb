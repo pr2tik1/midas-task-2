{
 "cells": [
  {
   "cell_type": "markdown",
   "id": "elegant-travel",
   "metadata": {
    "id": "kzeU5N8aB5J4",
    "papermill": {
     "duration": 0.05343,
     "end_time": "2021-04-10T16:35:32.547983",
     "exception": false,
     "start_time": "2021-04-10T16:35:32.494553",
     "status": "completed"
    },
    "tags": []
   },
   "source": [
    "# Character Recognition\n",
    "---\n",
    "> Image Classification using convolution neural networks. Author: [Pratik Kumar](https://pr2tik1.github.io)<br>Submitted to: [MIDAS Labs](http://midas.iiitd.edu.in)\n",
    "\n",
    "## Objective\n",
    "\n",
    "This notebook is divided into three sections with respect to the tasks:\n",
    "\n",
    "1. Section A :  \n",
    "\n",
    "> Use this [dataset](https://www.dropbox.com/s/pan6mutc5xj5kj0/trainPart1.zip) to train a\n",
    "CNN. Use no other data source or pretrained networks, and explain your design choices during preprocessing, model building and training. Also, cite the sources you used to\n",
    "borrow techniques. A test set will be provided later to judge the performance of your\n",
    "classifier. \n",
    "\n",
    "2. Section B:\n",
    "\n",
    ">Next, select only 0-9 training images from the above dataset, and use the pretrained\n",
    "network to train on MNIST dataset. Use the standard MNIST train and test splits\n",
    "(http://yann.lecun.com/exdb/mnist/). How does this pretrained network perform in\n",
    "comparison to a randomly initialized network in terms of convergence time, final\n",
    "accuracy and other possible training quality metrics? Do a thorough analysis. \n",
    "\n",
    "3. Section C: \n",
    "\n",
    ">Finally, take the following dataset\n",
    "(https://www.dropbox.com/s/otc12z2w7f7xm8z/mnistTask3.zip), train on this dataset and\n",
    "provide test accuracy on the MNIST test set, using the same test split from part 2. Train\n",
    "using scratch random initialization and using the pretrained network part 1. Do the same\n",
    "analysis as 2 and report what happens this time. Try and do qualitative analysis of what's\n",
    "different in this dataset. "
   ]
  },
  {
   "cell_type": "markdown",
   "id": "human-single",
   "metadata": {
    "papermill": {
     "duration": 0.052464,
     "end_time": "2021-04-10T16:35:32.653968",
     "exception": false,
     "start_time": "2021-04-10T16:35:32.601504",
     "status": "completed"
    },
    "tags": []
   },
   "source": [
    "# Section A: **Character Images Classification**\n",
    "---"
   ]
  },
  {
   "cell_type": "markdown",
   "id": "alike-usage",
   "metadata": {
    "id": "-El4QDZ6B5KH",
    "papermill": {
     "duration": 0.052304,
     "end_time": "2021-04-10T16:35:32.758688",
     "exception": false,
     "start_time": "2021-04-10T16:35:32.706384",
     "status": "completed"
    },
    "tags": []
   },
   "source": [
    "## A.1. Importing Modules\n",
    "\n",
    "To develop and train a convolution neural network architecture, I have used PyTorch framework. Along with this OpenCV, numpy, pandas and matplotlib for image data handling and plotting are used. In this section we will importing all necessary modules.  "
   ]
  },
  {
   "cell_type": "code",
   "execution_count": 2,
   "id": "protective-alexandria",
   "metadata": {
    "execution": {
     "iopub.execute_input": "2021-04-10T16:35:43.678430Z",
     "iopub.status.busy": "2021-04-10T16:35:43.677353Z",
     "iopub.status.idle": "2021-04-10T16:35:46.593086Z",
     "shell.execute_reply": "2021-04-10T16:35:46.591811Z"
    },
    "id": "rLlMNjHYB5KI",
    "papermill": {
     "duration": 2.978439,
     "end_time": "2021-04-10T16:35:46.593237",
     "exception": false,
     "start_time": "2021-04-10T16:35:43.614798",
     "status": "completed"
    },
    "tags": []
   },
   "outputs": [],
   "source": [
    "import random\n",
    "import copy\n",
    "import time \n",
    "import pandas as pd \n",
    "from PIL import Image\n",
    "from torchsummary import summary\n",
    "\n",
    "\n",
    "import torch\n",
    "import torchvision\n",
    "import torch.optim as optim\n",
    "import torch.utils.data as data\n",
    "import torchvision.datasets as datasets\n",
    "import torchvision.transforms as transforms\n",
    "from torch.utils.data import Dataset, DataLoader\n",
    "from sklearn.model_selection import train_test_split"
   ]
  },
  {
   "cell_type": "code",
   "execution_count": 3,
   "id": "attached-textbook",
   "metadata": {
    "execution": {
     "iopub.execute_input": "2021-04-10T16:35:46.703888Z",
     "iopub.status.busy": "2021-04-10T16:35:46.703070Z",
     "iopub.status.idle": "2021-04-10T16:35:46.917465Z",
     "shell.execute_reply": "2021-04-10T16:35:46.916378Z"
    },
    "id": "Tnjv8qEIB5KJ",
    "papermill": {
     "duration": 0.271814,
     "end_time": "2021-04-10T16:35:46.917624",
     "exception": false,
     "start_time": "2021-04-10T16:35:46.645810",
     "status": "completed"
    },
    "tags": []
   },
   "outputs": [],
   "source": [
    "from data import dataset\n",
    "from plotting import plot_loss, plot_images\n",
    "from model import Net\n",
    "from train import train_model, compute_accuracy, cal_accuracy"
   ]
  },
  {
   "cell_type": "markdown",
   "id": "weighted-chance",
   "metadata": {
    "id": "b6Texa3gB5KK",
    "papermill": {
     "duration": 0.051391,
     "end_time": "2021-04-10T16:35:47.021399",
     "exception": false,
     "start_time": "2021-04-10T16:35:46.970008",
     "status": "completed"
    },
    "tags": []
   },
   "source": [
    "## A.2. Data Preprocessing\n",
    "\n",
    "The initial step is to create a dataframe of labels generated by carefully examining the dataset provided. This Labels.csv is mapped to image with its corresponding labels. This is necessary step for our model to understand classes. PyTorch also provides torchvision.data.ImageFolder() function to   "
   ]
  },
  {
   "cell_type": "markdown",
   "id": "featured-license",
   "metadata": {
    "papermill": {
     "duration": 0.052614,
     "end_time": "2021-04-10T16:35:47.126252",
     "exception": false,
     "start_time": "2021-04-10T16:35:47.073638",
     "status": "completed"
    },
    "tags": []
   },
   "source": [
    "To change images into vector with normalisation and augmentation, following values are fetched to torchvision.transforms function. We perform: \n",
    "    \n",
    "    - Random Rotations\n",
    "    - Random Resizing and Cropping \n",
    "    - Change Image arrays to Tensor\n",
    "    - Normalize"
   ]
  },
  {
   "cell_type": "code",
   "execution_count": 4,
   "id": "choice-witness",
   "metadata": {
    "execution": {
     "iopub.execute_input": "2021-04-10T16:35:47.239596Z",
     "iopub.status.busy": "2021-04-10T16:35:47.238559Z",
     "iopub.status.idle": "2021-04-10T16:35:47.242444Z",
     "shell.execute_reply": "2021-04-10T16:35:47.241946Z"
    },
    "id": "Dyvmj9NHB5KM",
    "papermill": {
     "duration": 0.064531,
     "end_time": "2021-04-10T16:35:47.242596",
     "exception": false,
     "start_time": "2021-04-10T16:35:47.178065",
     "status": "completed"
    },
    "tags": []
   },
   "outputs": [],
   "source": [
    "train_transforms = transforms.Compose([\n",
    "                   transforms.RandomRotation(degrees=45),\n",
    "                   transforms.RandomResizedCrop(64, scale=(0.9, 1.0), ratio=(0.9, 1.1)),\n",
    "                   transforms.ToTensor(),\n",
    "                   transforms.Normalize(mean = [0.5,0.5,0.5], std = [0.5,0.5,0.5])\n",
    "\n",
    "               ])"
   ]
  },
  {
   "cell_type": "markdown",
   "id": "blessed-occupation",
   "metadata": {
    "papermill": {
     "duration": 0.053486,
     "end_time": "2021-04-10T16:35:47.350737",
     "exception": false,
     "start_time": "2021-04-10T16:35:47.297251",
     "status": "completed"
    },
    "tags": []
   },
   "source": [
    "Loading custom dataset that returns images and labels. "
   ]
  },
  {
   "cell_type": "code",
   "execution_count": 5,
   "id": "thrown-purpose",
   "metadata": {
    "execution": {
     "iopub.execute_input": "2021-04-10T16:35:47.581202Z",
     "iopub.status.busy": "2021-04-10T16:35:47.580044Z",
     "iopub.status.idle": "2021-04-10T16:35:47.620063Z",
     "shell.execute_reply": "2021-04-10T16:35:47.621249Z"
    },
    "id": "0zdEmG2dB5KN",
    "papermill": {
     "duration": 0.189745,
     "end_time": "2021-04-10T16:35:47.621527",
     "exception": false,
     "start_time": "2021-04-10T16:35:47.431782",
     "status": "completed"
    },
    "tags": []
   },
   "outputs": [],
   "source": [
    "LABELS='data/labels.csv' \n",
    "ROOT = 'data/train'\n",
    "\n",
    "train_data = dataset(csv=LABELS, img_path=ROOT, transform = train_transforms)"
   ]
  },
  {
   "cell_type": "code",
   "execution_count": 6,
   "id": "emotional-birthday",
   "metadata": {
    "execution": {
     "iopub.execute_input": "2021-04-10T16:35:47.849962Z",
     "iopub.status.busy": "2021-04-10T16:35:47.848886Z",
     "iopub.status.idle": "2021-04-10T16:35:47.880724Z",
     "shell.execute_reply": "2021-04-10T16:35:47.882179Z"
    },
    "papermill": {
     "duration": 0.146515,
     "end_time": "2021-04-10T16:35:47.882460",
     "exception": false,
     "start_time": "2021-04-10T16:35:47.735945",
     "status": "completed"
    },
    "tags": []
   },
   "outputs": [
    {
     "data": {
      "text/html": [
       "<div>\n",
       "<style scoped>\n",
       "    .dataframe tbody tr th:only-of-type {\n",
       "        vertical-align: middle;\n",
       "    }\n",
       "\n",
       "    .dataframe tbody tr th {\n",
       "        vertical-align: top;\n",
       "    }\n",
       "\n",
       "    .dataframe thead th {\n",
       "        text-align: right;\n",
       "    }\n",
       "</style>\n",
       "<table border=\"1\" class=\"dataframe\">\n",
       "  <thead>\n",
       "    <tr style=\"text-align: right;\">\n",
       "      <th></th>\n",
       "      <th>filenames</th>\n",
       "      <th>labels_code</th>\n",
       "      <th>labels</th>\n",
       "    </tr>\n",
       "  </thead>\n",
       "  <tbody>\n",
       "    <tr>\n",
       "      <th>0</th>\n",
       "      <td>img001-001.png</td>\n",
       "      <td>img001</td>\n",
       "      <td>0</td>\n",
       "    </tr>\n",
       "    <tr>\n",
       "      <th>1</th>\n",
       "      <td>img001-002.png</td>\n",
       "      <td>img001</td>\n",
       "      <td>0</td>\n",
       "    </tr>\n",
       "    <tr>\n",
       "      <th>2</th>\n",
       "      <td>img001-003.png</td>\n",
       "      <td>img001</td>\n",
       "      <td>0</td>\n",
       "    </tr>\n",
       "    <tr>\n",
       "      <th>3</th>\n",
       "      <td>img001-004.png</td>\n",
       "      <td>img001</td>\n",
       "      <td>0</td>\n",
       "    </tr>\n",
       "    <tr>\n",
       "      <th>4</th>\n",
       "      <td>img001-007.png</td>\n",
       "      <td>img001</td>\n",
       "      <td>0</td>\n",
       "    </tr>\n",
       "  </tbody>\n",
       "</table>\n",
       "</div>"
      ],
      "text/plain": [
       "        filenames labels_code  labels\n",
       "0  img001-001.png      img001       0\n",
       "1  img001-002.png      img001       0\n",
       "2  img001-003.png      img001       0\n",
       "3  img001-004.png      img001       0\n",
       "4  img001-007.png      img001       0"
      ]
     },
     "execution_count": 6,
     "metadata": {},
     "output_type": "execute_result"
    }
   ],
   "source": [
    "df=pd.read_csv('data/labels.csv' )\n",
    "df.head()"
   ]
  },
  {
   "cell_type": "markdown",
   "id": "freelance-homework",
   "metadata": {
    "papermill": {
     "duration": 0.116827,
     "end_time": "2021-04-10T16:35:48.097430",
     "exception": false,
     "start_time": "2021-04-10T16:35:47.980603",
     "status": "completed"
    },
    "tags": []
   },
   "source": [
    "Splitting the dataset into training and validation dataset. This is needed to keep track of how our model performs."
   ]
  },
  {
   "cell_type": "code",
   "execution_count": 7,
   "id": "sized-breakdown",
   "metadata": {
    "execution": {
     "iopub.execute_input": "2021-04-10T16:35:48.482089Z",
     "iopub.status.busy": "2021-04-10T16:35:48.481057Z",
     "iopub.status.idle": "2021-04-10T16:35:48.507866Z",
     "shell.execute_reply": "2021-04-10T16:35:48.506727Z"
    },
    "id": "g7bEF_fDB5KP",
    "papermill": {
     "duration": 0.326489,
     "end_time": "2021-04-10T16:35:48.508026",
     "exception": false,
     "start_time": "2021-04-10T16:35:48.181537",
     "status": "completed"
    },
    "tags": []
   },
   "outputs": [],
   "source": [
    "VALID_RATIO = 0.75\n",
    "n_train_examples = int(len(train_data) * VALID_RATIO)\n",
    "n_valid_examples = len(train_data) - n_train_examples\n",
    "train_data, valid_data = data.random_split(train_data,[n_train_examples, n_valid_examples])\n",
    "\n",
    "valid_data = copy.deepcopy(valid_data)\n",
    "valid_data.dataset.transform = train_transforms"
   ]
  },
  {
   "cell_type": "markdown",
   "id": "selective-parts",
   "metadata": {
    "papermill": {
     "duration": 0.228068,
     "end_time": "2021-04-10T16:35:48.895005",
     "exception": false,
     "start_time": "2021-04-10T16:35:48.666937",
     "status": "completed"
    },
    "tags": []
   },
   "source": [
    "The final number of training and validation dataset."
   ]
  },
  {
   "cell_type": "code",
   "execution_count": 8,
   "id": "cosmetic-africa",
   "metadata": {
    "execution": {
     "iopub.execute_input": "2021-04-10T16:35:49.027181Z",
     "iopub.status.busy": "2021-04-10T16:35:49.026232Z",
     "iopub.status.idle": "2021-04-10T16:35:49.031244Z",
     "shell.execute_reply": "2021-04-10T16:35:49.030680Z"
    },
    "id": "gA0VwDUTB5KS",
    "outputId": "c372e0d8-1b12-40de-cc22-54ea73bee3f9",
    "papermill": {
     "duration": 0.065341,
     "end_time": "2021-04-10T16:35:49.031386",
     "exception": false,
     "start_time": "2021-04-10T16:35:48.966045",
     "status": "completed"
    },
    "tags": []
   },
   "outputs": [
    {
     "name": "stdout",
     "output_type": "stream",
     "text": [
      "Number of training examples: 1860\n",
      "Number of validation examples: 620\n"
     ]
    }
   ],
   "source": [
    "print(f'Number of training examples: {len(train_data)}')\n",
    "print(f'Number of validation examples: {len(valid_data)}')"
   ]
  },
  {
   "cell_type": "markdown",
   "id": "liquid-equality",
   "metadata": {
    "papermill": {
     "duration": 0.054453,
     "end_time": "2021-04-10T16:35:49.140574",
     "exception": false,
     "start_time": "2021-04-10T16:35:49.086121",
     "status": "completed"
    },
    "tags": []
   },
   "source": [
    "Further we take our tensor datasets and put fetch them into Dataloader with certain batches(BATCH_SIZE). "
   ]
  },
  {
   "cell_type": "code",
   "execution_count": 9,
   "id": "military-essex",
   "metadata": {
    "execution": {
     "iopub.execute_input": "2021-04-10T16:35:49.257250Z",
     "iopub.status.busy": "2021-04-10T16:35:49.256289Z",
     "iopub.status.idle": "2021-04-10T16:35:49.260106Z",
     "shell.execute_reply": "2021-04-10T16:35:49.259555Z"
    },
    "id": "lwyKpuiWB5KT",
    "papermill": {
     "duration": 0.064333,
     "end_time": "2021-04-10T16:35:49.260247",
     "exception": false,
     "start_time": "2021-04-10T16:35:49.195914",
     "status": "completed"
    },
    "tags": []
   },
   "outputs": [],
   "source": [
    "BATCH_SIZE = 256\n",
    "train_iterator = data.DataLoader(train_data,batch_size = BATCH_SIZE)\n",
    "valid_iterator = data.DataLoader(valid_data,batch_size = BATCH_SIZE)"
   ]
  },
  {
   "cell_type": "markdown",
   "id": "exceptional-operations",
   "metadata": {
    "id": "M64QYMrXB5KT",
    "papermill": {
     "duration": 0.055342,
     "end_time": "2021-04-10T16:35:49.371077",
     "exception": false,
     "start_time": "2021-04-10T16:35:49.315735",
     "status": "completed"
    },
    "tags": []
   },
   "source": [
    "## A.3. Images\n",
    "Following are the images after preprocessing steps. The images are of (1200 x 900)px initially, but are processed to (64 x 64)px size and Rotated to 45 degrees. Since the images are png images they have 3 channels."
   ]
  },
  {
   "cell_type": "code",
   "execution_count": 10,
   "id": "nervous-screening",
   "metadata": {
    "execution": {
     "iopub.execute_input": "2021-04-10T16:35:49.492068Z",
     "iopub.status.busy": "2021-04-10T16:35:49.491340Z",
     "iopub.status.idle": "2021-04-10T16:35:49.532291Z",
     "shell.execute_reply": "2021-04-10T16:35:49.530946Z"
    },
    "papermill": {
     "duration": 0.103902,
     "end_time": "2021-04-10T16:35:49.532527",
     "exception": false,
     "start_time": "2021-04-10T16:35:49.428625",
     "status": "completed"
    },
    "tags": []
   },
   "outputs": [
    {
     "name": "stdout",
     "output_type": "stream",
     "text": [
      "Image Channels and Size:  RGB (1200, 900)\n"
     ]
    }
   ],
   "source": [
    "img_pil = Image.open('data/train/img001-001.png')\n",
    "print('Image Channels and Size: ', img_pil.mode, img_pil.size)"
   ]
  },
  {
   "cell_type": "code",
   "execution_count": 11,
   "id": "optional-component",
   "metadata": {
    "execution": {
     "iopub.execute_input": "2021-04-10T16:35:49.654226Z",
     "iopub.status.busy": "2021-04-10T16:35:49.653555Z",
     "iopub.status.idle": "2021-04-10T16:35:52.472399Z",
     "shell.execute_reply": "2021-04-10T16:35:52.471806Z"
    },
    "id": "hWsi3FCUB5KT",
    "outputId": "998440dc-8845-49fc-fc79-edbd4dd00f23",
    "papermill": {
     "duration": 2.881704,
     "end_time": "2021-04-10T16:35:52.472657",
     "exception": false,
     "start_time": "2021-04-10T16:35:49.590953",
     "status": "completed"
    },
    "tags": []
   },
   "outputs": [
    {
     "data": {
      "image/png": "[encoded data removed]",
      "text/plain": [
       "<Figure size 720x720 with 25 Axes>"
      ]
     },
     "metadata": {
      "needs_background": "light"
     },
     "output_type": "display_data"
    }
   ],
   "source": [
    "N_IMAGES = 25\n",
    "images, labels = zip(*[(image, label) for image, label in [train_data[i] for i in range(N_IMAGES)]])\n",
    "classes = list(df['labels'].unique())\n",
    "plot_images(images, labels, classes)"
   ]
  },
  {
   "cell_type": "markdown",
   "id": "advisory-bookmark",
   "metadata": {
    "id": "o8CBS2yFB5KU",
    "papermill": {
     "duration": 0.058436,
     "end_time": "2021-04-10T16:35:52.590247",
     "exception": false,
     "start_time": "2021-04-10T16:35:52.531811",
     "status": "completed"
    },
    "tags": []
   },
   "source": [
    "## A.4. Hyper-parameters and model development\n",
    "\n",
    "In this section setting device to cuda or cpu based upon availablity. Loading the model and setting hyper parameters for training. I have used Cross Entropy loss function which is suitable for multi-class classification tasks. The classes in our task is 10+26+26=62 classes, as we have digits, small letters and capital letters. The updation rule is Adam optimizer with learning rate of 1e-4."
   ]
  },
  {
   "cell_type": "code",
   "execution_count": 12,
   "id": "genetic-browser",
   "metadata": {
    "execution": {
     "iopub.execute_input": "2021-04-10T16:35:53.196543Z",
     "iopub.status.busy": "2021-04-10T16:35:53.192485Z",
     "iopub.status.idle": "2021-04-10T16:35:58.537911Z",
     "shell.execute_reply": "2021-04-10T16:35:58.540156Z"
    },
    "id": "aqiDHWPHB5KU",
    "outputId": "6b1a4afa-8daf-4aad-e498-b27020533565",
    "papermill": {
     "duration": 5.891501,
     "end_time": "2021-04-10T16:35:58.540495",
     "exception": false,
     "start_time": "2021-04-10T16:35:52.648994",
     "status": "completed"
    },
    "tags": []
   },
   "outputs": [
    {
     "data": {
      "text/plain": [
       "device(type='cuda')"
      ]
     },
     "execution_count": 12,
     "metadata": {},
     "output_type": "execute_result"
    }
   ],
   "source": [
    "device = torch.device('cuda' if torch.cuda.is_available() else 'cpu')\n",
    "num_epochs = 100\n",
    "model = Net(62)\n",
    "model.to(device)\n",
    "\n",
    "criterion = torch.nn.CrossEntropyLoss()\n",
    "optimizer = torch.optim.Adam(model.parameters(), lr=1e-4)\n",
    "device"
   ]
  },
  {
   "cell_type": "markdown",
   "id": "chinese-tactics",
   "metadata": {
    "papermill": {
     "duration": 0.102504,
     "end_time": "2021-04-10T16:35:58.750316",
     "exception": false,
     "start_time": "2021-04-10T16:35:58.647812",
     "status": "completed"
    },
    "tags": []
   },
   "source": [
    "Our model is inspired by AlexNet which was among the early CNNs that performed well in ImageNet Classification Challenge. This has 8 layers: 5 Convolution Layers and 3 Fully Connected Layers. The input to intital convolution layer is 64x64x3 image that are processed into arrays with values ranging from 0 to 1. Final output layer after series of convolution, pooling, and drop outs, yield predictions for the 62 classes.  "
   ]
  },
  {
   "cell_type": "code",
   "execution_count": 13,
   "id": "laughing-moldova",
   "metadata": {
    "execution": {
     "iopub.execute_input": "2021-04-10T16:35:58.963596Z",
     "iopub.status.busy": "2021-04-10T16:35:58.962484Z",
     "iopub.status.idle": "2021-04-10T16:35:58.969578Z",
     "shell.execute_reply": "2021-04-10T16:35:58.970367Z"
    },
    "papermill": {
     "duration": 0.118801,
     "end_time": "2021-04-10T16:35:58.970641",
     "exception": false,
     "start_time": "2021-04-10T16:35:58.851840",
     "status": "completed"
    },
    "tags": []
   },
   "outputs": [
    {
     "data": {
      "text/plain": [
       "Net(\n",
       "  (features): Sequential(\n",
       "    (0): Conv2d(3, 64, kernel_size=(11, 11), stride=(4, 4), padding=(2, 2))\n",
       "    (1): ReLU(inplace=True)\n",
       "    (2): MaxPool2d(kernel_size=3, stride=2, padding=0, dilation=1, ceil_mode=False)\n",
       "    (3): Conv2d(64, 192, kernel_size=(5, 5), stride=(1, 1), padding=(2, 2))\n",
       "    (4): ReLU(inplace=True)\n",
       "    (5): MaxPool2d(kernel_size=3, stride=2, padding=0, dilation=1, ceil_mode=False)\n",
       "    (6): Conv2d(192, 384, kernel_size=(3, 3), stride=(1, 1), padding=(1, 1))\n",
       "    (7): ReLU(inplace=True)\n",
       "    (8): Conv2d(384, 256, kernel_size=(3, 3), stride=(1, 1), padding=(1, 1))\n",
       "    (9): ReLU(inplace=True)\n",
       "    (10): Conv2d(256, 256, kernel_size=(3, 3), stride=(1, 1), padding=(1, 1))\n",
       "    (11): ReLU(inplace=True)\n",
       "    (12): MaxPool2d(kernel_size=3, stride=2, padding=0, dilation=1, ceil_mode=False)\n",
       "  )\n",
       "  (avgpool): AdaptiveAvgPool2d(output_size=(6, 6))\n",
       "  (classifier): Sequential(\n",
       "    (0): Dropout(p=0.5, inplace=False)\n",
       "    (1): Linear(in_features=9216, out_features=4096, bias=True)\n",
       "    (2): ReLU(inplace=True)\n",
       "    (3): Dropout(p=0.5, inplace=False)\n",
       "    (4): Linear(in_features=4096, out_features=4096, bias=True)\n",
       "    (5): ReLU(inplace=True)\n",
       "    (6): Linear(in_features=4096, out_features=62, bias=True)\n",
       "  )\n",
       ")"
      ]
     },
     "execution_count": 13,
     "metadata": {},
     "output_type": "execute_result"
    }
   ],
   "source": [
    "model"
   ]
  },
  {
   "cell_type": "markdown",
   "id": "three-reviewer",
   "metadata": {
    "papermill": {
     "duration": 0.061929,
     "end_time": "2021-04-10T16:35:59.130241",
     "exception": false,
     "start_time": "2021-04-10T16:35:59.068312",
     "status": "completed"
    },
    "tags": []
   },
   "source": [
    "Following is summary of model. One can notice the size of the model and number of parameters."
   ]
  },
  {
   "cell_type": "code",
   "execution_count": 14,
   "id": "realistic-medication",
   "metadata": {
    "execution": {
     "iopub.execute_input": "2021-04-10T16:35:59.261472Z",
     "iopub.status.busy": "2021-04-10T16:35:59.260707Z",
     "iopub.status.idle": "2021-04-10T16:35:59.983206Z",
     "shell.execute_reply": "2021-04-10T16:35:59.983894Z"
    },
    "papermill": {
     "duration": 0.789931,
     "end_time": "2021-04-10T16:35:59.984088",
     "exception": false,
     "start_time": "2021-04-10T16:35:59.194157",
     "status": "completed"
    },
    "tags": []
   },
   "outputs": [
    {
     "name": "stdout",
     "output_type": "stream",
     "text": [
      "----------------------------------------------------------------\n",
      "        Layer (type)               Output Shape         Param #\n",
      "================================================================\n",
      "            Conv2d-1           [-1, 64, 15, 15]          23,296\n",
      "              ReLU-2           [-1, 64, 15, 15]               0\n",
      "         MaxPool2d-3             [-1, 64, 7, 7]               0\n",
      "            Conv2d-4            [-1, 192, 7, 7]         307,392\n",
      "              ReLU-5            [-1, 192, 7, 7]               0\n",
      "         MaxPool2d-6            [-1, 192, 3, 3]               0\n",
      "            Conv2d-7            [-1, 384, 3, 3]         663,936\n",
      "              ReLU-8            [-1, 384, 3, 3]               0\n",
      "            Conv2d-9            [-1, 256, 3, 3]         884,992\n",
      "             ReLU-10            [-1, 256, 3, 3]               0\n",
      "           Conv2d-11            [-1, 256, 3, 3]         590,080\n",
      "             ReLU-12            [-1, 256, 3, 3]               0\n",
      "        MaxPool2d-13            [-1, 256, 1, 1]               0\n",
      "AdaptiveAvgPool2d-14            [-1, 256, 6, 6]               0\n",
      "          Dropout-15                 [-1, 9216]               0\n",
      "           Linear-16                 [-1, 4096]      37,752,832\n",
      "             ReLU-17                 [-1, 4096]               0\n",
      "          Dropout-18                 [-1, 4096]               0\n",
      "           Linear-19                 [-1, 4096]      16,781,312\n",
      "             ReLU-20                 [-1, 4096]               0\n",
      "           Linear-21                   [-1, 62]         254,014\n",
      "================================================================\n",
      "Total params: 57,257,854\n",
      "Trainable params: 57,257,854\n",
      "Non-trainable params: 0\n",
      "----------------------------------------------------------------\n",
      "Input size (MB): 0.05\n",
      "Forward/backward pass size (MB): 0.82\n",
      "Params size (MB): 218.42\n",
      "Estimated Total Size (MB): 219.29\n",
      "----------------------------------------------------------------\n"
     ]
    }
   ],
   "source": [
    "summary(model, (3,64,64))"
   ]
  },
  {
   "cell_type": "markdown",
   "id": "objective-roman",
   "metadata": {
    "id": "jlz3ykvFB5KU",
    "papermill": {
     "duration": 0.061359,
     "end_time": "2021-04-10T16:36:00.108043",
     "exception": false,
     "start_time": "2021-04-10T16:36:00.046684",
     "status": "completed"
    },
    "tags": []
   },
   "source": [
    "## A.5. Training the custom model Net()\n",
    "\n",
    "Training the model on the character images dataset. This block trains the model and saves it as 'model.pt' in same directory. The train_model function returns lists of training and validation accuracies and as well as the losses. The total epochs are set to 60, taking care of underfitting and overfitting.  "
   ]
  },
  {
   "cell_type": "code",
   "execution_count": 15,
   "id": "facial-marina",
   "metadata": {
    "execution": {
     "iopub.execute_input": "2021-04-10T16:36:00.237850Z",
     "iopub.status.busy": "2021-04-10T16:36:00.236837Z",
     "iopub.status.idle": "2021-04-10T18:24:11.685690Z",
     "shell.execute_reply": "2021-04-10T18:24:11.686673Z"
    },
    "id": "yhazNLCYB5KV",
    "papermill": {
     "duration": 6491.517476,
     "end_time": "2021-04-10T18:24:11.687047",
     "exception": false,
     "start_time": "2021-04-10T16:36:00.169571",
     "status": "completed"
    },
    "tags": []
   },
   "outputs": [
    {
     "name": "stdout",
     "output_type": "stream",
     "text": [
      "Epoch: 1 \tTraining Loss: 0.017758 \tValidation Loss: 0.019984\n",
      "Validation loss decreased (inf --> 0.019984).  Saving model ...\n",
      "Epoch: 2 \tTraining Loss: 0.017741 \tValidation Loss: 0.020016\n",
      "Epoch: 3 \tTraining Loss: 0.017711 \tValidation Loss: 0.020106\n",
      "Epoch: 4 \tTraining Loss: 0.017664 \tValidation Loss: 0.019983\n",
      "Validation loss decreased (0.019984 --> 0.019983).  Saving model ...\n",
      "Epoch: 5 \tTraining Loss: 0.017473 \tValidation Loss: 0.019902\n",
      "Validation loss decreased (0.019983 --> 0.019902).  Saving model ...\n",
      "Epoch: 6 \tTraining Loss: 0.017264 \tValidation Loss: 0.019455\n",
      "Validation loss decreased (0.019902 --> 0.019455).  Saving model ...\n",
      "Epoch: 7 \tTraining Loss: 0.017050 \tValidation Loss: 0.019282\n",
      "Validation loss decreased (0.019455 --> 0.019282).  Saving model ...\n",
      "Epoch: 8 \tTraining Loss: 0.016997 \tValidation Loss: 0.019118\n",
      "Validation loss decreased (0.019282 --> 0.019118).  Saving model ...\n",
      "Epoch: 9 \tTraining Loss: 0.016791 \tValidation Loss: 0.018910\n",
      "Validation loss decreased (0.019118 --> 0.018910).  Saving model ...\n",
      "Epoch: 10 \tTraining Loss: 0.016372 \tValidation Loss: 0.018749\n",
      "Validation loss decreased (0.018910 --> 0.018749).  Saving model ...\n",
      "Epoch: 11 \tTraining Loss: 0.016035 \tValidation Loss: 0.018244\n",
      "Validation loss decreased (0.018749 --> 0.018244).  Saving model ...\n",
      "Epoch: 12 \tTraining Loss: 0.015728 \tValidation Loss: 0.017668\n",
      "Validation loss decreased (0.018244 --> 0.017668).  Saving model ...\n",
      "Epoch: 13 \tTraining Loss: 0.015523 \tValidation Loss: 0.017452\n",
      "Validation loss decreased (0.017668 --> 0.017452).  Saving model ...\n",
      "Epoch: 14 \tTraining Loss: 0.015314 \tValidation Loss: 0.017145\n",
      "Validation loss decreased (0.017452 --> 0.017145).  Saving model ...\n",
      "Epoch: 15 \tTraining Loss: 0.015093 \tValidation Loss: 0.017445\n",
      "Epoch: 16 \tTraining Loss: 0.014822 \tValidation Loss: 0.016627\n",
      "Validation loss decreased (0.017145 --> 0.016627).  Saving model ...\n",
      "Epoch: 17 \tTraining Loss: 0.014436 \tValidation Loss: 0.016248\n",
      "Validation loss decreased (0.016627 --> 0.016248).  Saving model ...\n",
      "Epoch: 18 \tTraining Loss: 0.014028 \tValidation Loss: 0.015855\n",
      "Validation loss decreased (0.016248 --> 0.015855).  Saving model ...\n",
      "Epoch: 19 \tTraining Loss: 0.013563 \tValidation Loss: 0.015144\n",
      "Validation loss decreased (0.015855 --> 0.015144).  Saving model ...\n",
      "Epoch: 20 \tTraining Loss: 0.013437 \tValidation Loss: 0.015026\n",
      "Validation loss decreased (0.015144 --> 0.015026).  Saving model ...\n",
      "Epoch: 21 \tTraining Loss: 0.012716 \tValidation Loss: 0.014369\n",
      "Validation loss decreased (0.015026 --> 0.014369).  Saving model ...\n",
      "Epoch: 22 \tTraining Loss: 0.012659 \tValidation Loss: 0.014276\n",
      "Validation loss decreased (0.014369 --> 0.014276).  Saving model ...\n",
      "Epoch: 23 \tTraining Loss: 0.012363 \tValidation Loss: 0.014142\n",
      "Validation loss decreased (0.014276 --> 0.014142).  Saving model ...\n",
      "Epoch: 24 \tTraining Loss: 0.011961 \tValidation Loss: 0.013776\n",
      "Validation loss decreased (0.014142 --> 0.013776).  Saving model ...\n",
      "Epoch: 25 \tTraining Loss: 0.011571 \tValidation Loss: 0.013469\n",
      "Validation loss decreased (0.013776 --> 0.013469).  Saving model ...\n",
      "Epoch: 26 \tTraining Loss: 0.011270 \tValidation Loss: 0.013322\n",
      "Validation loss decreased (0.013469 --> 0.013322).  Saving model ...\n",
      "Epoch: 27 \tTraining Loss: 0.010929 \tValidation Loss: 0.012752\n",
      "Validation loss decreased (0.013322 --> 0.012752).  Saving model ...\n",
      "Epoch: 28 \tTraining Loss: 0.010453 \tValidation Loss: 0.012370\n",
      "Validation loss decreased (0.012752 --> 0.012370).  Saving model ...\n",
      "Epoch: 29 \tTraining Loss: 0.009957 \tValidation Loss: 0.012077\n",
      "Validation loss decreased (0.012370 --> 0.012077).  Saving model ...\n",
      "Epoch: 30 \tTraining Loss: 0.009598 \tValidation Loss: 0.011787\n",
      "Validation loss decreased (0.012077 --> 0.011787).  Saving model ...\n",
      "Epoch: 31 \tTraining Loss: 0.009147 \tValidation Loss: 0.011609\n",
      "Validation loss decreased (0.011787 --> 0.011609).  Saving model ...\n",
      "Epoch: 32 \tTraining Loss: 0.009026 \tValidation Loss: 0.010978\n",
      "Validation loss decreased (0.011609 --> 0.010978).  Saving model ...\n",
      "Epoch: 33 \tTraining Loss: 0.008619 \tValidation Loss: 0.010862\n",
      "Validation loss decreased (0.010978 --> 0.010862).  Saving model ...\n",
      "Epoch: 34 \tTraining Loss: 0.008598 \tValidation Loss: 0.010698\n",
      "Validation loss decreased (0.010862 --> 0.010698).  Saving model ...\n",
      "Epoch: 35 \tTraining Loss: 0.008328 \tValidation Loss: 0.010858\n",
      "Epoch: 36 \tTraining Loss: 0.007992 \tValidation Loss: 0.009942\n",
      "Validation loss decreased (0.010698 --> 0.009942).  Saving model ...\n",
      "Epoch: 37 \tTraining Loss: 0.007577 \tValidation Loss: 0.010407\n",
      "Epoch: 38 \tTraining Loss: 0.007378 \tValidation Loss: 0.009923\n",
      "Validation loss decreased (0.009942 --> 0.009923).  Saving model ...\n",
      "Epoch: 39 \tTraining Loss: 0.007680 \tValidation Loss: 0.009304\n",
      "Validation loss decreased (0.009923 --> 0.009304).  Saving model ...\n",
      "Epoch: 40 \tTraining Loss: 0.007295 \tValidation Loss: 0.009266\n",
      "Validation loss decreased (0.009304 --> 0.009266).  Saving model ...\n",
      "Epoch: 41 \tTraining Loss: 0.007053 \tValidation Loss: 0.009975\n",
      "Epoch: 42 \tTraining Loss: 0.006934 \tValidation Loss: 0.009322\n",
      "Epoch: 43 \tTraining Loss: 0.006286 \tValidation Loss: 0.008343\n",
      "Validation loss decreased (0.009266 --> 0.008343).  Saving model ...\n",
      "Epoch: 44 \tTraining Loss: 0.005854 \tValidation Loss: 0.008253\n",
      "Validation loss decreased (0.008343 --> 0.008253).  Saving model ...\n",
      "Epoch: 45 \tTraining Loss: 0.005676 \tValidation Loss: 0.007910\n",
      "Validation loss decreased (0.008253 --> 0.007910).  Saving model ...\n",
      "Epoch: 46 \tTraining Loss: 0.005430 \tValidation Loss: 0.008005\n",
      "Epoch: 47 \tTraining Loss: 0.005613 \tValidation Loss: 0.007940\n",
      "Epoch: 48 \tTraining Loss: 0.005367 \tValidation Loss: 0.007126\n",
      "Validation loss decreased (0.007910 --> 0.007126).  Saving model ...\n",
      "Epoch: 49 \tTraining Loss: 0.005224 \tValidation Loss: 0.007525\n",
      "Epoch: 50 \tTraining Loss: 0.004777 \tValidation Loss: 0.007548\n",
      "Epoch: 51 \tTraining Loss: 0.004868 \tValidation Loss: 0.007475\n",
      "Epoch: 52 \tTraining Loss: 0.004753 \tValidation Loss: 0.007676\n",
      "Epoch: 53 \tTraining Loss: 0.004453 \tValidation Loss: 0.007211\n",
      "Epoch: 54 \tTraining Loss: 0.004401 \tValidation Loss: 0.007147\n",
      "Epoch: 55 \tTraining Loss: 0.004346 \tValidation Loss: 0.007141\n",
      "Epoch: 56 \tTraining Loss: 0.004295 \tValidation Loss: 0.006818\n",
      "Validation loss decreased (0.007126 --> 0.006818).  Saving model ...\n",
      "Epoch: 57 \tTraining Loss: 0.003980 \tValidation Loss: 0.006419\n",
      "Validation loss decreased (0.006818 --> 0.006419).  Saving model ...\n",
      "Epoch: 58 \tTraining Loss: 0.003857 \tValidation Loss: 0.006519\n",
      "Epoch: 59 \tTraining Loss: 0.003790 \tValidation Loss: 0.006819\n",
      "Epoch: 60 \tTraining Loss: 0.003901 \tValidation Loss: 0.006690\n",
      "Epoch: 61 \tTraining Loss: 0.003661 \tValidation Loss: 0.006791\n",
      "Epoch: 62 \tTraining Loss: 0.003717 \tValidation Loss: 0.007233\n",
      "Epoch: 63 \tTraining Loss: 0.003968 \tValidation Loss: 0.006779\n",
      "Epoch: 64 \tTraining Loss: 0.003589 \tValidation Loss: 0.006849\n",
      "Epoch: 65 \tTraining Loss: 0.003642 \tValidation Loss: 0.006123\n",
      "Validation loss decreased (0.006419 --> 0.006123).  Saving model ...\n",
      "Epoch: 66 \tTraining Loss: 0.003321 \tValidation Loss: 0.006514\n",
      "Epoch: 67 \tTraining Loss: 0.003219 \tValidation Loss: 0.006480\n",
      "Epoch: 68 \tTraining Loss: 0.003049 \tValidation Loss: 0.006310\n",
      "Epoch: 69 \tTraining Loss: 0.003115 \tValidation Loss: 0.006196\n",
      "Epoch: 70 \tTraining Loss: 0.002943 \tValidation Loss: 0.006323\n",
      "Epoch: 71 \tTraining Loss: 0.002882 \tValidation Loss: 0.006335\n",
      "Epoch: 72 \tTraining Loss: 0.002810 \tValidation Loss: 0.005886\n",
      "Validation loss decreased (0.006123 --> 0.005886).  Saving model ...\n",
      "Epoch: 73 \tTraining Loss: 0.002791 \tValidation Loss: 0.006078\n",
      "Epoch: 74 \tTraining Loss: 0.002744 \tValidation Loss: 0.007215\n",
      "Epoch: 75 \tTraining Loss: 0.003002 \tValidation Loss: 0.006064\n",
      "Epoch: 76 \tTraining Loss: 0.002526 \tValidation Loss: 0.007014\n",
      "Epoch: 77 \tTraining Loss: 0.002653 \tValidation Loss: 0.006588\n",
      "Epoch: 78 \tTraining Loss: 0.002706 \tValidation Loss: 0.006427\n",
      "Epoch: 79 \tTraining Loss: 0.002560 \tValidation Loss: 0.006537\n",
      "Epoch: 80 \tTraining Loss: 0.002626 \tValidation Loss: 0.006510\n",
      "Epoch: 81 \tTraining Loss: 0.002471 \tValidation Loss: 0.006604\n",
      "Epoch: 82 \tTraining Loss: 0.002533 \tValidation Loss: 0.006501\n",
      "Epoch: 83 \tTraining Loss: 0.002374 \tValidation Loss: 0.006867\n",
      "Epoch: 84 \tTraining Loss: 0.002556 \tValidation Loss: 0.006294\n",
      "Epoch: 85 \tTraining Loss: 0.002456 \tValidation Loss: 0.007061\n",
      "Epoch: 86 \tTraining Loss: 0.002588 \tValidation Loss: 0.006131\n",
      "Epoch: 87 \tTraining Loss: 0.002354 \tValidation Loss: 0.006329\n",
      "Epoch: 88 \tTraining Loss: 0.002094 \tValidation Loss: 0.006296\n",
      "Epoch: 89 \tTraining Loss: 0.001945 \tValidation Loss: 0.006433\n",
      "Epoch: 90 \tTraining Loss: 0.001955 \tValidation Loss: 0.006781\n",
      "Epoch: 91 \tTraining Loss: 0.002151 \tValidation Loss: 0.006756\n",
      "Epoch: 92 \tTraining Loss: 0.002155 \tValidation Loss: 0.006878\n",
      "Epoch: 93 \tTraining Loss: 0.002238 \tValidation Loss: 0.007379\n",
      "Epoch: 94 \tTraining Loss: 0.002232 \tValidation Loss: 0.006271\n",
      "Epoch: 95 \tTraining Loss: 0.002142 \tValidation Loss: 0.007626\n",
      "Epoch: 96 \tTraining Loss: 0.002174 \tValidation Loss: 0.007535\n",
      "Epoch: 97 \tTraining Loss: 0.002449 \tValidation Loss: 0.008367\n",
      "Epoch: 98 \tTraining Loss: 0.002602 \tValidation Loss: 0.007945\n",
      "Epoch: 99 \tTraining Loss: 0.002822 \tValidation Loss: 0.009267\n",
      "Epoch: 100 \tTraining Loss: 0.003371 \tValidation Loss: 0.007292\n"
     ]
    }
   ],
   "source": [
    "train_loss_list, valid_loss_list, train_acc_list, valid_acc_list = train_model(model=model, #model from scratch \n",
    "                                             num_epochs=num_epochs,\n",
    "                                             train_iterator=train_iterator,\n",
    "                                             valid_iterator=valid_iterator, \n",
    "                                             optimizer=optimizer,\n",
    "                                             criterion=criterion, \n",
    "                                             device=device,\n",
    "                                             model_name='model.pt')"
   ]
  },
  {
   "cell_type": "markdown",
   "id": "biblical-result",
   "metadata": {
    "id": "FV8usYKgB5KV",
    "papermill": {
     "duration": 0.163187,
     "end_time": "2021-04-10T18:24:12.022364",
     "exception": false,
     "start_time": "2021-04-10T18:24:11.859177",
     "status": "completed"
    },
    "tags": []
   },
   "source": [
    "## A.6. Plotting Loss and Accuracy of model\n",
    "\n",
    "The lists from the above train_model function are visualized below."
   ]
  },
  {
   "cell_type": "markdown",
   "id": "advisory-outside",
   "metadata": {
    "papermill": {
     "duration": 0.216454,
     "end_time": "2021-04-10T18:24:12.402663",
     "exception": false,
     "start_time": "2021-04-10T18:24:12.186209",
     "status": "completed"
    },
    "tags": []
   },
   "source": [
    "### A.6.1. Loss Curve"
   ]
  },
  {
   "cell_type": "code",
   "execution_count": 16,
   "id": "compliant-primary",
   "metadata": {
    "execution": {
     "iopub.execute_input": "2021-04-10T18:24:12.728370Z",
     "iopub.status.busy": "2021-04-10T18:24:12.727282Z",
     "iopub.status.idle": "2021-04-10T18:24:13.070078Z",
     "shell.execute_reply": "2021-04-10T18:24:13.069504Z"
    },
    "papermill": {
     "duration": 0.510456,
     "end_time": "2021-04-10T18:24:13.070291",
     "exception": false,
     "start_time": "2021-04-10T18:24:12.559835",
     "status": "completed"
    },
    "tags": []
   },
   "outputs": [
    {
     "data": {
      "image/png": "[encoded data removed]",
      "text/plain": [
       "<Figure size 432x288 with 1 Axes>"
      ]
     },
     "metadata": {
      "needs_background": "light"
     },
     "output_type": "display_data"
    }
   ],
   "source": [
    "plot_loss(train_loss_list, valid_loss_list)"
   ]
  },
  {
   "cell_type": "markdown",
   "id": "sexual-replacement",
   "metadata": {
    "papermill": {
     "duration": 0.09967,
     "end_time": "2021-04-10T18:24:13.265052",
     "exception": false,
     "start_time": "2021-04-10T18:24:13.165382",
     "status": "completed"
    },
    "tags": []
   },
   "source": [
    "### A.6.2. Accuracy Curve"
   ]
  },
  {
   "cell_type": "code",
   "execution_count": 17,
   "id": "warming-enhancement",
   "metadata": {
    "execution": {
     "iopub.execute_input": "2021-04-10T18:24:13.476507Z",
     "iopub.status.busy": "2021-04-10T18:24:13.475454Z",
     "iopub.status.idle": "2021-04-10T18:24:13.733079Z",
     "shell.execute_reply": "2021-04-10T18:24:13.732468Z"
    },
    "papermill": {
     "duration": 0.374591,
     "end_time": "2021-04-10T18:24:13.733245",
     "exception": false,
     "start_time": "2021-04-10T18:24:13.358654",
     "status": "completed"
    },
    "tags": []
   },
   "outputs": [
    {
     "data": {
      "image/png": "[encoded data removed]",
      "text/plain": [
       "<Figure size 432x288 with 1 Axes>"
      ]
     },
     "metadata": {
      "needs_background": "light"
     },
     "output_type": "display_data"
    }
   ],
   "source": [
    "plot_loss(train_acc_list, valid_acc_list)"
   ]
  },
  {
   "cell_type": "markdown",
   "id": "considerable-shareware",
   "metadata": {
    "papermill": {
     "duration": 0.097927,
     "end_time": "2021-04-10T18:24:13.927918",
     "exception": false,
     "start_time": "2021-04-10T18:24:13.829991",
     "status": "completed"
    },
    "tags": []
   },
   "source": [
    "## A.7. Calculate accuracy\n",
    "\n",
    "The training and validation accuracy is calculated in this block to keep track of how oue model performs."
   ]
  },
  {
   "cell_type": "code",
   "execution_count": 18,
   "id": "dramatic-message",
   "metadata": {
    "execution": {
     "iopub.execute_input": "2021-04-10T18:24:14.128736Z",
     "iopub.status.busy": "2021-04-10T18:24:14.127853Z",
     "iopub.status.idle": "2021-04-10T18:25:02.394729Z",
     "shell.execute_reply": "2021-04-10T18:25:02.395361Z"
    },
    "papermill": {
     "duration": 48.369932,
     "end_time": "2021-04-10T18:25:02.395551",
     "exception": false,
     "start_time": "2021-04-10T18:24:14.025619",
     "status": "completed"
    },
    "tags": []
   },
   "outputs": [
    {
     "name": "stdout",
     "output_type": "stream",
     "text": [
      "Got 1412 / 1860 with accuracy 75.91\n",
      "Training:  None\n"
     ]
    }
   ],
   "source": [
    "print('Training: ', cal_accuracy(train_iterator, model, device))"
   ]
  },
  {
   "cell_type": "code",
   "execution_count": 19,
   "id": "false-writer",
   "metadata": {
    "execution": {
     "iopub.execute_input": "2021-04-10T18:25:02.608358Z",
     "iopub.status.busy": "2021-04-10T18:25:02.607280Z",
     "iopub.status.idle": "2021-04-10T18:25:19.258489Z",
     "shell.execute_reply": "2021-04-10T18:25:19.257186Z"
    },
    "papermill": {
     "duration": 16.756312,
     "end_time": "2021-04-10T18:25:19.258807",
     "exception": false,
     "start_time": "2021-04-10T18:25:02.502495",
     "status": "completed"
    },
    "tags": []
   },
   "outputs": [
    {
     "name": "stdout",
     "output_type": "stream",
     "text": [
      "Got 356 / 620 with accuracy 57.42\n",
      "Validation:  None\n"
     ]
    }
   ],
   "source": [
    "print('Validation: ',cal_accuracy(valid_iterator, model, device))"
   ]
  },
  {
   "cell_type": "markdown",
   "id": "experienced-representative",
   "metadata": {
    "papermill": {
     "duration": 0.094022,
     "end_time": "2021-04-10T18:25:19.448073",
     "exception": false,
     "start_time": "2021-04-10T18:25:19.354051",
     "status": "completed"
    },
    "tags": []
   },
   "source": [
    "# Section B: **Digit Recognition** \n",
    "---\n",
    "In this section we have to train oure pretrained model over the images of digits in the range 0-9 from the same dataset as above. This is transfer learning on new set of outputs. Our objective is to understand how the model works in this scenario."
   ]
  },
  {
   "cell_type": "code",
   "execution_count": 20,
   "id": "annual-sympathy",
   "metadata": {
    "execution": {
     "iopub.execute_input": "2021-04-10T18:25:19.655691Z",
     "iopub.status.busy": "2021-04-10T18:25:19.654870Z",
     "iopub.status.idle": "2021-04-10T18:25:19.671652Z",
     "shell.execute_reply": "2021-04-10T18:25:19.672530Z"
    },
    "papermill": {
     "duration": 0.12578,
     "end_time": "2021-04-10T18:25:19.672794",
     "exception": false,
     "start_time": "2021-04-10T18:25:19.547014",
     "status": "completed"
    },
    "tags": []
   },
   "outputs": [
    {
     "name": "stdout",
     "output_type": "stream",
     "text": [
      "Number of training examples: 332\n",
      "Number of validation examples: 68\n"
     ]
    }
   ],
   "source": [
    "NEW_LABELS = 'data/digit_labels.csv'\n",
    "train_numbers = dataset(csv=NEW_LABELS, img_path=ROOT, transform = train_transforms)\n",
    "\n",
    "VALID_RATIO = 0.83 #Stamdard split according to (http://yann.lecun.com/exdb/mnist/).\n",
    "n_train_examples = int(len(train_numbers) * VALID_RATIO)\n",
    "n_valid_examples = len(train_numbers) - n_train_examples\n",
    "train_num_data, valid_num_data = data.random_split(train_numbers, [n_train_examples, n_valid_examples])\n",
    "\n",
    "valid_num_data = copy.deepcopy(valid_num_data)\n",
    "valid_num_data.dataset.transform = train_transforms\n",
    "\n",
    "print(f'Number of training examples: {len(train_num_data)}')\n",
    "print(f'Number of validation examples: {len(valid_num_data)}')"
   ]
  },
  {
   "cell_type": "code",
   "execution_count": 21,
   "id": "chronic-traveler",
   "metadata": {
    "execution": {
     "iopub.execute_input": "2021-04-10T18:25:19.878280Z",
     "iopub.status.busy": "2021-04-10T18:25:19.875911Z",
     "iopub.status.idle": "2021-04-10T18:25:19.879031Z",
     "shell.execute_reply": "2021-04-10T18:25:19.879539Z"
    },
    "papermill": {
     "duration": 0.108005,
     "end_time": "2021-04-10T18:25:19.879702",
     "exception": false,
     "start_time": "2021-04-10T18:25:19.771697",
     "status": "completed"
    },
    "tags": []
   },
   "outputs": [],
   "source": [
    "train_num_iterator = data.DataLoader(train_num_data, batch_size = 8)\n",
    "valid_num_iterator = data.DataLoader(valid_num_data, batch_size = 8)"
   ]
  },
  {
   "cell_type": "markdown",
   "id": "friendly-september",
   "metadata": {
    "papermill": {
     "duration": 0.096127,
     "end_time": "2021-04-10T18:25:20.072367",
     "exception": false,
     "start_time": "2021-04-10T18:25:19.976240",
     "status": "completed"
    },
    "tags": []
   },
   "source": [
    "## B.3. Trained Model"
   ]
  },
  {
   "cell_type": "code",
   "execution_count": 22,
   "id": "foreign-highland",
   "metadata": {
    "execution": {
     "iopub.execute_input": "2021-04-10T18:25:20.271290Z",
     "iopub.status.busy": "2021-04-10T18:25:20.270350Z",
     "iopub.status.idle": "2021-04-10T18:25:20.986750Z",
     "shell.execute_reply": "2021-04-10T18:25:20.985746Z"
    },
    "papermill": {
     "duration": 0.817503,
     "end_time": "2021-04-10T18:25:20.986925",
     "exception": false,
     "start_time": "2021-04-10T18:25:20.169422",
     "status": "completed"
    },
    "tags": []
   },
   "outputs": [
    {
     "data": {
      "text/plain": [
       "Net(\n",
       "  (features): Sequential(\n",
       "    (0): Conv2d(3, 64, kernel_size=(11, 11), stride=(4, 4), padding=(2, 2))\n",
       "    (1): ReLU(inplace=True)\n",
       "    (2): MaxPool2d(kernel_size=3, stride=2, padding=0, dilation=1, ceil_mode=False)\n",
       "    (3): Conv2d(64, 192, kernel_size=(5, 5), stride=(1, 1), padding=(2, 2))\n",
       "    (4): ReLU(inplace=True)\n",
       "    (5): MaxPool2d(kernel_size=3, stride=2, padding=0, dilation=1, ceil_mode=False)\n",
       "    (6): Conv2d(192, 384, kernel_size=(3, 3), stride=(1, 1), padding=(1, 1))\n",
       "    (7): ReLU(inplace=True)\n",
       "    (8): Conv2d(384, 256, kernel_size=(3, 3), stride=(1, 1), padding=(1, 1))\n",
       "    (9): ReLU(inplace=True)\n",
       "    (10): Conv2d(256, 256, kernel_size=(3, 3), stride=(1, 1), padding=(1, 1))\n",
       "    (11): ReLU(inplace=True)\n",
       "    (12): MaxPool2d(kernel_size=3, stride=2, padding=0, dilation=1, ceil_mode=False)\n",
       "  )\n",
       "  (avgpool): AdaptiveAvgPool2d(output_size=(6, 6))\n",
       "  (classifier): Sequential(\n",
       "    (0): Dropout(p=0.5, inplace=False)\n",
       "    (1): Linear(in_features=9216, out_features=4096, bias=True)\n",
       "    (2): ReLU(inplace=True)\n",
       "    (3): Dropout(p=0.5, inplace=False)\n",
       "    (4): Linear(in_features=4096, out_features=4096, bias=True)\n",
       "    (5): ReLU(inplace=True)\n",
       "    (6): Linear(in_features=4096, out_features=62, bias=True)\n",
       "  )\n",
       ")"
      ]
     },
     "execution_count": 22,
     "metadata": {},
     "output_type": "execute_result"
    }
   ],
   "source": [
    "model_trained = Net(62)\n",
    "model_trained.load_state_dict(torch.load('./model.pt'))\n",
    "model_trained.train()"
   ]
  },
  {
   "cell_type": "markdown",
   "id": "later-series",
   "metadata": {
    "papermill": {
     "duration": 0.096879,
     "end_time": "2021-04-10T18:25:21.180937",
     "exception": false,
     "start_time": "2021-04-10T18:25:21.084058",
     "status": "completed"
    },
    "tags": []
   },
   "source": [
    "While using pretrained model we have to make sure that the last layers match the output to number of classes. The number of classes is changed from 62 to 10 digits. Thus I have changed the last fully connected layer as follows,"
   ]
  },
  {
   "cell_type": "code",
   "execution_count": 23,
   "id": "sound-sessions",
   "metadata": {
    "execution": {
     "iopub.execute_input": "2021-04-10T18:25:21.384429Z",
     "iopub.status.busy": "2021-04-10T18:25:21.383499Z",
     "iopub.status.idle": "2021-04-10T18:25:21.424063Z",
     "shell.execute_reply": "2021-04-10T18:25:21.423358Z"
    },
    "papermill": {
     "duration": 0.144598,
     "end_time": "2021-04-10T18:25:21.424240",
     "exception": false,
     "start_time": "2021-04-10T18:25:21.279642",
     "status": "completed"
    },
    "tags": []
   },
   "outputs": [],
   "source": [
    "model_trained.classifier[4] = torch.nn.Linear(4096,1024)\n",
    "model_trained.classifier[6] = torch.nn.Linear(1024,10)"
   ]
  },
  {
   "cell_type": "markdown",
   "id": "colonial-clearing",
   "metadata": {
    "papermill": {
     "duration": 0.100268,
     "end_time": "2021-04-10T18:25:21.622947",
     "exception": false,
     "start_time": "2021-04-10T18:25:21.522679",
     "status": "completed"
    },
    "tags": []
   },
   "source": [
    "## B.3.1. Hyperparameters for pretrained model\n",
    "\n",
    "- Cross Entropy Loss : Because multi class classification\n",
    "- Stochastic Gradient Descent : Optimizer Function\n",
    "- Learning rate : 0.001"
   ]
  },
  {
   "cell_type": "code",
   "execution_count": 24,
   "id": "oriental-belize",
   "metadata": {
    "execution": {
     "iopub.execute_input": "2021-04-10T18:25:21.826414Z",
     "iopub.status.busy": "2021-04-10T18:25:21.825703Z",
     "iopub.status.idle": "2021-04-10T18:25:21.868203Z",
     "shell.execute_reply": "2021-04-10T18:25:21.868693Z"
    },
    "papermill": {
     "duration": 0.145828,
     "end_time": "2021-04-10T18:25:21.868959",
     "exception": false,
     "start_time": "2021-04-10T18:25:21.723131",
     "status": "completed"
    },
    "tags": []
   },
   "outputs": [
    {
     "data": {
      "text/plain": [
       "device(type='cuda')"
      ]
     },
     "execution_count": 24,
     "metadata": {},
     "output_type": "execute_result"
    }
   ],
   "source": [
    "model_trained.to(device)\n",
    "criterion_num = torch.nn.CrossEntropyLoss()\n",
    "optimizer_num = torch.optim.SGD(model_trained.parameters(), lr=0.001)\n",
    "device"
   ]
  },
  {
   "cell_type": "code",
   "execution_count": 25,
   "id": "owned-guide",
   "metadata": {
    "execution": {
     "iopub.execute_input": "2021-04-10T18:25:22.076913Z",
     "iopub.status.busy": "2021-04-10T18:25:22.075595Z",
     "iopub.status.idle": "2021-04-10T18:25:22.081069Z",
     "shell.execute_reply": "2021-04-10T18:25:22.080419Z"
    },
    "papermill": {
     "duration": 0.111485,
     "end_time": "2021-04-10T18:25:22.081268",
     "exception": false,
     "start_time": "2021-04-10T18:25:21.969783",
     "status": "completed"
    },
    "tags": []
   },
   "outputs": [
    {
     "data": {
      "text/plain": [
       "Net(\n",
       "  (features): Sequential(\n",
       "    (0): Conv2d(3, 64, kernel_size=(11, 11), stride=(4, 4), padding=(2, 2))\n",
       "    (1): ReLU(inplace=True)\n",
       "    (2): MaxPool2d(kernel_size=3, stride=2, padding=0, dilation=1, ceil_mode=False)\n",
       "    (3): Conv2d(64, 192, kernel_size=(5, 5), stride=(1, 1), padding=(2, 2))\n",
       "    (4): ReLU(inplace=True)\n",
       "    (5): MaxPool2d(kernel_size=3, stride=2, padding=0, dilation=1, ceil_mode=False)\n",
       "    (6): Conv2d(192, 384, kernel_size=(3, 3), stride=(1, 1), padding=(1, 1))\n",
       "    (7): ReLU(inplace=True)\n",
       "    (8): Conv2d(384, 256, kernel_size=(3, 3), stride=(1, 1), padding=(1, 1))\n",
       "    (9): ReLU(inplace=True)\n",
       "    (10): Conv2d(256, 256, kernel_size=(3, 3), stride=(1, 1), padding=(1, 1))\n",
       "    (11): ReLU(inplace=True)\n",
       "    (12): MaxPool2d(kernel_size=3, stride=2, padding=0, dilation=1, ceil_mode=False)\n",
       "  )\n",
       "  (avgpool): AdaptiveAvgPool2d(output_size=(6, 6))\n",
       "  (classifier): Sequential(\n",
       "    (0): Dropout(p=0.5, inplace=False)\n",
       "    (1): Linear(in_features=9216, out_features=4096, bias=True)\n",
       "    (2): ReLU(inplace=True)\n",
       "    (3): Dropout(p=0.5, inplace=False)\n",
       "    (4): Linear(in_features=4096, out_features=1024, bias=True)\n",
       "    (5): ReLU(inplace=True)\n",
       "    (6): Linear(in_features=1024, out_features=10, bias=True)\n",
       "  )\n",
       ")"
      ]
     },
     "execution_count": 25,
     "metadata": {},
     "output_type": "execute_result"
    }
   ],
   "source": [
    "model_trained"
   ]
  },
  {
   "cell_type": "markdown",
   "id": "under-council",
   "metadata": {
    "papermill": {
     "duration": 0.103795,
     "end_time": "2021-04-10T18:25:22.284276",
     "exception": false,
     "start_time": "2021-04-10T18:25:22.180481",
     "status": "completed"
    },
    "tags": []
   },
   "source": [
    "## B.4. Training the pretrained model\n",
    "\n",
    "The model is trained for only 20 epochs to save it from overfitting. "
   ]
  },
  {
   "cell_type": "code",
   "execution_count": 26,
   "id": "personalized-barcelona",
   "metadata": {
    "execution": {
     "iopub.execute_input": "2021-04-10T18:25:22.489751Z",
     "iopub.status.busy": "2021-04-10T18:25:22.488771Z",
     "iopub.status.idle": "2021-04-10T18:29:05.028387Z",
     "shell.execute_reply": "2021-04-10T18:29:05.027705Z"
    },
    "papermill": {
     "duration": 222.644485,
     "end_time": "2021-04-10T18:29:05.028554",
     "exception": false,
     "start_time": "2021-04-10T18:25:22.384069",
     "status": "completed"
    },
    "tags": []
   },
   "outputs": [
    {
     "name": "stdout",
     "output_type": "stream",
     "text": [
      "Epoch: 1 \tTraining Loss: 0.266394 \tValidation Loss: 0.234393\n",
      "Validation loss decreased (inf --> 0.234393).  Saving model ...\n",
      "Epoch: 2 \tTraining Loss: 0.203142 \tValidation Loss: 0.160883\n",
      "Validation loss decreased (0.234393 --> 0.160883).  Saving model ...\n",
      "Epoch: 3 \tTraining Loss: 0.146046 \tValidation Loss: 0.103641\n",
      "Validation loss decreased (0.160883 --> 0.103641).  Saving model ...\n",
      "Epoch: 4 \tTraining Loss: 0.104443 \tValidation Loss: 0.093944\n",
      "Validation loss decreased (0.103641 --> 0.093944).  Saving model ...\n",
      "Epoch: 5 \tTraining Loss: 0.086875 \tValidation Loss: 0.063734\n",
      "Validation loss decreased (0.093944 --> 0.063734).  Saving model ...\n",
      "Epoch: 6 \tTraining Loss: 0.081074 \tValidation Loss: 0.060815\n",
      "Validation loss decreased (0.063734 --> 0.060815).  Saving model ...\n",
      "Epoch: 7 \tTraining Loss: 0.075107 \tValidation Loss: 0.051354\n",
      "Validation loss decreased (0.060815 --> 0.051354).  Saving model ...\n",
      "Epoch: 8 \tTraining Loss: 0.065035 \tValidation Loss: 0.055414\n",
      "Epoch: 9 \tTraining Loss: 0.059853 \tValidation Loss: 0.046846\n",
      "Validation loss decreased (0.051354 --> 0.046846).  Saving model ...\n",
      "Epoch: 10 \tTraining Loss: 0.054263 \tValidation Loss: 0.045809\n",
      "Validation loss decreased (0.046846 --> 0.045809).  Saving model ...\n",
      "Epoch: 11 \tTraining Loss: 0.059477 \tValidation Loss: 0.048155\n",
      "Epoch: 12 \tTraining Loss: 0.048632 \tValidation Loss: 0.035350\n",
      "Validation loss decreased (0.045809 --> 0.035350).  Saving model ...\n",
      "Epoch: 13 \tTraining Loss: 0.044874 \tValidation Loss: 0.037593\n",
      "Epoch: 14 \tTraining Loss: 0.044897 \tValidation Loss: 0.088168\n",
      "Epoch: 15 \tTraining Loss: 0.045231 \tValidation Loss: 0.037722\n",
      "Epoch: 16 \tTraining Loss: 0.035522 \tValidation Loss: 0.037565\n",
      "Epoch: 17 \tTraining Loss: 0.047928 \tValidation Loss: 0.039948\n",
      "Epoch: 18 \tTraining Loss: 0.039787 \tValidation Loss: 0.031349\n",
      "Validation loss decreased (0.035350 --> 0.031349).  Saving model ...\n",
      "Epoch: 19 \tTraining Loss: 0.030324 \tValidation Loss: 0.036410\n",
      "Epoch: 20 \tTraining Loss: 0.031697 \tValidation Loss: 0.047373\n"
     ]
    }
   ],
   "source": [
    "train_loss_digits, valid_loss_digits, train_acc_digits, valid_acc_digits = train_model(model=model_trained, #pretrained model from section B.3.\n",
    "                                             num_epochs=20,\n",
    "                                             train_iterator=train_num_iterator,\n",
    "                                             valid_iterator=valid_num_iterator, \n",
    "                                             optimizer=optimizer_num,\n",
    "                                             criterion=criterion_num, \n",
    "                                            device=device, model_name=\"model_1.pt\")"
   ]
  },
  {
   "cell_type": "code",
   "execution_count": 27,
   "id": "failing-slope",
   "metadata": {
    "execution": {
     "iopub.execute_input": "2021-04-10T18:29:05.288312Z",
     "iopub.status.busy": "2021-04-10T18:29:05.286311Z",
     "iopub.status.idle": "2021-04-10T18:29:05.640498Z",
     "shell.execute_reply": "2021-04-10T18:29:05.641460Z"
    },
    "papermill": {
     "duration": 0.499561,
     "end_time": "2021-04-10T18:29:05.641715",
     "exception": false,
     "start_time": "2021-04-10T18:29:05.142154",
     "status": "completed"
    },
    "tags": []
   },
   "outputs": [
    {
     "data": {
      "image/png": "[encoded data removed]",
      "text/plain": [
       "<Figure size 432x288 with 1 Axes>"
      ]
     },
     "metadata": {
      "needs_background": "light"
     },
     "output_type": "display_data"
    }
   ],
   "source": [
    "plot_loss(train_loss_digits, valid_loss_digits)"
   ]
  },
  {
   "cell_type": "code",
   "execution_count": 28,
   "id": "baking-glenn",
   "metadata": {
    "execution": {
     "iopub.execute_input": "2021-04-10T18:29:06.076166Z",
     "iopub.status.busy": "2021-04-10T18:29:06.074805Z",
     "iopub.status.idle": "2021-04-10T18:29:06.388023Z",
     "shell.execute_reply": "2021-04-10T18:29:06.387421Z"
    },
    "papermill": {
     "duration": 0.529492,
     "end_time": "2021-04-10T18:29:06.388170",
     "exception": false,
     "start_time": "2021-04-10T18:29:05.858678",
     "status": "completed"
    },
    "tags": []
   },
   "outputs": [
    {
     "data": {
      "image/png": "[encoded data removed]",
      "text/plain": [
       "<Figure size 432x288 with 1 Axes>"
      ]
     },
     "metadata": {
      "needs_background": "light"
     },
     "output_type": "display_data"
    }
   ],
   "source": [
    "plot_loss(train_acc_digits, valid_acc_digits)"
   ]
  },
  {
   "cell_type": "code",
   "execution_count": 29,
   "id": "operational-newcastle",
   "metadata": {
    "execution": {
     "iopub.execute_input": "2021-04-10T18:29:06.633339Z",
     "iopub.status.busy": "2021-04-10T18:29:06.632236Z",
     "iopub.status.idle": "2021-04-10T18:29:14.934310Z",
     "shell.execute_reply": "2021-04-10T18:29:14.933369Z"
    },
    "papermill": {
     "duration": 8.427141,
     "end_time": "2021-04-10T18:29:14.934602",
     "exception": false,
     "start_time": "2021-04-10T18:29:06.507461",
     "status": "completed"
    },
    "tags": []
   },
   "outputs": [
    {
     "name": "stdout",
     "output_type": "stream",
     "text": [
      "Got 316 / 332 with accuracy 95.18\n"
     ]
    }
   ],
   "source": [
    "cal_accuracy(train_num_iterator, model_trained, device)"
   ]
  },
  {
   "cell_type": "code",
   "execution_count": 30,
   "id": "exterior-stranger",
   "metadata": {
    "execution": {
     "iopub.execute_input": "2021-04-10T18:29:15.160083Z",
     "iopub.status.busy": "2021-04-10T18:29:15.159003Z",
     "iopub.status.idle": "2021-04-10T18:29:17.122395Z",
     "shell.execute_reply": "2021-04-10T18:29:17.121782Z"
    },
    "papermill": {
     "duration": 2.076954,
     "end_time": "2021-04-10T18:29:17.122579",
     "exception": false,
     "start_time": "2021-04-10T18:29:15.045625",
     "status": "completed"
    },
    "tags": []
   },
   "outputs": [
    {
     "name": "stdout",
     "output_type": "stream",
     "text": [
      "Got 62 / 68 with accuracy 91.18\n"
     ]
    }
   ],
   "source": [
    "cal_accuracy(valid_num_iterator, model_trained, device)"
   ]
  },
  {
   "cell_type": "markdown",
   "id": "uniform-strengthening",
   "metadata": {
    "papermill": {
     "duration": 0.113488,
     "end_time": "2021-04-10T18:29:17.348604",
     "exception": false,
     "start_time": "2021-04-10T18:29:17.235116",
     "status": "completed"
    },
    "tags": []
   },
   "source": [
    "## B.5. Model Scratch training on Digits "
   ]
  },
  {
   "cell_type": "code",
   "execution_count": 31,
   "id": "general-mistake",
   "metadata": {
    "execution": {
     "iopub.execute_input": "2021-04-10T18:29:17.577249Z",
     "iopub.status.busy": "2021-04-10T18:29:17.576314Z",
     "iopub.status.idle": "2021-04-10T18:29:18.082967Z",
     "shell.execute_reply": "2021-04-10T18:29:18.083546Z"
    },
    "papermill": {
     "duration": 0.622275,
     "end_time": "2021-04-10T18:29:18.083725",
     "exception": false,
     "start_time": "2021-04-10T18:29:17.461450",
     "status": "completed"
    },
    "tags": []
   },
   "outputs": [
    {
     "data": {
      "text/plain": [
       "Net(\n",
       "  (features): Sequential(\n",
       "    (0): Conv2d(3, 64, kernel_size=(11, 11), stride=(4, 4), padding=(2, 2))\n",
       "    (1): ReLU(inplace=True)\n",
       "    (2): MaxPool2d(kernel_size=3, stride=2, padding=0, dilation=1, ceil_mode=False)\n",
       "    (3): Conv2d(64, 192, kernel_size=(5, 5), stride=(1, 1), padding=(2, 2))\n",
       "    (4): ReLU(inplace=True)\n",
       "    (5): MaxPool2d(kernel_size=3, stride=2, padding=0, dilation=1, ceil_mode=False)\n",
       "    (6): Conv2d(192, 384, kernel_size=(3, 3), stride=(1, 1), padding=(1, 1))\n",
       "    (7): ReLU(inplace=True)\n",
       "    (8): Conv2d(384, 256, kernel_size=(3, 3), stride=(1, 1), padding=(1, 1))\n",
       "    (9): ReLU(inplace=True)\n",
       "    (10): Conv2d(256, 256, kernel_size=(3, 3), stride=(1, 1), padding=(1, 1))\n",
       "    (11): ReLU(inplace=True)\n",
       "    (12): MaxPool2d(kernel_size=3, stride=2, padding=0, dilation=1, ceil_mode=False)\n",
       "  )\n",
       "  (avgpool): AdaptiveAvgPool2d(output_size=(6, 6))\n",
       "  (classifier): Sequential(\n",
       "    (0): Dropout(p=0.5, inplace=False)\n",
       "    (1): Linear(in_features=9216, out_features=4096, bias=True)\n",
       "    (2): ReLU(inplace=True)\n",
       "    (3): Dropout(p=0.5, inplace=False)\n",
       "    (4): Linear(in_features=4096, out_features=4096, bias=True)\n",
       "    (5): ReLU(inplace=True)\n",
       "    (6): Linear(in_features=4096, out_features=10, bias=True)\n",
       "  )\n",
       ")"
      ]
     },
     "execution_count": 31,
     "metadata": {},
     "output_type": "execute_result"
    }
   ],
   "source": [
    "model_digits = Net(10)\n",
    "model_digits"
   ]
  },
  {
   "cell_type": "code",
   "execution_count": 32,
   "id": "catholic-sessions",
   "metadata": {
    "execution": {
     "iopub.execute_input": "2021-04-10T18:29:18.313960Z",
     "iopub.status.busy": "2021-04-10T18:29:18.312706Z",
     "iopub.status.idle": "2021-04-10T18:29:18.365678Z",
     "shell.execute_reply": "2021-04-10T18:29:18.366331Z"
    },
    "papermill": {
     "duration": 0.17271,
     "end_time": "2021-04-10T18:29:18.366527",
     "exception": false,
     "start_time": "2021-04-10T18:29:18.193817",
     "status": "completed"
    },
    "tags": []
   },
   "outputs": [
    {
     "data": {
      "text/plain": [
       "device(type='cuda')"
      ]
     },
     "execution_count": 32,
     "metadata": {},
     "output_type": "execute_result"
    }
   ],
   "source": [
    "model_digits.to(device)\n",
    "criterion_digits= torch.nn.CrossEntropyLoss()\n",
    "optimizer_digits = torch.optim.SGD(model_digits.parameters(), lr=0.001)\n",
    "device"
   ]
  },
  {
   "cell_type": "code",
   "execution_count": 33,
   "id": "collective-clearing",
   "metadata": {
    "execution": {
     "iopub.execute_input": "2021-04-10T18:29:18.592500Z",
     "iopub.status.busy": "2021-04-10T18:29:18.591541Z",
     "iopub.status.idle": "2021-04-10T18:32:59.098711Z",
     "shell.execute_reply": "2021-04-10T18:32:59.097159Z"
    },
    "papermill": {
     "duration": 220.621358,
     "end_time": "2021-04-10T18:32:59.098910",
     "exception": false,
     "start_time": "2021-04-10T18:29:18.477552",
     "status": "completed"
    },
    "tags": []
   },
   "outputs": [
    {
     "name": "stdout",
     "output_type": "stream",
     "text": [
      "Epoch: 1 \tTraining Loss: 0.291300 \tValidation Loss: 0.304940\n",
      "Validation loss decreased (inf --> 0.304940).  Saving model ...\n",
      "Epoch: 2 \tTraining Loss: 0.291308 \tValidation Loss: 0.304947\n",
      "Epoch: 3 \tTraining Loss: 0.291278 \tValidation Loss: 0.304948\n",
      "Epoch: 4 \tTraining Loss: 0.291279 \tValidation Loss: 0.304944\n",
      "Epoch: 5 \tTraining Loss: 0.291262 \tValidation Loss: 0.304950\n",
      "Epoch: 6 \tTraining Loss: 0.291269 \tValidation Loss: 0.304946\n",
      "Epoch: 7 \tTraining Loss: 0.291308 \tValidation Loss: 0.304950\n",
      "Epoch: 8 \tTraining Loss: 0.291255 \tValidation Loss: 0.304948\n",
      "Epoch: 9 \tTraining Loss: 0.291306 \tValidation Loss: 0.304949\n",
      "Epoch: 10 \tTraining Loss: 0.291270 \tValidation Loss: 0.304950\n",
      "Epoch: 11 \tTraining Loss: 0.291281 \tValidation Loss: 0.304945\n",
      "Epoch: 12 \tTraining Loss: 0.291235 \tValidation Loss: 0.304945\n",
      "Epoch: 13 \tTraining Loss: 0.291312 \tValidation Loss: 0.304947\n",
      "Epoch: 14 \tTraining Loss: 0.291270 \tValidation Loss: 0.304947\n",
      "Epoch: 15 \tTraining Loss: 0.291247 \tValidation Loss: 0.304954\n",
      "Epoch: 16 \tTraining Loss: 0.291270 \tValidation Loss: 0.304955\n",
      "Epoch: 17 \tTraining Loss: 0.291234 \tValidation Loss: 0.304943\n",
      "Epoch: 18 \tTraining Loss: 0.291264 \tValidation Loss: 0.304947\n",
      "Epoch: 19 \tTraining Loss: 0.291315 \tValidation Loss: 0.304950\n",
      "Epoch: 20 \tTraining Loss: 0.291283 \tValidation Loss: 0.304949\n"
     ]
    }
   ],
   "source": [
    "tr_loss, val_loss, tr_acc, val_acc = train_model(model=model_digits, #model from scratch \n",
    "                                             num_epochs=20,\n",
    "                                             train_iterator=train_num_iterator,\n",
    "                                             valid_iterator=valid_num_iterator, \n",
    "                                             optimizer=optimizer_num,\n",
    "                                             criterion=criterion_num, \n",
    "                                            device=device, model_name=\"model_2.pt\")"
   ]
  },
  {
   "cell_type": "code",
   "execution_count": 34,
   "id": "harmful-bookmark",
   "metadata": {
    "execution": {
     "iopub.execute_input": "2021-04-10T18:32:59.357732Z",
     "iopub.status.busy": "2021-04-10T18:32:59.356613Z",
     "iopub.status.idle": "2021-04-10T18:32:59.624765Z",
     "shell.execute_reply": "2021-04-10T18:32:59.623817Z"
    },
    "papermill": {
     "duration": 0.405611,
     "end_time": "2021-04-10T18:32:59.624995",
     "exception": false,
     "start_time": "2021-04-10T18:32:59.219384",
     "status": "completed"
    },
    "tags": []
   },
   "outputs": [
    {
     "data": {
      "image/png": "[encoded data removed]",
      "text/plain": [
       "<Figure size 432x288 with 1 Axes>"
      ]
     },
     "metadata": {
      "needs_background": "light"
     },
     "output_type": "display_data"
    }
   ],
   "source": [
    "plot_loss(tr_loss, val_loss)"
   ]
  },
  {
   "cell_type": "code",
   "execution_count": 35,
   "id": "broken-speech",
   "metadata": {
    "execution": {
     "iopub.execute_input": "2021-04-10T18:32:59.892409Z",
     "iopub.status.busy": "2021-04-10T18:32:59.890847Z",
     "iopub.status.idle": "2021-04-10T18:33:00.153862Z",
     "shell.execute_reply": "2021-04-10T18:33:00.153223Z"
    },
    "papermill": {
     "duration": 0.40642,
     "end_time": "2021-04-10T18:33:00.154029",
     "exception": false,
     "start_time": "2021-04-10T18:32:59.747609",
     "status": "completed"
    },
    "tags": []
   },
   "outputs": [
    {
     "data": {
      "image/png": "[encoded data removed]",
      "text/plain": [
       "<Figure size 432x288 with 1 Axes>"
      ]
     },
     "metadata": {
      "needs_background": "light"
     },
     "output_type": "display_data"
    }
   ],
   "source": [
    "plot_loss(tr_acc, val_acc)"
   ]
  },
  {
   "cell_type": "code",
   "execution_count": 36,
   "id": "coastal-meter",
   "metadata": {
    "execution": {
     "iopub.execute_input": "2021-04-10T18:33:00.408168Z",
     "iopub.status.busy": "2021-04-10T18:33:00.407021Z",
     "iopub.status.idle": "2021-04-10T18:33:11.173939Z",
     "shell.execute_reply": "2021-04-10T18:33:11.174737Z"
    },
    "papermill": {
     "duration": 10.896736,
     "end_time": "2021-04-10T18:33:11.175039",
     "exception": false,
     "start_time": "2021-04-10T18:33:00.278303",
     "status": "completed"
    },
    "tags": []
   },
   "outputs": [
    {
     "name": "stdout",
     "output_type": "stream",
     "text": [
      "Got 34 / 332 with accuracy 10.24\n",
      "Train: None\n",
      "Got 6 / 68 with accuracy 8.82\n",
      "Valid: None\n"
     ]
    }
   ],
   "source": [
    "print(\"Train:\", cal_accuracy(train_num_iterator, model_digits, device))\n",
    "print(\"Valid:\", cal_accuracy(valid_num_iterator, model_digits, device))"
   ]
  },
  {
   "cell_type": "markdown",
   "id": "color-variable",
   "metadata": {
    "papermill": {
     "duration": 0.126598,
     "end_time": "2021-04-10T18:33:11.427097",
     "exception": false,
     "start_time": "2021-04-10T18:33:11.300499",
     "status": "completed"
    },
    "tags": []
   },
   "source": [
    "## B.5. Conclusion\n",
    "\n",
    "In this section we notice that model works better than before. This is because the same model has already 'learned' the features, i.e. the weights. In the pretrained case we observe accuracies around 92 percent for training and 89 percent for testing. But in case of scratch model trained on digits with same hyper parameters we observe poor performance. "
   ]
  },
  {
   "cell_type": "markdown",
   "id": "funny-kidney",
   "metadata": {
    "papermill": {
     "duration": 0.124203,
     "end_time": "2021-04-10T18:33:11.676651",
     "exception": false,
     "start_time": "2021-04-10T18:33:11.552448",
     "status": "completed"
    },
    "tags": []
   },
   "source": [
    "# Section C: Digit Images Classification on different dataset\n",
    "---"
   ]
  },
  {
   "cell_type": "markdown",
   "id": "danish-worthy",
   "metadata": {
    "papermill": {
     "duration": 0.122589,
     "end_time": "2021-04-10T18:33:11.924766",
     "exception": false,
     "start_time": "2021-04-10T18:33:11.802177",
     "status": "completed"
    },
    "tags": []
   },
   "source": [
    "## C.1. Loading data and model "
   ]
  },
  {
   "cell_type": "code",
   "execution_count": 37,
   "id": "direct-receptor",
   "metadata": {
    "execution": {
     "iopub.execute_input": "2021-04-10T18:33:12.179090Z",
     "iopub.status.busy": "2021-04-10T18:33:12.178334Z",
     "iopub.status.idle": "2021-04-10T18:34:37.771316Z",
     "shell.execute_reply": "2021-04-10T18:34:37.770257Z"
    },
    "papermill": {
     "duration": 85.721727,
     "end_time": "2021-04-10T18:34:37.771545",
     "exception": false,
     "start_time": "2021-04-10T18:33:12.049818",
     "status": "completed"
    },
    "tags": []
   },
   "outputs": [],
   "source": [
    "data_folder = '../input/task3/mnistTask'\n",
    "new_data = datasets.ImageFolder(root = data_folder, transform=train_transforms)"
   ]
  },
  {
   "cell_type": "code",
   "execution_count": 38,
   "id": "aquatic-harrison",
   "metadata": {
    "execution": {
     "iopub.execute_input": "2021-04-10T18:34:38.018094Z",
     "iopub.status.busy": "2021-04-10T18:34:38.016984Z",
     "iopub.status.idle": "2021-04-10T18:34:38.378306Z",
     "shell.execute_reply": "2021-04-10T18:34:38.379252Z"
    },
    "papermill": {
     "duration": 0.487728,
     "end_time": "2021-04-10T18:34:38.379493",
     "exception": false,
     "start_time": "2021-04-10T18:34:37.891765",
     "status": "completed"
    },
    "tags": []
   },
   "outputs": [
    {
     "name": "stdout",
     "output_type": "stream",
     "text": [
      "Number of training examples: 49800\n",
      "Number of validation examples: 10200\n"
     ]
    }
   ],
   "source": [
    "VALID_RATIO = 0.83\n",
    "new_train_data = int(len(new_data) * VALID_RATIO)\n",
    "new_valid_data = len(new_data) - new_train_data\n",
    "train, valid = data.random_split(new_data, [new_train_data, new_valid_data])\n",
    "\n",
    "valid = copy.deepcopy(valid)\n",
    "valid.dataset.transform = train_transforms\n",
    "\n",
    "print(f'Number of training examples: {len(train)}')\n",
    "print(f'Number of validation examples: {len(valid)}')"
   ]
  },
  {
   "cell_type": "code",
   "execution_count": 39,
   "id": "worth-diameter",
   "metadata": {
    "execution": {
     "iopub.execute_input": "2021-04-10T18:34:38.626200Z",
     "iopub.status.busy": "2021-04-10T18:34:38.625266Z",
     "iopub.status.idle": "2021-04-10T18:34:38.628687Z",
     "shell.execute_reply": "2021-04-10T18:34:38.629291Z"
    },
    "papermill": {
     "duration": 0.128571,
     "end_time": "2021-04-10T18:34:38.629471",
     "exception": false,
     "start_time": "2021-04-10T18:34:38.500900",
     "status": "completed"
    },
    "tags": []
   },
   "outputs": [],
   "source": [
    "train_loader = data.DataLoader(train, batch_size = 256)\n",
    "valid_loader = data.DataLoader(valid, batch_size = 256)"
   ]
  },
  {
   "cell_type": "code",
   "execution_count": 40,
   "id": "rational-regard",
   "metadata": {
    "execution": {
     "iopub.execute_input": "2021-04-10T18:34:38.877671Z",
     "iopub.status.busy": "2021-04-10T18:34:38.876737Z",
     "iopub.status.idle": "2021-04-10T18:34:39.450142Z",
     "shell.execute_reply": "2021-04-10T18:34:39.450745Z"
    },
    "papermill": {
     "duration": 0.700693,
     "end_time": "2021-04-10T18:34:39.450965",
     "exception": false,
     "start_time": "2021-04-10T18:34:38.750272",
     "status": "completed"
    },
    "tags": []
   },
   "outputs": [
    {
     "data": {
      "text/plain": [
       "device(type='cuda')"
      ]
     },
     "execution_count": 40,
     "metadata": {},
     "output_type": "execute_result"
    }
   ],
   "source": [
    "model_scratch = Net(10)\n",
    "model_scratch.to(device)\n",
    "\n",
    "criterion = torch.nn.CrossEntropyLoss()\n",
    "optimizer = torch.optim.Adam(model_scratch.parameters(), lr=1e-4)\n",
    "device"
   ]
  },
  {
   "cell_type": "code",
   "execution_count": 41,
   "id": "corresponding-cleaner",
   "metadata": {
    "execution": {
     "iopub.execute_input": "2021-04-10T18:34:39.699033Z",
     "iopub.status.busy": "2021-04-10T18:34:39.697786Z",
     "iopub.status.idle": "2021-04-10T18:34:39.704259Z",
     "shell.execute_reply": "2021-04-10T18:34:39.703722Z"
    },
    "papermill": {
     "duration": 0.133688,
     "end_time": "2021-04-10T18:34:39.704433",
     "exception": false,
     "start_time": "2021-04-10T18:34:39.570745",
     "status": "completed"
    },
    "tags": []
   },
   "outputs": [
    {
     "data": {
      "text/plain": [
       "Net(\n",
       "  (features): Sequential(\n",
       "    (0): Conv2d(3, 64, kernel_size=(11, 11), stride=(4, 4), padding=(2, 2))\n",
       "    (1): ReLU(inplace=True)\n",
       "    (2): MaxPool2d(kernel_size=3, stride=2, padding=0, dilation=1, ceil_mode=False)\n",
       "    (3): Conv2d(64, 192, kernel_size=(5, 5), stride=(1, 1), padding=(2, 2))\n",
       "    (4): ReLU(inplace=True)\n",
       "    (5): MaxPool2d(kernel_size=3, stride=2, padding=0, dilation=1, ceil_mode=False)\n",
       "    (6): Conv2d(192, 384, kernel_size=(3, 3), stride=(1, 1), padding=(1, 1))\n",
       "    (7): ReLU(inplace=True)\n",
       "    (8): Conv2d(384, 256, kernel_size=(3, 3), stride=(1, 1), padding=(1, 1))\n",
       "    (9): ReLU(inplace=True)\n",
       "    (10): Conv2d(256, 256, kernel_size=(3, 3), stride=(1, 1), padding=(1, 1))\n",
       "    (11): ReLU(inplace=True)\n",
       "    (12): MaxPool2d(kernel_size=3, stride=2, padding=0, dilation=1, ceil_mode=False)\n",
       "  )\n",
       "  (avgpool): AdaptiveAvgPool2d(output_size=(6, 6))\n",
       "  (classifier): Sequential(\n",
       "    (0): Dropout(p=0.5, inplace=False)\n",
       "    (1): Linear(in_features=9216, out_features=4096, bias=True)\n",
       "    (2): ReLU(inplace=True)\n",
       "    (3): Dropout(p=0.5, inplace=False)\n",
       "    (4): Linear(in_features=4096, out_features=4096, bias=True)\n",
       "    (5): ReLU(inplace=True)\n",
       "    (6): Linear(in_features=4096, out_features=10, bias=True)\n",
       "  )\n",
       ")"
      ]
     },
     "execution_count": 41,
     "metadata": {},
     "output_type": "execute_result"
    }
   ],
   "source": [
    "model_scratch"
   ]
  },
  {
   "cell_type": "markdown",
   "id": "meaning-devon",
   "metadata": {
    "papermill": {
     "duration": 0.123914,
     "end_time": "2021-04-10T18:34:39.952633",
     "exception": false,
     "start_time": "2021-04-10T18:34:39.828719",
     "status": "completed"
    },
    "tags": []
   },
   "source": [
    "## C.2. Training Model from scratch"
   ]
  },
  {
   "cell_type": "code",
   "execution_count": 42,
   "id": "solar-serum",
   "metadata": {
    "execution": {
     "iopub.execute_input": "2021-04-10T18:34:40.206157Z",
     "iopub.status.busy": "2021-04-10T18:34:40.205268Z",
     "iopub.status.idle": "2021-04-10T19:46:15.432951Z",
     "shell.execute_reply": "2021-04-10T19:46:15.433988Z"
    },
    "papermill": {
     "duration": 4295.357199,
     "end_time": "2021-04-10T19:46:15.434262",
     "exception": false,
     "start_time": "2021-04-10T18:34:40.077063",
     "status": "completed"
    },
    "tags": []
   },
   "outputs": [
    {
     "name": "stdout",
     "output_type": "stream",
     "text": [
      "Epoch: 1 \tTraining Loss: 0.009016 \tValidation Loss: 0.009024\n",
      "Validation loss decreased (inf --> 0.009024).  Saving model ...\n",
      "Epoch: 2 \tTraining Loss: 0.008993 \tValidation Loss: 0.008992\n",
      "Validation loss decreased (0.009024 --> 0.008992).  Saving model ...\n",
      "Epoch: 3 \tTraining Loss: 0.008968 \tValidation Loss: 0.008955\n",
      "Validation loss decreased (0.008992 --> 0.008955).  Saving model ...\n",
      "Epoch: 4 \tTraining Loss: 0.008909 \tValidation Loss: 0.008892\n",
      "Validation loss decreased (0.008955 --> 0.008892).  Saving model ...\n",
      "Epoch: 5 \tTraining Loss: 0.008859 \tValidation Loss: 0.008839\n",
      "Validation loss decreased (0.008892 --> 0.008839).  Saving model ...\n",
      "Epoch: 6 \tTraining Loss: 0.008803 \tValidation Loss: 0.008783\n",
      "Validation loss decreased (0.008839 --> 0.008783).  Saving model ...\n",
      "Epoch: 7 \tTraining Loss: 0.008762 \tValidation Loss: 0.008773\n",
      "Validation loss decreased (0.008783 --> 0.008773).  Saving model ...\n",
      "Epoch: 8 \tTraining Loss: 0.008749 \tValidation Loss: 0.008770\n",
      "Validation loss decreased (0.008773 --> 0.008770).  Saving model ...\n",
      "Epoch: 9 \tTraining Loss: 0.008741 \tValidation Loss: 0.008765\n",
      "Validation loss decreased (0.008770 --> 0.008765).  Saving model ...\n",
      "Epoch: 10 \tTraining Loss: 0.008731 \tValidation Loss: 0.008745\n",
      "Validation loss decreased (0.008765 --> 0.008745).  Saving model ...\n",
      "Epoch: 11 \tTraining Loss: 0.008728 \tValidation Loss: 0.008764\n",
      "Epoch: 12 \tTraining Loss: 0.008723 \tValidation Loss: 0.008749\n",
      "Epoch: 13 \tTraining Loss: 0.008720 \tValidation Loss: 0.008742\n",
      "Validation loss decreased (0.008745 --> 0.008742).  Saving model ...\n",
      "Epoch: 14 \tTraining Loss: 0.008711 \tValidation Loss: 0.008732\n",
      "Validation loss decreased (0.008742 --> 0.008732).  Saving model ...\n",
      "Epoch: 15 \tTraining Loss: 0.008696 \tValidation Loss: 0.008717\n",
      "Validation loss decreased (0.008732 --> 0.008717).  Saving model ...\n",
      "Epoch: 16 \tTraining Loss: 0.008677 \tValidation Loss: 0.008710\n",
      "Validation loss decreased (0.008717 --> 0.008710).  Saving model ...\n",
      "Epoch: 17 \tTraining Loss: 0.008671 \tValidation Loss: 0.008707\n",
      "Validation loss decreased (0.008710 --> 0.008707).  Saving model ...\n",
      "Epoch: 18 \tTraining Loss: 0.008667 \tValidation Loss: 0.008712\n",
      "Epoch: 19 \tTraining Loss: 0.008662 \tValidation Loss: 0.008712\n",
      "Epoch: 20 \tTraining Loss: 0.008663 \tValidation Loss: 0.008700\n",
      "Validation loss decreased (0.008707 --> 0.008700).  Saving model ...\n",
      "Epoch: 21 \tTraining Loss: 0.008656 \tValidation Loss: 0.008712\n",
      "Epoch: 22 \tTraining Loss: 0.008654 \tValidation Loss: 0.008707\n",
      "Epoch: 23 \tTraining Loss: 0.008654 \tValidation Loss: 0.008706\n",
      "Epoch: 24 \tTraining Loss: 0.008649 \tValidation Loss: 0.008703\n",
      "Epoch: 25 \tTraining Loss: 0.008646 \tValidation Loss: 0.008698\n",
      "Validation loss decreased (0.008700 --> 0.008698).  Saving model ...\n",
      "Epoch: 26 \tTraining Loss: 0.008645 \tValidation Loss: 0.008704\n",
      "Epoch: 27 \tTraining Loss: 0.008641 \tValidation Loss: 0.008698\n",
      "Validation loss decreased (0.008698 --> 0.008698).  Saving model ...\n",
      "Epoch: 28 \tTraining Loss: 0.008641 \tValidation Loss: 0.008696\n",
      "Validation loss decreased (0.008698 --> 0.008696).  Saving model ...\n",
      "Epoch: 29 \tTraining Loss: 0.008637 \tValidation Loss: 0.008705\n",
      "Epoch: 30 \tTraining Loss: 0.008636 \tValidation Loss: 0.008704\n"
     ]
    }
   ],
   "source": [
    "train_loss_scratch, valid_loss_scratch, train_acc_scratch, valid_acc_scratch = train_model(model=model_scratch, #Scratch model \n",
    "                                                                                 num_epochs=30,\n",
    "                                                                                 train_iterator=train_loader,\n",
    "                                                                                 valid_iterator=valid_loader, \n",
    "                                                                                 optimizer=optimizer,\n",
    "                                                                                 criterion=criterion, \n",
    "                                                                                device=device, model_name=\"model_scratch.pt\")"
   ]
  },
  {
   "cell_type": "code",
   "execution_count": 43,
   "id": "potential-benefit",
   "metadata": {
    "execution": {
     "iopub.execute_input": "2021-04-10T19:46:15.743598Z",
     "iopub.status.busy": "2021-04-10T19:46:15.736930Z",
     "iopub.status.idle": "2021-04-10T19:46:16.004145Z",
     "shell.execute_reply": "2021-04-10T19:46:16.005107Z"
    },
    "papermill": {
     "duration": 0.427668,
     "end_time": "2021-04-10T19:46:16.005291",
     "exception": false,
     "start_time": "2021-04-10T19:46:15.577623",
     "status": "completed"
    },
    "tags": []
   },
   "outputs": [
    {
     "data": {
      "image/png": "[encoded data removed]",
      "text/plain": [
       "<Figure size 432x288 with 1 Axes>"
      ]
     },
     "metadata": {
      "needs_background": "light"
     },
     "output_type": "display_data"
    }
   ],
   "source": [
    "plot_loss(train_loss_scratch, valid_loss_scratch)"
   ]
  },
  {
   "cell_type": "code",
   "execution_count": 44,
   "id": "twenty-style",
   "metadata": {
    "execution": {
     "iopub.execute_input": "2021-04-10T19:46:16.439746Z",
     "iopub.status.busy": "2021-04-10T19:46:16.438543Z",
     "iopub.status.idle": "2021-04-10T19:46:16.919632Z",
     "shell.execute_reply": "2021-04-10T19:46:16.921012Z"
    },
    "papermill": {
     "duration": 0.778615,
     "end_time": "2021-04-10T19:46:16.921278",
     "exception": false,
     "start_time": "2021-04-10T19:46:16.142663",
     "status": "completed"
    },
    "tags": []
   },
   "outputs": [
    {
     "data": {
      "image/png": "[encoded data removed]",
      "text/plain": [
       "<Figure size 432x288 with 1 Axes>"
      ]
     },
     "metadata": {
      "needs_background": "light"
     },
     "output_type": "display_data"
    }
   ],
   "source": [
    "plot_loss(train_acc_scratch, valid_acc_scratch)"
   ]
  },
  {
   "cell_type": "code",
   "execution_count": 45,
   "id": "legitimate-jones",
   "metadata": {
    "execution": {
     "iopub.execute_input": "2021-04-10T19:46:17.296458Z",
     "iopub.status.busy": "2021-04-10T19:46:17.295319Z",
     "iopub.status.idle": "2021-04-10T19:47:32.452322Z",
     "shell.execute_reply": "2021-04-10T19:47:32.453332Z"
    },
    "papermill": {
     "duration": 75.30752,
     "end_time": "2021-04-10T19:47:32.453648",
     "exception": false,
     "start_time": "2021-04-10T19:46:17.146128",
     "status": "completed"
    },
    "tags": []
   },
   "outputs": [
    {
     "name": "stdout",
     "output_type": "stream",
     "text": [
      "Got 6181 / 49800 with accuracy 12.41\n",
      "None\n"
     ]
    }
   ],
   "source": [
    "print(cal_accuracy(train_loader, model_scratch, device))"
   ]
  },
  {
   "cell_type": "code",
   "execution_count": 46,
   "id": "living-drive",
   "metadata": {
    "execution": {
     "iopub.execute_input": "2021-04-10T19:47:32.747558Z",
     "iopub.status.busy": "2021-04-10T19:47:32.746315Z",
     "iopub.status.idle": "2021-04-10T19:47:48.941702Z",
     "shell.execute_reply": "2021-04-10T19:47:48.940497Z"
    },
    "papermill": {
     "duration": 16.342449,
     "end_time": "2021-04-10T19:47:48.941911",
     "exception": false,
     "start_time": "2021-04-10T19:47:32.599462",
     "status": "completed"
    },
    "tags": []
   },
   "outputs": [
    {
     "name": "stdout",
     "output_type": "stream",
     "text": [
      "Got 1090 / 10200 with accuracy 10.69\n",
      "None\n"
     ]
    }
   ],
   "source": [
    "print(cal_accuracy(valid_loader, model_scratch, device))"
   ]
  },
  {
   "cell_type": "markdown",
   "id": "removed-diving",
   "metadata": {
    "papermill": {
     "duration": 0.139345,
     "end_time": "2021-04-10T19:47:49.223553",
     "exception": false,
     "start_time": "2021-04-10T19:47:49.084208",
     "status": "completed"
    },
    "tags": []
   },
   "source": [
    "## C.3. Training the pretrained model (on mnistTask3 dataset)\n"
   ]
  },
  {
   "cell_type": "code",
   "execution_count": 47,
   "id": "streaming-simulation",
   "metadata": {
    "execution": {
     "iopub.execute_input": "2021-04-10T19:47:49.514159Z",
     "iopub.status.busy": "2021-04-10T19:47:49.512910Z",
     "iopub.status.idle": "2021-04-10T19:47:49.518159Z",
     "shell.execute_reply": "2021-04-10T19:47:49.518676Z"
    },
    "papermill": {
     "duration": 0.153359,
     "end_time": "2021-04-10T19:47:49.518880",
     "exception": false,
     "start_time": "2021-04-10T19:47:49.365521",
     "status": "completed"
    },
    "tags": []
   },
   "outputs": [
    {
     "data": {
      "text/plain": [
       "Net(\n",
       "  (features): Sequential(\n",
       "    (0): Conv2d(3, 64, kernel_size=(11, 11), stride=(4, 4), padding=(2, 2))\n",
       "    (1): ReLU(inplace=True)\n",
       "    (2): MaxPool2d(kernel_size=3, stride=2, padding=0, dilation=1, ceil_mode=False)\n",
       "    (3): Conv2d(64, 192, kernel_size=(5, 5), stride=(1, 1), padding=(2, 2))\n",
       "    (4): ReLU(inplace=True)\n",
       "    (5): MaxPool2d(kernel_size=3, stride=2, padding=0, dilation=1, ceil_mode=False)\n",
       "    (6): Conv2d(192, 384, kernel_size=(3, 3), stride=(1, 1), padding=(1, 1))\n",
       "    (7): ReLU(inplace=True)\n",
       "    (8): Conv2d(384, 256, kernel_size=(3, 3), stride=(1, 1), padding=(1, 1))\n",
       "    (9): ReLU(inplace=True)\n",
       "    (10): Conv2d(256, 256, kernel_size=(3, 3), stride=(1, 1), padding=(1, 1))\n",
       "    (11): ReLU(inplace=True)\n",
       "    (12): MaxPool2d(kernel_size=3, stride=2, padding=0, dilation=1, ceil_mode=False)\n",
       "  )\n",
       "  (avgpool): AdaptiveAvgPool2d(output_size=(6, 6))\n",
       "  (classifier): Sequential(\n",
       "    (0): Dropout(p=0.5, inplace=False)\n",
       "    (1): Linear(in_features=9216, out_features=4096, bias=True)\n",
       "    (2): ReLU(inplace=True)\n",
       "    (3): Dropout(p=0.5, inplace=False)\n",
       "    (4): Linear(in_features=4096, out_features=1024, bias=True)\n",
       "    (5): ReLU(inplace=True)\n",
       "    (6): Linear(in_features=1024, out_features=10, bias=True)\n",
       "  )\n",
       ")"
      ]
     },
     "execution_count": 47,
     "metadata": {},
     "output_type": "execute_result"
    }
   ],
   "source": [
    "model_trained "
   ]
  },
  {
   "cell_type": "code",
   "execution_count": 48,
   "id": "afraid-million",
   "metadata": {
    "execution": {
     "iopub.execute_input": "2021-04-10T19:47:49.811511Z",
     "iopub.status.busy": "2021-04-10T19:47:49.810370Z",
     "iopub.status.idle": "2021-04-10T19:47:49.935366Z",
     "shell.execute_reply": "2021-04-10T19:47:49.935987Z"
    },
    "papermill": {
     "duration": 0.276874,
     "end_time": "2021-04-10T19:47:49.936232",
     "exception": false,
     "start_time": "2021-04-10T19:47:49.659358",
     "status": "completed"
    },
    "tags": []
   },
   "outputs": [
    {
     "ename": "NameError",
     "evalue": "name 'num' is not defined",
     "output_type": "error",
     "traceback": [
      "\u001b[0;31m---------------------------------------------------------------------------\u001b[0m",
      "\u001b[0;31mNameError\u001b[0m                                 Traceback (most recent call last)",
      "\u001b[0;32m<ipython-input-48-3ffa6cda782a>\u001b[0m in \u001b[0;36m<module>\u001b[0;34m\u001b[0m\n\u001b[1;32m      1\u001b[0m train_loss_, valid_loss_, train_acc_, valid_acc_ = train_model(model=model_trained, #Pretrained model from section B.3.\n\u001b[0;32m----> 2\u001b[0;31m                                                                                  \u001b[0mnum_epochs\u001b[0m\u001b[0;34m=\u001b[0m\u001b[0mnum\u001b[0m\u001b[0;34m,\u001b[0m\u001b[0;34m\u001b[0m\u001b[0;34m\u001b[0m\u001b[0m\n\u001b[0m\u001b[1;32m      3\u001b[0m                                                                                  \u001b[0mtrain_iterator\u001b[0m\u001b[0;34m=\u001b[0m\u001b[0mtrain_loader\u001b[0m\u001b[0;34m,\u001b[0m\u001b[0;34m\u001b[0m\u001b[0;34m\u001b[0m\u001b[0m\n\u001b[1;32m      4\u001b[0m                                                                                  \u001b[0mvalid_iterator\u001b[0m\u001b[0;34m=\u001b[0m\u001b[0mvalid_loader\u001b[0m\u001b[0;34m,\u001b[0m\u001b[0;34m\u001b[0m\u001b[0;34m\u001b[0m\u001b[0m\n\u001b[1;32m      5\u001b[0m                                                                                  \u001b[0moptimizer\u001b[0m\u001b[0;34m=\u001b[0m\u001b[0moptimizer\u001b[0m\u001b[0;34m,\u001b[0m\u001b[0;34m\u001b[0m\u001b[0;34m\u001b[0m\u001b[0m\n",
      "\u001b[0;31mNameError\u001b[0m: name 'num' is not defined"
     ]
    }
   ],
   "source": [
    "train_loss_, valid_loss_, train_acc_, valid_acc_ = train_model(model=model_trained, #Pretrained model from section B.3.\n",
    "                                                                                 num_epochs=num,\n",
    "                                                                                 train_iterator=train_loader,\n",
    "                                                                                 valid_iterator=valid_loader, \n",
    "                                                                                 optimizer=optimizer,\n",
    "                                                                                 criterion=criterion, \n",
    "                                                                                device=device, model_name=\"model_pretr.pt\")"
   ]
  },
  {
   "cell_type": "code",
   "execution_count": 49,
   "id": "proprietary-rotation",
   "metadata": {
    "execution": {
     "iopub.execute_input": "2021-04-10T19:47:50.237113Z",
     "iopub.status.busy": "2021-04-10T19:47:50.235877Z",
     "iopub.status.idle": "2021-04-10T19:47:50.242162Z",
     "shell.execute_reply": "2021-04-10T19:47:50.241554Z"
    },
    "papermill": {
     "duration": 0.162713,
     "end_time": "2021-04-10T19:47:50.242351",
     "exception": false,
     "start_time": "2021-04-10T19:47:50.079638",
     "status": "completed"
    },
    "tags": []
   },
   "outputs": [
    {
     "ename": "NameError",
     "evalue": "name 'train_loss_' is not defined",
     "output_type": "error",
     "traceback": [
      "\u001b[0;31m---------------------------------------------------------------------------\u001b[0m",
      "\u001b[0;31mNameError\u001b[0m                                 Traceback (most recent call last)",
      "\u001b[0;32m<ipython-input-49-251885767c09>\u001b[0m in \u001b[0;36m<module>\u001b[0;34m\u001b[0m\n\u001b[0;32m----> 1\u001b[0;31m \u001b[0mplot_loss\u001b[0m\u001b[0;34m(\u001b[0m\u001b[0mtrain_loss_\u001b[0m\u001b[0;34m,\u001b[0m \u001b[0mtrain_loss_\u001b[0m\u001b[0;34m)\u001b[0m\u001b[0;34m\u001b[0m\u001b[0;34m\u001b[0m\u001b[0m\n\u001b[0m",
      "\u001b[0;31mNameError\u001b[0m: name 'train_loss_' is not defined"
     ]
    }
   ],
   "source": [
    "plot_loss(train_loss_, train_loss_)"
   ]
  },
  {
   "cell_type": "code",
   "execution_count": 50,
   "id": "third-julian",
   "metadata": {
    "execution": {
     "iopub.execute_input": "2021-04-10T19:47:50.544502Z",
     "iopub.status.busy": "2021-04-10T19:47:50.543368Z",
     "iopub.status.idle": "2021-04-10T19:47:50.548895Z",
     "shell.execute_reply": "2021-04-10T19:47:50.548319Z"
    },
    "papermill": {
     "duration": 0.163527,
     "end_time": "2021-04-10T19:47:50.549057",
     "exception": false,
     "start_time": "2021-04-10T19:47:50.385530",
     "status": "completed"
    },
    "tags": []
   },
   "outputs": [
    {
     "ename": "NameError",
     "evalue": "name 'train_acc_' is not defined",
     "output_type": "error",
     "traceback": [
      "\u001b[0;31m---------------------------------------------------------------------------\u001b[0m",
      "\u001b[0;31mNameError\u001b[0m                                 Traceback (most recent call last)",
      "\u001b[0;32m<ipython-input-50-6985af0a36c1>\u001b[0m in \u001b[0;36m<module>\u001b[0;34m\u001b[0m\n\u001b[0;32m----> 1\u001b[0;31m \u001b[0mplot_loss\u001b[0m\u001b[0;34m(\u001b[0m\u001b[0mtrain_acc_\u001b[0m\u001b[0;34m,\u001b[0m \u001b[0mvalid_acc_\u001b[0m\u001b[0;34m)\u001b[0m\u001b[0;34m\u001b[0m\u001b[0;34m\u001b[0m\u001b[0m\n\u001b[0m",
      "\u001b[0;31mNameError\u001b[0m: name 'train_acc_' is not defined"
     ]
    }
   ],
   "source": [
    "plot_loss(train_acc_, valid_acc_)"
   ]
  },
  {
   "cell_type": "code",
   "execution_count": 51,
   "id": "political-cancer",
   "metadata": {
    "execution": {
     "iopub.execute_input": "2021-04-10T19:47:50.842798Z",
     "iopub.status.busy": "2021-04-10T19:47:50.841698Z",
     "iopub.status.idle": "2021-04-10T19:49:06.352909Z",
     "shell.execute_reply": "2021-04-10T19:49:06.353813Z"
    },
    "papermill": {
     "duration": 75.660248,
     "end_time": "2021-04-10T19:49:06.354131",
     "exception": false,
     "start_time": "2021-04-10T19:47:50.693883",
     "status": "completed"
    },
    "tags": []
   },
   "outputs": [
    {
     "name": "stdout",
     "output_type": "stream",
     "text": [
      "Got 4966 / 49800 with accuracy 9.97\n",
      "None\n"
     ]
    }
   ],
   "source": [
    "print(cal_accuracy(train_loader, model_trained, device))"
   ]
  },
  {
   "cell_type": "code",
   "execution_count": 52,
   "id": "broad-sister",
   "metadata": {
    "execution": {
     "iopub.execute_input": "2021-04-10T19:49:06.649523Z",
     "iopub.status.busy": "2021-04-10T19:49:06.648255Z",
     "iopub.status.idle": "2021-04-10T19:50:21.759981Z",
     "shell.execute_reply": "2021-04-10T19:50:21.760886Z"
    },
    "papermill": {
     "duration": 75.261745,
     "end_time": "2021-04-10T19:50:21.761143",
     "exception": false,
     "start_time": "2021-04-10T19:49:06.499398",
     "status": "completed"
    },
    "tags": []
   },
   "outputs": [
    {
     "name": "stdout",
     "output_type": "stream",
     "text": [
      "Got 4968 / 49800 with accuracy 9.98\n",
      "None\n"
     ]
    }
   ],
   "source": [
    "print(cal_accuracy(train_loader, model_trained, device))"
   ]
  },
  {
   "cell_type": "code",
   "execution_count": null,
   "id": "female-mitchell",
   "metadata": {
    "papermill": {
     "duration": 0.15326,
     "end_time": "2021-04-10T19:50:22.068041",
     "exception": false,
     "start_time": "2021-04-10T19:50:21.914781",
     "status": "completed"
    },
    "tags": []
   },
   "outputs": [],
   "source": []
  },
  {
   "cell_type": "markdown",
   "id": "peaceful-hometown",
   "metadata": {
    "papermill": {
     "duration": 0.152596,
     "end_time": "2021-04-10T19:50:22.374232",
     "exception": false,
     "start_time": "2021-04-10T19:50:22.221636",
     "status": "completed"
    },
    "tags": []
   },
   "source": [
    "# The END!"
   ]
  }
 ],
 "metadata": {
  "kernelspec": {
   "display_name": "Python 3",
   "language": "python",
   "name": "python3"
  },
  "language_info": {
   "codemirror_mode": {
    "name": "ipython",
    "version": 3
   },
   "file_extension": ".py",
   "mimetype": "text/x-python",
   "name": "python",
   "nbconvert_exporter": "python",
   "pygments_lexer": "ipython3",
   "version": "3.7.9"
  },
  "papermill": {
   "default_parameters": {},
   "duration": 11697.551961,
   "end_time": "2021-04-10T19:50:24.044114",
   "environment_variables": {},
   "exception": null,
   "input_path": "__notebook__.ipynb",
   "output_path": "__notebook__.ipynb",
   "parameters": {},
   "start_time": "2021-04-10T16:35:26.492153",
   "version": "2.3.2"
  }
 },
 "nbformat": 4,
 "nbformat_minor": 5
}